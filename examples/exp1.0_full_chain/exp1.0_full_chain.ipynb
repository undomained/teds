{
 "cells": [
  {
   "cell_type": "markdown",
   "metadata": {},
   "source": [
    "# TEDS End-to-End Simulation for TANGO-Carbon"
   ]
  },
  {
   "cell_type": "markdown",
   "metadata": {},
   "source": [
    "### This notebook includes a first processing chain for TANGO Carbon. The chain is setup for consistent processing that is outlined in the following diagram:  "
   ]
  },
  {
   "cell_type": "markdown",
   "metadata": {},
   "source": [
    "![title](./tango_e2es_Carbon_chain_PAM.png)"
   ]
  },
  {
   "cell_type": "markdown",
   "metadata": {},
   "source": [
    "## Reference\n",
    "+ ATBD\n",
    "+ User manual"
   ]
  },
  {
   "cell_type": "markdown",
   "metadata": {},
   "source": [
    "## Initialization"
   ]
  },
  {
   "cell_type": "markdown",
   "metadata": {},
   "source": [
    "#### 1. Setup the working environment"
   ]
  },
  {
   "cell_type": "code",
   "execution_count": 1,
   "metadata": {},
   "outputs": [],
   "source": [
    "import sys\n",
    "import os\n",
    "import yaml\n",
    "\n",
    "# define  path to search for module\n",
    "sys.path.append(\"/home/jochen/TANGO_E2ES/EndtoEndProject/end_to_end/\")\n",
    "os.chdir(\"/home/jochen/TANGO_E2ES/EndtoEndProject/end_to_end/examples/exp1.0_full_chain/\")"
   ]
  },
  {
   "cell_type": "markdown",
   "metadata": {},
   "source": [
    "#### 2. import TEDS modules"
   ]
  },
  {
   "cell_type": "code",
   "execution_count": 2,
   "metadata": {},
   "outputs": [],
   "source": [
    "from teds.gm import geometry_module\n",
    "from teds.sgm import geoscene_generation\n",
    "from teds.sgm import Carbon_radiation_scene_generation\n",
    "from teds.im import run_instrument_model\n",
    "from teds.l1al1b import run_l1al1b\n",
    "from teds.siml1b import simplified_instrument_model_and_l1b_processor\n",
    "from teds.l1l2.l1bl2 import level1b_to_level2_processor_RTorCH4\n",
    "from teds.pam import pam_co2"
   ]
  },
  {
   "cell_type": "markdown",
   "metadata": {},
   "source": [
    "#### 3. Select the target scene named after the targeted power plant \n",
    "Currently, four reference scenes can be used: (1) Matimba, (2) Jenschwalde, (3) Belchatow, (4) Lipetsk.\n"
   ]
  },
  {
   "cell_type": "code",
   "execution_count": 3,
   "metadata": {},
   "outputs": [],
   "source": [
    "#station_name = 'Matimba'\n",
    "station_name = 'Jaenschwalde'\n",
    "#station_name = 'Belchatow'\n",
    "#station_name = 'Lipetsk'"
   ]
  },
  {
   "cell_type": "code",
   "execution_count": 4,
   "metadata": {},
   "outputs": [],
   "source": [
    "proc_gm     = False ; pam_gm = False\n",
    "proc_sgmgps = False ; pam_sgmgps = False\n",
    "proc_sgmrad = False ; pam_sgmrad = False\n",
    "proc_im     = False ; pam_im = False\n",
    "proc_l1al1b = False ; pam_l1b = True\n",
    "proc_siml1b = False  \n",
    "proc_l1bl2  = False ; pam_l2 = False"
   ]
  },
  {
   "cell_type": "markdown",
   "metadata": {},
   "source": [
    "## Geometry Model"
   ]
  },
  {
   "cell_type": "markdown",
   "metadata": {},
   "source": [
    "#### 1. runing the module"
   ]
  },
  {
   "cell_type": "code",
   "execution_count": 5,
   "metadata": {},
   "outputs": [],
   "source": [
    "if(proc_gm):\n",
    "    #configureation file\n",
    "    gm_config= yaml.safe_load(open('./settings/gm_config_stations.yaml'))\n",
    "    #select the list for the selected target\n",
    "    gm_config['orbit'] = gm_config[station_name]['orbit']\n",
    "    gm_config['sensors'] = gm_config[station_name]['sensors']\n",
    "    geometry_module(gm_config)"
   ]
  },
  {
   "cell_type": "markdown",
   "metadata": {},
   "source": [
    "#### 2. Visualization of the GM output"
   ]
  },
  {
   "cell_type": "markdown",
   "metadata": {},
   "source": [
    "For plt_options use 'pixel' to show the geolocation of the pixel center points, and 'geometry' to show solar zenith angle, viewing zenith angle, solar azimuth angle, and viewing azimuth angle."
   ]
  },
  {
   "cell_type": "code",
   "execution_count": 6,
   "metadata": {},
   "outputs": [],
   "source": [
    "if(pam_gm):\n",
    "    gm_config= yaml.safe_load(open('./settings/gm_config_stations.yaml'))\n",
    "    filen = gm_config['io_files']['output_gm']\n",
    "    plt_option = 'geoloc'\n",
    "    pam_co2.pam_gm_Tango_Carbon(filen, station_name, plt_option)"
   ]
  },
  {
   "cell_type": "markdown",
   "metadata": {},
   "source": [
    "## Scene Generatior Module (SGM): Geo-Physical Scene"
   ]
  },
  {
   "cell_type": "markdown",
   "metadata": {},
   "source": [
    "### 1. Run the module"
   ]
  },
  {
   "cell_type": "code",
   "execution_count": 7,
   "metadata": {},
   "outputs": [],
   "source": [
    "if(proc_sgmgps):\n",
    "    sgmgps_config= yaml.safe_load(open('./settings/geosgm_config_stations.yaml'))\n",
    "    #adjust target specific configs\n",
    "    sgmgps_config['io_files']['input_s2'] = sgmgps_config[station_name]['input_s2']\n",
    "    sgmgps_config['io_files']['meteo'] = sgmgps_config[station_name]['meteo']\n",
    "\n",
    "    geoscene_generation(sgmgps_config)"
   ]
  },
  {
   "cell_type": "markdown",
   "metadata": {},
   "source": [
    "### 2. Vizualization of SGM-GPS output"
   ]
  },
  {
   "cell_type": "markdown",
   "metadata": {},
   "source": [
    "plt_options is used to configure the output. \n",
    "* The input 'albedo Bxx' specifies the spectral band to be plotted. Here, xx is the band specification. Only bands can be plotted that are given in the input data (e.g. B08 is not available but the more norrow band B08A can be plotted). \n",
    "* The input 'Xxx' specifies the trace gas. Here, xx specifies the gas and can be CO2, NO, NO2, CH4, or H2O"
   ]
  },
  {
   "cell_type": "code",
   "execution_count": 8,
   "metadata": {},
   "outputs": [],
   "source": [
    "if(pam_sgmgps):\n",
    "    sgmgps_config= yaml.safe_load(open('./settings/geosgm_config_stations.yaml'))\n",
    "    filen = sgmgps_config['io_files']['output_geo']\n",
    "    plt_option = 'XCO2'\n",
    "    plt_option = 'albedo B11'\n",
    "    pam_co2.pam_sgm_gps(filen, station_name, plt_option)"
   ]
  },
  {
   "cell_type": "markdown",
   "metadata": {},
   "source": [
    "## Scene Generator Module (SGM): Radiation Scene"
   ]
  },
  {
   "cell_type": "markdown",
   "metadata": {},
   "source": [
    "### 1. Execute SGM Radiation scene"
   ]
  },
  {
   "cell_type": "code",
   "execution_count": 9,
   "metadata": {},
   "outputs": [],
   "source": [
    "if(proc_sgmrad):\n",
    "    sgmrad_config= yaml.safe_load(open('./settings/radsgm_config.yaml'))\n",
    "    Carbon_radiation_scene_generation(sgmrad_config)"
   ]
  },
  {
   "cell_type": "markdown",
   "metadata": {},
   "source": [
    "### 2. Visualization\n",
    "Two panels are created. First a map of the radiometric scene for the wavelength wavel. On this map up to four pixels can be chosen using the tuple ialt_iact. The corresponding spectra are dipicted in the right panel."
   ]
  },
  {
   "cell_type": "code",
   "execution_count": 10,
   "metadata": {},
   "outputs": [],
   "source": [
    "if(pam_sgmrad):\n",
    "    sgmrad_config= yaml.safe_load(open('./settings/radsgm_config.yaml'))\n",
    "    filen_rad = sgmrad_config['io_files']['output_rad']\n",
    "    wavel = 1600.0\n",
    "    ialt_iact = [[50,50], [100,3], [105,79], [0,1]]\n",
    "    pam_co2.pam_sgm_rad(filen_rad, station_name, wavel, ialt_iact)"
   ]
  },
  {
   "cell_type": "markdown",
   "metadata": {},
   "source": [
    "## Instrument Model (IM)"
   ]
  },
  {
   "cell_type": "markdown",
   "metadata": {},
   "source": [
    "some text"
   ]
  },
  {
   "cell_type": "markdown",
   "metadata": {},
   "source": [
    "### 1. Executing the model"
   ]
  },
  {
   "cell_type": "code",
   "execution_count": 11,
   "metadata": {},
   "outputs": [],
   "source": [
    "if(proc_im):\n",
    "    im_config= yaml.safe_load(open('./settings/im_config.yaml'))\n",
    "    run_instrument_model(im_config)"
   ]
  },
  {
   "cell_type": "markdown",
   "metadata": {},
   "source": [
    "### 2. Plotting detector images"
   ]
  },
  {
   "cell_type": "markdown",
   "metadata": {},
   "source": []
  },
  {
   "cell_type": "markdown",
   "metadata": {},
   "source": [
    "The generated L0 data contain a series of detector images. The index ialt points to the image."
   ]
  },
  {
   "cell_type": "code",
   "execution_count": 12,
   "metadata": {},
   "outputs": [],
   "source": [
    "if(pam_im):\n",
    "    filen_rad = im_config['io']['l1a']\n",
    "    ialt = 5\n",
    "    title = station_name + f' image no. {ialt}'\n",
    "    pam_co2.pam_im(filen_rad, ialt, title)"
   ]
  },
  {
   "cell_type": "markdown",
   "metadata": {},
   "source": [
    "## L1A to L1B Processor"
   ]
  },
  {
   "cell_type": "markdown",
   "metadata": {},
   "source": [
    "The L1A-L1B processor is a module for the Payload Data Ground Segement. It calibrated the simulated detector images."
   ]
  },
  {
   "cell_type": "markdown",
   "metadata": {},
   "source": [
    "### 1. Execute L1A-L1B data processing"
   ]
  },
  {
   "cell_type": "code",
   "execution_count": 13,
   "metadata": {},
   "outputs": [],
   "source": [
    "if(proc_l1al1b):\n",
    "    l1al1b_config= yaml.safe_load(open('./settings/l1al1b_config.yaml'))\n",
    "    run_l1al1b(l1al1b_config)"
   ]
  },
  {
   "cell_type": "markdown",
   "metadata": {},
   "source": [
    "### 2. Simplified L1B generator"
   ]
  },
  {
   "cell_type": "markdown",
   "metadata": {},
   "source": [
    "For some studies, it makes sense to replace the IM and the L1A-L1B processor by a simple L1B generator that simulates a L1B product from the SGM simulations. It applies a spectral convolution and a two-parameter SNR model to the spectra and allocates the GM geolocation to the data product."
   ]
  },
  {
   "cell_type": "code",
   "execution_count": 14,
   "metadata": {},
   "outputs": [],
   "source": [
    "if(proc_siml1b):\n",
    "    siml1b_config= yaml.safe_load(open('./settings/siml1b_config.yaml'))\n",
    "    simplified_instrument_model_and_l1b_processor(siml1b_config)"
   ]
  },
  {
   "cell_type": "markdown",
   "metadata": {},
   "source": [
    "### 3. Comparision with SGM-RAD output"
   ]
  },
  {
   "cell_type": "markdown",
   "metadata": {},
   "source": [
    "plt_options = spectrum, histo"
   ]
  },
  {
   "cell_type": "code",
   "execution_count": 16,
   "metadata": {},
   "outputs": [
    {
     "name": "stdout",
     "output_type": "stream",
     "text": [
      "===> 6784000\n"
     ]
    },
    {
     "ename": "IndexError",
     "evalue": "Index cannot be multidimensional",
     "output_type": "error",
     "traceback": [
      "\u001b[0;31m---------------------------------------------------------------------------\u001b[0m",
      "\u001b[0;31mIndexError\u001b[0m                                Traceback (most recent call last)",
      "Cell \u001b[0;32mIn[16], line 12\u001b[0m\n\u001b[1;32m     10\u001b[0m plt_options \u001b[38;5;241m=\u001b[39m \u001b[38;5;124m'\u001b[39m\u001b[38;5;124mhisto\u001b[39m\u001b[38;5;124m'\u001b[39m\n\u001b[1;32m     11\u001b[0m plt_ext \u001b[38;5;241m=\u001b[39m \u001b[38;5;28;01mFalse\u001b[39;00m\n\u001b[0;32m---> 12\u001b[0m \u001b[43mpam_co2\u001b[49m\u001b[38;5;241;43m.\u001b[39;49m\u001b[43mpam_l1b\u001b[49m\u001b[43m(\u001b[49m\u001b[43mfilen_l1b\u001b[49m\u001b[43m,\u001b[49m\u001b[43m \u001b[49m\u001b[43mfilen_sgmrad\u001b[49m\u001b[43m,\u001b[49m\u001b[43m \u001b[49m\u001b[43misrf_config\u001b[49m\u001b[43m,\u001b[49m\u001b[43m \u001b[49m\u001b[43mplt_options\u001b[49m\u001b[43m,\u001b[49m\u001b[43m \u001b[49m\u001b[43mialt\u001b[49m\u001b[43m,\u001b[49m\u001b[43m \u001b[49m\u001b[43miact\u001b[49m\u001b[43m,\u001b[49m\u001b[43m \u001b[49m\u001b[43mplt_ext\u001b[49m\u001b[43m)\u001b[49m\n",
      "File \u001b[0;32m~/TANGO_E2ES/EndtoEndProject/end_to_end/teds/pam/pam_co2.py:415\u001b[0m, in \u001b[0;36mpam_l1b\u001b[0;34m(filen_l1b, filen_sgmrad, isrf_config, plt_options, ialt, iact, plt_ext)\u001b[0m\n\u001b[1;32m    413\u001b[0m wave \u001b[38;5;241m=\u001b[39m level1b[\u001b[38;5;124m'\u001b[39m\u001b[38;5;124mobservation_data\u001b[39m\u001b[38;5;124m'\u001b[39m][\u001b[38;5;124m'\u001b[39m\u001b[38;5;124mwavelength\u001b[39m\u001b[38;5;124m'\u001b[39m][iact,:]\u001b[38;5;241m.\u001b[39mdata\n\u001b[1;32m    414\u001b[0m idx \u001b[38;5;241m=\u001b[39m np\u001b[38;5;241m.\u001b[39mwhere((wave \u001b[38;5;241m>\u001b[39m\u001b[38;5;241m=\u001b[39m \u001b[38;5;241m1590\u001b[39m) \u001b[38;5;241m&\u001b[39m (wave \u001b[38;5;241m<\u001b[39m\u001b[38;5;241m=\u001b[39m\u001b[38;5;241m1675\u001b[39m))\n\u001b[0;32m--> 415\u001b[0m err \u001b[38;5;241m=\u001b[39m (\u001b[43mlevel1b\u001b[49m\u001b[43m[\u001b[49m\u001b[38;5;124;43m'\u001b[39;49m\u001b[38;5;124;43mobservation_data\u001b[39;49m\u001b[38;5;124;43m'\u001b[39;49m\u001b[43m]\u001b[49m\u001b[43m[\u001b[49m\u001b[38;5;124;43m'\u001b[39;49m\u001b[38;5;124;43mradiance\u001b[39;49m\u001b[38;5;124;43m'\u001b[39;49m\u001b[43m]\u001b[49m\u001b[43m[\u001b[49m\u001b[43m:\u001b[49m\u001b[43m,\u001b[49m\u001b[43miact\u001b[49m\u001b[43m,\u001b[49m\u001b[43midx\u001b[49m\u001b[43m]\u001b[49m\u001b[38;5;241m.\u001b[39mdata \u001b[38;5;241m-\u001b[39m sgmrad_conv[:,iact,idx]) \u001b[38;5;241m/\u001b[39mlevel1b[\u001b[38;5;124m'\u001b[39m\u001b[38;5;124mobservation_data\u001b[39m\u001b[38;5;124m'\u001b[39m][\u001b[38;5;124m'\u001b[39m\u001b[38;5;124mradiance_stdev\u001b[39m\u001b[38;5;124m'\u001b[39m][:, iact, idx]\u001b[38;5;241m.\u001b[39mdata\n\u001b[1;32m    416\u001b[0m error \u001b[38;5;241m=\u001b[39m np\u001b[38;5;241m.\u001b[39mappend(error,err\u001b[38;5;241m.\u001b[39mflatten())\n\u001b[1;32m    417\u001b[0m \u001b[38;5;28mprint\u001b[39m(error\u001b[38;5;241m.\u001b[39msize)\n",
      "File \u001b[0;32msrc/netCDF4/_netCDF4.pyx:4916\u001b[0m, in \u001b[0;36mnetCDF4._netCDF4.Variable.__getitem__\u001b[0;34m()\u001b[0m\n",
      "File \u001b[0;32m~/pythonenvs/tangoendtoend/lib/python3.10/site-packages/netCDF4/utils.py:226\u001b[0m, in \u001b[0;36m_StartCountStride\u001b[0;34m(elem, shape, dimensions, grp, datashape, put, use_get_vars)\u001b[0m\n\u001b[1;32m    224\u001b[0m \u001b[38;5;66;03m# Raise error if multidimensional indexing is used.\u001b[39;00m\n\u001b[1;32m    225\u001b[0m \u001b[38;5;28;01mif\u001b[39;00m ea\u001b[38;5;241m.\u001b[39mndim \u001b[38;5;241m>\u001b[39m \u001b[38;5;241m1\u001b[39m:\n\u001b[0;32m--> 226\u001b[0m     \u001b[38;5;28;01mraise\u001b[39;00m \u001b[38;5;167;01mIndexError\u001b[39;00m(\u001b[38;5;124m\"\u001b[39m\u001b[38;5;124mIndex cannot be multidimensional\u001b[39m\u001b[38;5;124m\"\u001b[39m)\n\u001b[1;32m    227\u001b[0m \u001b[38;5;66;03m# set unlim to True if dimension is unlimited and put==True\u001b[39;00m\n\u001b[1;32m    228\u001b[0m \u001b[38;5;66;03m# (called from __setitem__)\u001b[39;00m\n\u001b[1;32m    229\u001b[0m \u001b[38;5;28;01mif\u001b[39;00m hasunlim \u001b[38;5;129;01mand\u001b[39;00m put \u001b[38;5;129;01mand\u001b[39;00m dimensions:\n",
      "\u001b[0;31mIndexError\u001b[0m: Index cannot be multidimensional"
     ]
    }
   ],
   "source": [
    "if(pam_l1b):\n",
    "    siml1b_config= yaml.safe_load(open('./settings/siml1b_config.yaml'))\n",
    "    filen_l1b = siml1b_config['io_files']['output_l1b']\n",
    "    filen_sgmrad = siml1b_config['io_files']['input_sgm']\n",
    "    isrf_config={}\n",
    "    isrf_config['type'] = 'Gaussian'  #type of ISRF, currently only Gaussian or generalized_normal\n",
    "    isrf_config['fwhm'] = 0.45        #fwhm [nm]\n",
    "    plt_options = 'spectrum'\n",
    "    ialt,iact =(26,44)                #onoly needed in case of plt_options = spectrum\n",
    "    plt_options = 'histo'\n",
    "    plt_ext = False\n",
    "    pam_co2.pam_l1b(filen_l1b, filen_sgmrad, isrf_config, plt_options, ialt, iact, plt_ext)"
   ]
  },
  {
   "cell_type": "markdown",
   "metadata": {},
   "source": [
    "## Level 1B to Level 2 $\\rm CO_2$ and $\\rm CH_4$ Proxy Retrieval"
   ]
  },
  {
   "cell_type": "code",
   "execution_count": null,
   "metadata": {},
   "outputs": [],
   "source": [
    "if(proc_l1bl2):\n",
    "    l1bl2_config= yaml.safe_load(open('./settings/l1bl2_config.yaml'))\n",
    "    level1b_to_level2_processor_RTorCH4(l1bl2_config)"
   ]
  },
  {
   "cell_type": "code",
   "execution_count": null,
   "metadata": {},
   "outputs": [],
   "source": [
    "if(pam_l2):\n",
    "    %matplotlib inline\n",
    "    l1bl2_config= yaml.safe_load(open('./settings/l1bl2_config.yaml'))\n",
    "    filen = l1bl2_config['io_files']['output_l2']\n",
    "    pam_co2.pam_l2(filen, station_name)\n",
    "\n"
   ]
  },
  {
   "cell_type": "markdown",
   "metadata": {},
   "source": []
  }
 ],
 "metadata": {
  "kernelspec": {
   "display_name": "tangoendtoend",
   "language": "python",
   "name": "python3"
  },
  "language_info": {
   "codemirror_mode": {
    "name": "ipython",
    "version": 3
   },
   "file_extension": ".py",
   "mimetype": "text/x-python",
   "name": "python",
   "nbconvert_exporter": "python",
   "pygments_lexer": "ipython3",
   "version": "3.10.12"
  }
 },
 "nbformat": 4,
 "nbformat_minor": 2
}
