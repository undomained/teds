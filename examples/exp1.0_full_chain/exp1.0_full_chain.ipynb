{
 "cells": [
  {
   "cell_type": "markdown",
   "metadata": {},
   "source": [
    "# TEDS End-to-End Simulation for TANGO-Carbon"
   ]
  },
  {
   "cell_type": "markdown",
   "metadata": {},
   "source": [
    "### This notebook includes a first processing chain for TANGO Carbon. The chain is setup for consistent processing that is outlined in the following diagram:  "
   ]
  },
  {
   "cell_type": "markdown",
   "metadata": {},
   "source": [
    "![title](./tango_e2es_Carbon_chain_PAM.png)"
   ]
  },
  {
   "cell_type": "markdown",
   "metadata": {},
   "source": [
    "## Reference\n",
    "+ ATBD\n",
    "+ User manual"
   ]
  },
  {
   "cell_type": "markdown",
   "metadata": {},
   "source": [
    "## Initialization"
   ]
  },
  {
   "cell_type": "markdown",
   "metadata": {},
   "source": [
    "#### 1. Setup the working environment"
   ]
  },
  {
   "cell_type": "code",
   "execution_count": 1,
   "metadata": {},
   "outputs": [],
   "source": [
    "import sys\n",
    "import os\n",
    "import yaml\n",
    "# define  path to search for module\n",
    "sys.path.append(\"/home/jochen/TANGO_E2ES/EndtoEndProject/end_to_end/\")\n",
    "os.chdir(\"/home/jochen/TANGO_E2ES/EndtoEndProject/end_to_end/examples/exp1.0_full_chain/\")"
   ]
  },
  {
   "cell_type": "code",
   "execution_count": null,
   "metadata": {},
   "outputs": [],
   "source": []
  },
  {
   "cell_type": "markdown",
   "metadata": {},
   "source": [
    "#### 2. import TEDS modules"
   ]
  },
  {
   "cell_type": "code",
   "execution_count": 2,
   "metadata": {},
   "outputs": [],
   "source": [
    "from teds.gm import geometry_module\n",
    "from teds.sgm import geoscene_generation\n",
    "from teds.sgm import Carbon_radiation_scene_generation\n",
    "#from teds.siml1b import simplified_instrument_model_and_l1b_processor\n",
    "#from teds.l1l2 import level1b_to_level2_processor\n",
    "from teds.pam import pam_co2"
   ]
  },
  {
   "cell_type": "markdown",
   "metadata": {},
   "source": [
    "#### 3. Select the target scene named after the targeted power plant \n",
    "Currently, four reference scenes can be used: (1) Matimba, (2) Jenschwalde, (3) Belchatow, (4) Lipetsk.\n"
   ]
  },
  {
   "cell_type": "code",
   "execution_count": 3,
   "metadata": {},
   "outputs": [],
   "source": [
    "#station_name = 'Matimba'\n",
    "station_name = 'Jaenschwalde'\n",
    "#station_name = 'Belchatow'\n",
    "#station_name = 'Lipetsk'"
   ]
  },
  {
   "cell_type": "code",
   "execution_count": 4,
   "metadata": {},
   "outputs": [],
   "source": [
    "flag_gm     = False\n",
    "flag_sgmgps = False\n",
    "flag_sgmrad = False"
   ]
  },
  {
   "cell_type": "markdown",
   "metadata": {},
   "source": [
    "## Geometry Model"
   ]
  },
  {
   "cell_type": "markdown",
   "metadata": {},
   "source": [
    "#### 1. runing the module"
   ]
  },
  {
   "cell_type": "code",
   "execution_count": 5,
   "metadata": {},
   "outputs": [],
   "source": [
    "if(flag_gm):\n",
    "    #configureation file\n",
    "    gm_config= yaml.safe_load(open('./settings/gm_config_stations.yaml'))\n",
    "    #select the list for the selected target\n",
    "    gm_config = gm_config[station_name]\n",
    "    geometry_module(gm_config)"
   ]
  },
  {
   "cell_type": "markdown",
   "metadata": {},
   "source": [
    "#### 2. Visualization of the GM output"
   ]
  },
  {
   "cell_type": "markdown",
   "metadata": {},
   "source": [
    "For plt_options use 'pixel' to show the geolocation of the pixel center points, and 'geometry' to show solar zenith angle, viewing zenith angle, solar azimuth angle, and viewing azimuth angle."
   ]
  },
  {
   "cell_type": "code",
   "execution_count": 6,
   "metadata": {},
   "outputs": [],
   "source": [
    "if(flag_gm):\n",
    "    filen = gm_config['io_files']['output_gm']\n",
    "    plt_option = 'geoloc'\n",
    "    pam_co2.pam_gm_Tango_Carbon(filen, station_name, plt_option)"
   ]
  },
  {
   "cell_type": "markdown",
   "metadata": {},
   "source": [
    "## Scene Generatior Module (SGM): Geo-Physical Scene"
   ]
  },
  {
   "cell_type": "markdown",
   "metadata": {},
   "source": [
    "### 1. Run the module"
   ]
  },
  {
   "cell_type": "code",
   "execution_count": 7,
   "metadata": {},
   "outputs": [],
   "source": [
    "if(flag_sgmgps):\n",
    "    sgmgps_config= yaml.safe_load(open('./settings/geosgm_config_stations.yaml'))\n",
    "    #select the list for the selected target\n",
    "    sgmgps_config['io_files'] = sgmgps_config[station_name]['io_files']\n",
    "    sgmgps_config['profile'] = 'orbit'\n",
    "    geoscene_generation(sgmgps_config)"
   ]
  },
  {
   "cell_type": "markdown",
   "metadata": {},
   "source": [
    "### 2. Vizualization of SGM-GPS output"
   ]
  },
  {
   "cell_type": "markdown",
   "metadata": {},
   "source": [
    "plt_options is used to configure the output. \n",
    "* The input 'albedo Bxx' specifies the spectral band to be plotted. Here, xx is the band specification. Only bands can be plotted that are given in the input data (e.g. B08 is not available but the more norrow band B08A can be plotted). \n",
    "* The input 'Xxx' specifies the trace gas. Here, xx specifies the gas and can be CO2, NO, NO2, CH4, or H2O"
   ]
  },
  {
   "cell_type": "code",
   "execution_count": 8,
   "metadata": {},
   "outputs": [],
   "source": [
    "if(flag_sgmgps):\n",
    "    filen = sgmgps_config['io_files']['output_geo']\n",
    "    plt_option = 'XCO2'\n",
    "#    plt_option = 'albedo B11'\n",
    "    pam_co2.pam_sgm_gps(filen, station_name, plt_option)"
   ]
  },
  {
   "cell_type": "markdown",
   "metadata": {},
   "source": [
    "## Scene Generatior Module (SGM): Radiation Scene"
   ]
  },
  {
   "cell_type": "markdown",
   "metadata": {},
   "source": [
    "### 1. Execute SGM Radiation scene"
   ]
  },
  {
   "cell_type": "code",
   "execution_count": 9,
   "metadata": {},
   "outputs": [],
   "source": [
    "if(flag_sgmrad):\n",
    "    sgmrad_config= yaml.safe_load(open('./settings/radsgm_config_stations.yaml'))\n",
    "    sgmrad_config['io_files'] = sgmrad_config[station_name]['io_files']\n",
    "    sgmrad_config['profile'] = 'orbit'\n",
    "    Carbon_radiation_scene_generation(sgmrad_config)"
   ]
  },
  {
   "cell_type": "code",
   "execution_count": 10,
   "metadata": {},
   "outputs": [
    {
     "ename": "IndexError",
     "evalue": "lon not found in /",
     "output_type": "error",
     "traceback": [
      "\u001b[0;31m---------------------------------------------------------------------------\u001b[0m",
      "\u001b[0;31mIndexError\u001b[0m                                Traceback (most recent call last)",
      "Cell \u001b[0;32mIn[10], line 7\u001b[0m\n\u001b[1;32m      5\u001b[0m plt_option \u001b[38;5;241m=\u001b[39m \u001b[38;5;124m'\u001b[39m\u001b[38;5;124mrad_map\u001b[39m\u001b[38;5;124m'\u001b[39m\n\u001b[1;32m      6\u001b[0m wavel \u001b[38;5;241m=\u001b[39m \u001b[38;5;241m1600.0\u001b[39m\n\u001b[0;32m----> 7\u001b[0m \u001b[43mpam_co2\u001b[49m\u001b[38;5;241;43m.\u001b[39;49m\u001b[43mpam_sgm_rad\u001b[49m\u001b[43m(\u001b[49m\u001b[43mfilen\u001b[49m\u001b[43m,\u001b[49m\u001b[43m \u001b[49m\u001b[43mstation_name\u001b[49m\u001b[43m,\u001b[49m\u001b[43m \u001b[49m\u001b[43mplt_option\u001b[49m\u001b[43m,\u001b[49m\u001b[43m \u001b[49m\u001b[43mwavel\u001b[49m\u001b[43m)\u001b[49m\n",
      "File \u001b[0;32m~/TANGO_E2ES/EndtoEndProject/end_to_end/teds/pam/pam_co2.py:185\u001b[0m, in \u001b[0;36mpam_sgm_rad\u001b[0;34m(filen, station_name, plt_options, wavel)\u001b[0m\n\u001b[1;32m    181\u001b[0m     fig, ax \u001b[38;5;241m=\u001b[39m plt\u001b[38;5;241m.\u001b[39msubplots(\u001b[38;5;241m1\u001b[39m, \u001b[38;5;241m1\u001b[39m, figsize\u001b[38;5;241m=\u001b[39m(\u001b[38;5;241m14\u001b[39m, \u001b[38;5;241m10\u001b[39m), dpi\u001b[38;5;241m=\u001b[39m\u001b[38;5;241m100\u001b[39m,   \n\u001b[1;32m    182\u001b[0m                             subplot_kw\u001b[38;5;241m=\u001b[39m{\u001b[38;5;124m'\u001b[39m\u001b[38;5;124mprojection\u001b[39m\u001b[38;5;124m'\u001b[39m: ccrs\u001b[38;5;241m.\u001b[39mOrthographic(central_point[\u001b[38;5;241m0\u001b[39m], central_point[\u001b[38;5;241m1\u001b[39m])},)\n\u001b[1;32m    183\u001b[0m     fig\u001b[38;5;241m.\u001b[39msuptitle(station_name, fontsize\u001b[38;5;241m=\u001b[39m\u001b[38;5;241m16\u001b[39m)\n\u001b[0;32m--> 185\u001b[0m     ax, cbar \u001b[38;5;241m=\u001b[39mgeo_panel(ax, \u001b[43msgmrad_data\u001b[49m\u001b[43m[\u001b[49m\u001b[38;5;124;43m'\u001b[39;49m\u001b[38;5;124;43mlon\u001b[39;49m\u001b[38;5;124;43m'\u001b[39;49m\u001b[43m]\u001b[49m, sgmrad_data[\u001b[38;5;124m'\u001b[39m\u001b[38;5;124mlat\u001b[39m\u001b[38;5;124m'\u001b[39m], sgmgps_data[\u001b[38;5;124m'\u001b[39m\u001b[38;5;124mradiance\u001b[39m\u001b[38;5;124m'\u001b[39m][:,:,idx], lon_lat_bbox,  \u001b[38;5;124m'\u001b[39m\u001b[38;5;124mI\u001b[39m\u001b[38;5;124m'\u001b[39m, \u001b[38;5;28mstr\u001b[39m(sgmrad_data[\u001b[38;5;124m'\u001b[39m\u001b[38;5;124mwavelength\u001b[39m\u001b[38;5;124m'\u001b[39m][idx]))\n\u001b[1;32m    187\u001b[0m \u001b[38;5;28;01mif\u001b[39;00m(\u001b[38;5;124m'\u001b[39m\u001b[38;5;124mrad_spec\u001b[39m\u001b[38;5;124m'\u001b[39m \u001b[38;5;241m==\u001b[39m plt_options ):\n\u001b[1;32m    188\u001b[0m     \u001b[38;5;28mprint\u001b[39m(\u001b[38;5;124m'\u001b[39m\u001b[38;5;124mhello\u001b[39m\u001b[38;5;124m'\u001b[39m)\n",
      "File \u001b[0;32msrc/netCDF4/_netCDF4.pyx:2502\u001b[0m, in \u001b[0;36mnetCDF4._netCDF4.Dataset.__getitem__\u001b[0;34m()\u001b[0m\n",
      "\u001b[0;31mIndexError\u001b[0m: lon not found in /"
     ]
    },
    {
     "data": {
      "image/png": "[encoded data removed]",
      "text/plain": [
       "<Figure size 1400x1000 with 1 Axes>"
      ]
     },
     "metadata": {},
     "output_type": "display_data"
    }
   ],
   "source": [
    "sgmrad_config= yaml.safe_load(open('./settings/radsgm_config_stations.yaml'))\n",
    "sgmrad_config['io_files'] = sgmrad_config[station_name]['io_files']\n",
    "\n",
    "filen_rad = sgmrad_config['io_files']['output_rad']\n",
    "filen_rad = sgmrad_config['io_files']['output_rad']\n",
    "plt_option = 'rad_map'\n",
    "wavel = 1600.0\n",
    "pam_co2.pam_sgm_rad(filen, station_name, plt_option, wavel)"
   ]
  }
 ],
 "metadata": {
  "kernelspec": {
   "display_name": "tangoendtoend",
   "language": "python",
   "name": "python3"
  },
  "language_info": {
   "codemirror_mode": {
    "name": "ipython",
    "version": 3
   },
   "file_extension": ".py",
   "mimetype": "text/x-python",
   "name": "python",
   "nbconvert_exporter": "python",
   "pygments_lexer": "ipython3",
   "version": "3.10.12"
  }
 },
 "nbformat": 4,
 "nbformat_minor": 2
}
