{
 "cells": [
  {
   "attachments": {},
   "cell_type": "markdown",
   "metadata": {},
   "source": [
    "# TEDS SGM to RemoTAP input for TANGO-Carbon\n",
    "\n",
    "#### This notebook shows how to construct RemoTAP forward simulation inputs from scratch using the TANGO-Carbon GM and SGM, and how to run a forward simulation on them. It is based on the full-chain example, exp1_full_chain.\n",
    "\n",
    "Dependencies for this notebook:\n",
    "\n",
    "* All dependencies of `exp1_full_chain`\n",
    "* [GitPython](https://github.com/gitpython-developers/GitPython)\n",
    "* [h5netcdf](https://h5netcdf.org/)\n",
    "* cmake, make\n",
    "* Fortran compiler, gfortran or ifort\n",
    "* BLAS/LAPACK libraries\n",
    "* NetCDF and HDF5 libraries for Fortran\n",
    "* RemoTAP LUT data"
   ]
  },
  {
   "cell_type": "markdown",
   "metadata": {},
   "source": [
    "## 1. Reference\n",
    "+ ATBD\n",
    "+ User manual <a href=\"https://teds.rtfd.io/\"> online document</a>"
   ]
  },
  {
   "cell_type": "markdown",
   "metadata": {},
   "source": [
    "## 2. Initialization"
   ]
  },
  {
   "cell_type": "markdown",
   "metadata": {},
   "source": [
    "#### 2.1 Setup the working environment"
   ]
  },
  {
   "cell_type": "code",
   "execution_count": 1,
   "metadata": {},
   "outputs": [],
   "source": [
    "import sys\n",
    "import os\n",
    "import yaml\n",
    "import subprocess\n",
    "import platform\n",
    "import shutil\n",
    "import git\n",
    "import h5netcdf\n",
    "from matplotlib import pyplot as plt\n",
    "\n",
    "# define  path to search for module\n",
    "sys.path.append(\"/Users/petersk/teds/\")\n",
    "os.chdir(\"/Users/petersk/teds/examples/exp10_remotap_link/\")"
   ]
  },
  {
   "cell_type": "markdown",
   "metadata": {},
   "source": [
    "#### 2.2 import TEDS modules"
   ]
  },
  {
   "cell_type": "code",
   "execution_count": 2,
   "metadata": {},
   "outputs": [],
   "source": [
    "from teds.gm import geometry_module\n",
    "from teds.sgm import geoscene_generation\n",
    "from teds.sgm.sgm_geoscene_to_remotap import convert_geoscene_to_remotap, fill_ini_template"
   ]
  },
  {
   "cell_type": "markdown",
   "metadata": {},
   "source": [
    "#### 2.3 Select the target scene named after the targeted power plant \n",
    "Currently, four reference scenes can be used: (1) Matimba, (2) Jenschwalde, (3) Belchatow, (4) Lipetsk.\n"
   ]
  },
  {
   "cell_type": "code",
   "execution_count": 3,
   "metadata": {},
   "outputs": [],
   "source": [
    "#station_name = 'Matimba'\n",
    "station_name = 'Jaenschwalde'\n",
    "#station_name = 'Belchatow'\n",
    "#station_name = 'Lipetsk'"
   ]
  },
  {
   "cell_type": "markdown",
   "metadata": {},
   "source": [
    "### 2.4 Configure specific run\n",
    "All module interfaces are file-based. So, if input files exist, they cn be called as 'stand-alone'. Note that you might to run low level modules to generate the input. PM modules can be also used as 'stand-alone' for data analysis.\n",
    "\n",
    "This notebook can run a forward simulation for example purposes, but only operates on a trimmed-down version of the full granule, containing only the first line. If you wish to perform a forward simulation on the entire granule, please do so manually from a terminal. In this case, do be aware that a RemoTAP forward simulation of a full 135000-pixel granule can take well over a day to compute."
   ]
  },
  {
   "cell_type": "code",
   "execution_count": 4,
   "metadata": {},
   "outputs": [],
   "source": [
    "proc_gm          = True; pam_gm     = False\n",
    "proc_sgmgeo      = True; pam_sgmgeo = False\n",
    "proc_sgm2remotap = True\n",
    "clone_remotap = True; build_remotap = True\n",
    "proc_forward = True; show_spectrum = True"
   ]
  },
  {
   "cell_type": "markdown",
   "metadata": {},
   "source": [
    "## 3. Geometry Model"
   ]
  },
  {
   "cell_type": "markdown",
   "metadata": {},
   "source": [
    "#### 3.1 Run the GM module"
   ]
  },
  {
   "cell_type": "code",
   "execution_count": 5,
   "metadata": {
    "scrolled": true
   },
   "outputs": [
    {
     "name": "stdout",
     "output_type": "stream",
     "text": [
      "2024-12-13 15:26:29,224 : teds.lib.lib_utils : gm : 334 : INFO : propagate orbit...\n"
     ]
    },
    {
     "name": "stderr",
     "output_type": "stream",
     "text": [
      "[15:26:29] propagate orbit...\n"
     ]
    },
    {
     "name": "stdout",
     "output_type": "stream",
     "text": [
      "2024-12-13 15:26:31,767 : teds.lib.lib_utils : gm : 355 : INFO : defining sensor sensor_00__00\n"
     ]
    },
    {
     "name": "stderr",
     "output_type": "stream",
     "text": [
      "[15:26:31] defining sensor sensor_00__00\n"
     ]
    },
    {
     "name": "stdout",
     "output_type": "stream",
     "text": [
      "2024-12-13 15:26:31,800 : teds.lib.lib_utils : gm : 380 : INFO : compute the ground pixels (gpx)\n"
     ]
    },
    {
     "name": "stderr",
     "output_type": "stream",
     "text": [
      "[15:26:31] compute the ground pixels (gpx)\n"
     ]
    },
    {
     "name": "stdout",
     "output_type": "stream",
     "text": [
      "2024-12-13 15:26:31,802 : teds.lib.lib_utils : libOrbSim : 276 : INFO :     satellite position\n"
     ]
    },
    {
     "name": "stderr",
     "output_type": "stream",
     "text": [
      "[15:26:31]     satellite position\n"
     ]
    },
    {
     "name": "stdout",
     "output_type": "stream",
     "text": [
      "2024-12-13 15:26:31,803 : teds.lib.lib_utils : libOrbSim : 288 : INFO :     satellite ground points\n"
     ]
    },
    {
     "name": "stderr",
     "output_type": "stream",
     "text": [
      "[15:26:31]     satellite ground points\n"
     ]
    },
    {
     "name": "stdout",
     "output_type": "stream",
     "text": [
      "2024-12-13 15:26:31,806 : teds.lib.lib_utils : libOrbSim : 302 : INFO :     viewing angles\n"
     ]
    },
    {
     "name": "stderr",
     "output_type": "stream",
     "text": [
      "[15:26:31]     viewing angles\n"
     ]
    },
    {
     "name": "stdout",
     "output_type": "stream",
     "text": [
      "2024-12-13 15:26:31,808 : teds.lib.lib_utils : libOrbSim : 311 : INFO :     solar angles\n"
     ]
    },
    {
     "name": "stderr",
     "output_type": "stream",
     "text": [
      "[15:26:31]     solar angles\n"
     ]
    },
    {
     "name": "stdout",
     "output_type": "stream",
     "text": [
      "/Users/petersk/Tango_E2ES/data/interface_data2/gm/Tango_Carbon_gm_exp10.nc\n",
      "2024-12-13 15:26:31,832 : teds.lib.lib_utils : gm : 464 : INFO : =>gm calculation finished successfully. \n"
     ]
    },
    {
     "name": "stderr",
     "output_type": "stream",
     "text": [
      "[15:26:31] =>gm calculation finished successfully. \n"
     ]
    }
   ],
   "source": [
    "if(proc_gm):\n",
    "    #configureation file\n",
    "    gm_config= yaml.safe_load(open('./settings/gm_config_stations.yaml'))\n",
    "    #select the list for the selected target\n",
    "    gm_config['orbit'] = gm_config[station_name]['orbit']\n",
    "    gm_config['sensors'] = gm_config[station_name]['sensors']\n",
    "    geometry_module(gm_config)"
   ]
  },
  {
   "cell_type": "markdown",
   "metadata": {},
   "source": [
    "#### 3.2 Visualization of the GM output"
   ]
  },
  {
   "cell_type": "markdown",
   "metadata": {},
   "source": [
    "For plt_options use 'geoloc' to show the geolocation of the pixel center points, and 'geometry' to show solar zenith angle, viewing zenith angle, solar azimuth angle, and viewing azimuth angle."
   ]
  },
  {
   "cell_type": "code",
   "execution_count": 6,
   "metadata": {},
   "outputs": [],
   "source": [
    "if(pam_gm):\n",
    "    gm_config= yaml.safe_load(open('./settings/gm_config_stations.yaml'))\n",
    "    filen = gm_config['io_files']['output_gm']\n",
    "    plt_option = 'geoloc'\n",
    "    pam_co2.pam_gm_Tango_Carbon(filen, station_name, plt_option)"
   ]
  },
  {
   "cell_type": "markdown",
   "metadata": {},
   "source": [
    "## 4. Scene Generatior Module (SGM): Geo-Physical Scene"
   ]
  },
  {
   "cell_type": "markdown",
   "metadata": {},
   "source": [
    "### 4.1 Run the SGM-GEO module"
   ]
  },
  {
   "cell_type": "code",
   "execution_count": 7,
   "metadata": {},
   "outputs": [
    {
     "name": "stdout",
     "output_type": "stream",
     "text": [
      "Getting meteo data ...\n",
      "                     ...done\n",
      "Combining microHH and AFGL model\n"
     ]
    },
    {
     "name": "stderr",
     "output_type": "stream",
     "text": [
      "100%|█████████████████████████████████████████████████████████████████████████████████████████████████████████████████████████████████████████████████████████████| 370/370 [00:01<00:00, 193.41it/s]\n",
      "100%|█████████████████████████████████████████████████████████████████████████████████████████████████████████████████████████████████████████████████████████████| 370/370 [00:01<00:00, 207.92it/s]\n",
      "100%|█████████████████████████████████████████████████████████████████████████████████████████████████████████████████████████████████████████████████████████████| 370/370 [00:01<00:00, 207.92it/s]\n",
      "[15:26:54] Reading refractive index tables.\n",
      "INFO:teds.lib.remotap_preproc.refractive_index:Reading refractive index tables.\n",
      "[15:26:54] Collocation of aerosol_echam file started.\n",
      "INFO:teds.lib.remotap_preproc.aerosol_echam:Collocation of aerosol_echam file started.\n",
      "[15:26:54] Reading echam file /Volumes/hammerspace/DATA_CLEAN/ORBIT_SOURCE_DATA/ECHAM/ECHAM_aerosol_new_scaled_DEMheight.nc\n",
      "INFO:teds.lib.remotap_preproc.aerosol_echam:Reading echam file /Volumes/hammerspace/DATA_CLEAN/ORBIT_SOURCE_DATA/ECHAM/ECHAM_aerosol_new_scaled_DEMheight.nc\n",
      "[15:26:54] [WARNING] Newer ECHAM file /Volumes/hammerspace/DATA_CLEAN/ORBIT_SOURCE_DATA/ECHAM/ECHAM_aerosol_new_scaled_DEMheight.nc does not exist. Defaulting to /Volumes/hammerspace/DATA_CLEAN/ORBIT_SOURCE_DATA/ECHAM/ECHAM_aerosol_new_scaled.nc\n",
      "WARNING:teds.lib.remotap_preproc.aerosol_echam:Newer ECHAM file /Volumes/hammerspace/DATA_CLEAN/ORBIT_SOURCE_DATA/ECHAM/ECHAM_aerosol_new_scaled_DEMheight.nc does not exist. Defaulting to /Volumes/hammerspace/DATA_CLEAN/ORBIT_SOURCE_DATA/ECHAM/ECHAM_aerosol_new_scaled.nc\n",
      "[15:26:54] Reading echam file /Volumes/hammerspace/DATA_CLEAN/ORBIT_SOURCE_DATA/ECHAM/ECHAM_aerosol_new_scaled.nc\n",
      "INFO:teds.lib.remotap_preproc.aerosol_echam:Reading echam file /Volumes/hammerspace/DATA_CLEAN/ORBIT_SOURCE_DATA/ECHAM/ECHAM_aerosol_new_scaled.nc\n",
      "[15:27:07] Collocation of aerosoal_echam file done.\n",
      "INFO:teds.lib.remotap_preproc.aerosol_echam:Collocation of aerosoal_echam file done.\n",
      "[15:27:07] BRDF read for different bands.\n",
      "INFO:teds.lib.remotap_preproc.xbrdf_gome2_modis:BRDF read for different bands.\n",
      "[15:27:07] Collocation of xbrdf file started.\n",
      "INFO:teds.lib.remotap_preproc.xbrdf_gome2_modis:Collocation of xbrdf file started.\n",
      "[15:27:33] Reading Xbpdf polder file.\n",
      "INFO:teds.lib.remotap_preproc.xbpdf_polder:Reading Xbpdf polder file.\n",
      "/Users/petersk/teds/teds/lib/remotap_preproc/xbpdf_polder.py:57: RuntimeWarning: Mean of empty slice\n",
      "  xbpdf[0, :, :] = np.nanmean(xbpdf_tmp, axis=0)  # (xbpdf[0,:,:]) 180(lon)*90(lat)\n",
      "/Users/petersk/teds/teds/lib/remotap_preproc/xbpdf_polder.py:65: RuntimeWarning: Mean of empty slice\n",
      "  xbpdf[i, :, :] = np.nanmean(xbpdf_tmp, axis=0)  # (xbpdf[1,:,:]) 180(lon)*90(lat)\n",
      "/Users/petersk/teds/teds/lib/remotap_preproc/xbpdf_polder.py:68: RuntimeWarning: Mean of empty slice\n",
      "  self.xbpdf_seasonal_mean_in = np.nanmean(xbpdf[:, :, :], axis=0)  # (Xbpdf_seasonal_mean) 180(lon)*90(lat)\n",
      "[15:27:33] Collocation of xbpdf parameters.\n",
      "INFO:teds.lib.remotap_preproc.xbpdf_polder:Collocation of xbpdf parameters.\n"
     ]
    },
    {
     "name": "stdout",
     "output_type": "stream",
     "text": [
      "=>sgm geoscene calculation finished successfully\n"
     ]
    }
   ],
   "source": [
    "if(proc_sgmgeo):\n",
    "    sgmgeo_config= yaml.safe_load(open('./settings/geosgm_config_stations.yaml'))\n",
    "    #adjust target specific configs\n",
    "    sgmgeo_config['io_files']['input_s2'] = sgmgeo_config[station_name]['input_s2']\n",
    "    sgmgeo_config['io_files']['meteo'] = sgmgeo_config[station_name]['meteo']\n",
    "\n",
    "    geoscene_generation(sgmgeo_config)"
   ]
  },
  {
   "cell_type": "markdown",
   "metadata": {},
   "source": [
    "### 4.2 Vizualization of SGM-GPS output"
   ]
  },
  {
   "cell_type": "markdown",
   "metadata": {},
   "source": [
    "plt_options is used to configure the output. \n",
    "* The input 'albedo Bxx' specifies the spectral band to be plotted. Here, xx is the band specification. Only bands can be plotted that are given in the input data (e.g. B08 is not available but the more norrow band B08A can be plotted). \n",
    "* The input 'Xxx' specifies the trace gas. Here, xx can be CO2, NO, NO2, CH4, or H2O"
   ]
  },
  {
   "cell_type": "code",
   "execution_count": 8,
   "metadata": {},
   "outputs": [],
   "source": [
    "if(pam_sgmgeo):\n",
    "    sgmgeo_config= yaml.safe_load(open('./settings/geosgm_config_stations.yaml'))\n",
    "    filen = sgmgeo_config['io_files']['output_geo']\n",
    "    plt_option = 'XCO2'\n",
    "    #plt_option = 'albedo B11'\n",
    "    pam_co2.pam_sgm_gps(filen, station_name, plt_option)"
   ]
  },
  {
   "cell_type": "markdown",
   "metadata": {},
   "source": [
    "## 5. RemoTAP"
   ]
  },
  {
   "cell_type": "markdown",
   "metadata": {},
   "source": [
    "Load configuration."
   ]
  },
  {
   "cell_type": "code",
   "execution_count": 9,
   "metadata": {},
   "outputs": [],
   "source": [
    "sgm2remotap_config = yaml.safe_load(open('./settings/sgm2remotap_config.yaml'))"
   ]
  },
  {
   "cell_type": "markdown",
   "metadata": {},
   "source": [
    "### 5.1. Convert files to RemoTAP inputs"
   ]
  },
  {
   "cell_type": "code",
   "execution_count": 10,
   "metadata": {},
   "outputs": [
    {
     "name": "stdout",
     "output_type": "stream",
     "text": [
      "Generating RemoTAP geometry... done.\n",
      "Generating RemoTAP input... done.\n",
      "Generating RemoTAP aux... done.\n",
      "Generating RemoTAP ini... done.\n"
     ]
    }
   ],
   "source": [
    "if proc_sgm2remotap:\n",
    "    convert_geoscene_to_remotap(sgm2remotap_config)"
   ]
  },
  {
   "cell_type": "markdown",
   "metadata": {},
   "source": [
    "### 5.2 Clone RemoTAP"
   ]
  },
  {
   "cell_type": "markdown",
   "metadata": {},
   "source": [
    "This step requires access to SRON Gitlab. If you wish to clone from a different server, set the URI in `remotap_repo_uri` below. If you have acquired RemoTAP from another source, place the root directory at the path given by `srcdir_remotap` in the config file `./settings/sgm2remotap_config.yaml` and skip the clone step."
   ]
  },
  {
   "cell_type": "code",
   "execution_count": 11,
   "metadata": {},
   "outputs": [
    {
     "name": "stdout",
     "output_type": "stream",
     "text": [
      "Cmd('git') failed due to: exit code(128)\n",
      "  cmdline: git clone -v -- git@gitlab.sron.nl:esg/remotap.git /Users/petersk/remotap-tango/\n",
      "  stderr: 'Cloning into '/Users/petersk/remotap-tango'...\n",
      "ssh_askpass: exec(/usr/X11R6/bin/ssh-askpass): No such file or directory\n",
      "git@gitlab.sron.nl: Permission denied (publickey).\n",
      "fatal: Could not read from remote repository.\n",
      "\n",
      "Please make sure you have the correct access rights\n",
      "and the repository exists.\n",
      "'\n",
      "Clone failed. Perhaps you require a password.\n",
      "Please execute the following command from the terminal:\n",
      "git clone 'git@gitlab.sron.nl:esg/remotap.git' '/Users/petersk/remotap-tango/'\n"
     ]
    }
   ],
   "source": [
    "remotap_repo_uri = 'git@gitlab.sron.nl:esg/remotap.git'\n",
    "\n",
    "remotap_srcdir = sgm2remotap_config['io_files']['srcdir_remotap']\n",
    "\n",
    "repo = None\n",
    "if clone_remotap:\n",
    "    try:\n",
    "        repo = git.Repo.clone_from(remotap_repo_uri, remotap_srcdir)\n",
    "    except Exception as e:\n",
    "        print(e)\n",
    "        print(\"Clone failed. Perhaps you require a password.\")\n",
    "        print(\"Please execute the following command from the terminal:\")\n",
    "        print(f\"git clone '{remotap_repo_uri}' '{remotap_srcdir}'\")\n",
    "        repo = None\n",
    "    \n"
   ]
  },
  {
   "cell_type": "markdown",
   "metadata": {},
   "source": [
    "#### Switch to `layers_from_aux` branch"
   ]
  },
  {
   "cell_type": "code",
   "execution_count": 12,
   "metadata": {},
   "outputs": [],
   "source": [
    "if clone_remotap:\n",
    "    try:\n",
    "        repo\n",
    "    except:\n",
    "        repo = None\n",
    "        \n",
    "    if repo is None:\n",
    "        repo = git.Repo(remotap_srcdir)\n",
    "    repo.git.checkout('origin/layers_from_aux')"
   ]
  },
  {
   "cell_type": "markdown",
   "metadata": {},
   "source": [
    "### 5.3. Compile RemoTAP"
   ]
  },
  {
   "cell_type": "markdown",
   "metadata": {},
   "source": [
    "The following will attempt to compile the RemoTAP forward simulator using CMake."
   ]
  },
  {
   "cell_type": "code",
   "execution_count": 13,
   "metadata": {},
   "outputs": [
    {
     "name": "stdout",
     "output_type": "stream",
     "text": [
      "-- The Fortran compiler identification is GNU 14.2.0\n",
      "-- Checking whether Fortran compiler has -isysroot\n",
      "-- Checking whether Fortran compiler has -isysroot - yes\n",
      "-- Checking whether Fortran compiler supports OSX deployment target flag\n",
      "-- Checking whether Fortran compiler supports OSX deployment target flag - yes\n",
      "-- Detecting Fortran compiler ABI info\n",
      "-- Detecting Fortran compiler ABI info - done\n",
      "-- Check for working Fortran compiler: /opt/homebrew/bin/gfortran - skipped\n",
      "-- Configuring done (2.4s)\n",
      "-- Generating done (0.3s)\n",
      "-- Build files have been written to: /Users/petersk/remotap-tango/RemoTAP/build_fwd\n",
      "\n",
      "\u001b[33mCMake Warning (dev) at CMakeLists.txt:2 (enable_language):\n",
      "  project() should be called prior to this enable_language() call.\n",
      "This warning is for project developers.  Use -Wno-dev to suppress it.\n",
      "\u001b[0m\n",
      "\n",
      "-- Configuring done (0.1s)\n",
      "-- Generating done (0.8s)\n",
      "-- Build files have been written to: /Users/petersk/remotap-tango/RemoTAP/build_fwd\n",
      "\n",
      "\u001b[33mCMake Warning (dev) at CMakeLists.txt:2 (enable_language):\n",
      "  project() should be called prior to this enable_language() call.\n",
      "This warning is for project developers.  Use -Wno-dev to suppress it.\n",
      "\u001b[0m\n",
      "\n",
      "Compiling RemoTAP. This will take a while!\n",
      "[  0%] \u001b[32mBuilding Fortran object RemoTAP_Core/LINTRAN/CMakeFiles/LINTRAN.dir/lintran_constants_module.f90.o\u001b[0m\n",
      "[  1%] \u001b[32mBuilding Fortran object RemoTAP_Core/LINTRAN/CMakeFiles/LINTRAN.dir/lintran_types_module.f90.o\u001b[0m\n",
      "[  1%] \u001b[32mBuilding Fortran object RemoTAP_Core/LINTRAN/CMakeFiles/LINTRAN.dir/lintran_fields_module.f90.o\u001b[0m\n",
      "[  2%] \u001b[32mBuilding Fortran object RemoTAP_Core/LINTRAN/CMakeFiles/LINTRAN.dir/lintran_geometry_module.f90.o\u001b[0m\n",
      "[  2%] \u001b[32mBuilding Fortran object RemoTAP_Core/LINTRAN/CMakeFiles/LINTRAN.dir/lintran_grid_module.f90.o\u001b[0m\n",
      "[  3%] \u001b[32mBuilding Fortran object RemoTAP_Core/LINTRAN/CMakeFiles/LINTRAN.dir/lintran_interface_module.f90.o\u001b[0m\n",
      "[  3%] \u001b[32mBuilding Fortran object RemoTAP_Core/LINTRAN/CMakeFiles/LINTRAN.dir/lintran_matrix_module.f90.o\u001b[0m\n",
      "[  3%] \u001b[32mBuilding Fortran object RemoTAP_Core/LINTRAN/CMakeFiles/LINTRAN.dir/lintran_nst1_module.f90.o\u001b[0m\n",
      "[  4%] \u001b[32mBuilding Fortran object RemoTAP_Core/LINTRAN/CMakeFiles/LINTRAN.dir/lintran_nst3_module.f90.o\u001b[0m\n",
      "[  4%] \u001b[32mBuilding Fortran object RemoTAP_Core/LINTRAN/CMakeFiles/LINTRAN.dir/lintran_nst4_module.f90.o\u001b[0m\n",
      "[  5%] \u001b[32mBuilding Fortran object RemoTAP_Core/LINTRAN/CMakeFiles/LINTRAN.dir/lintran_pixel_module.f90.o\u001b[0m\n",
      "[  5%] \u001b[32mBuilding Fortran object RemoTAP_Core/LINTRAN/CMakeFiles/LINTRAN.dir/lintran_tlc_module.f90.o\u001b[0m\n",
      "[  6%] \u001b[32mBuilding Fortran object RemoTAP_Core/LINTRAN/CMakeFiles/LINTRAN.dir/lintran_module.f90.o\u001b[0m\n",
      "[  6%] \u001b[32m\u001b[1mLinking Fortran static library libLINTRAN.a\u001b[0m\n",
      "[  6%] Built target LINTRAN\n",
      "[  6%] \u001b[32mBuilding Fortran object RemoTAP_Core/UTILS/CMakeFiles/UTILS.dir/TYPES/intrinsic_types_module.f90.o\u001b[0m\n",
      "[  6%] \u001b[32mBuilding Fortran object RemoTAP_Core/UTILS/CMakeFiles/UTILS.dir/TYPES/attribute_type_module.f90.o\u001b[0m\n",
      "[  7%] \u001b[32mBuilding Fortran object RemoTAP_Core/UTILS/CMakeFiles/UTILS.dir/TYPES/dictionary_type_module.f90.o\u001b[0m\n",
      "[  8%] \u001b[32mBuilding Fortran object RemoTAP_Core/UTILS/CMakeFiles/UTILS.dir/logger.f90.o\u001b[0m\n",
      "[  8%] \u001b[32mBuilding Fortran object RemoTAP_Core/UTILS/CMakeFiles/UTILS.dir/utilities.f90.o\u001b[0m\n",
      "[  9%] \u001b[32mBuilding Fortran object RemoTAP_Core/UTILS/CMakeFiles/UTILS.dir/netcdf_tools.f90.o\u001b[0m\n",
      "[  9%] \u001b[32mBuilding Fortran object RemoTAP_Core/UTILS/CMakeFiles/UTILS.dir/netcdf_reader.f90.o\u001b[0m\n",
      "[ 10%] \u001b[32mBuilding Fortran object RemoTAP_Core/UTILS/CMakeFiles/UTILS.dir/output_dictionary.f90.o\u001b[0m\n",
      "[ 10%] \u001b[32mBuilding Fortran object RemoTAP_Core/UTILS/CMakeFiles/UTILS.dir/netcdf_writer.f90.o\u001b[0m\n",
      "[ 11%] \u001b[32m\u001b[1mLinking Fortran static library libUTILS.a\u001b[0m\n",
      "[ 11%] Built target UTILS\n",
      "[ 12%] \u001b[32mBuilding Fortran object RemoTAP_Core/NUM_TOOLS/CMakeFiles/NUM_TOOLS.dir/fir_module.f90.o\u001b[0m\n",
      "[ 12%] \u001b[32mBuilding Fortran object RemoTAP_Core/NUM_TOOLS/CMakeFiles/NUM_TOOLS.dir/m_time_module.f90.o\u001b[0m\n",
      "[ 13%] \u001b[32mBuilding Fortran object RemoTAP_Core/NUM_TOOLS/CMakeFiles/NUM_TOOLS.dir/num_tools_module.f90.o\u001b[0m\n",
      "[ 13%] \u001b[32m\u001b[1mLinking Fortran static library libNUM_TOOLS.a\u001b[0m\n",
      "[ 13%] Built target NUM_TOOLS\n",
      "[ 14%] \u001b[32mBuilding Fortran object RemoTAP_Core/OpticM/CMakeFiles/OpticM.dir/OpticM_interp_module.f90.o\u001b[0m\n",
      "[ 14%] \u001b[32mBuilding Fortran object RemoTAP_Core/OpticM/CMakeFiles/OpticM.dir/OpticM_module.f90.o\u001b[0m\n",
      "[ 15%] \u001b[32m\u001b[1mLinking Fortran static library libOpticM.a\u001b[0m\n",
      "[ 15%] Built target OpticM\n",
      "[ 15%] \u001b[32mBuilding Fortran object RemoTAP_Core/SRC_CORE/CMakeFiles/SRC_CORE.dir/global_module.f90.o\u001b[0m\n",
      "[ 16%] \u001b[32mBuilding Fortran object RemoTAP_Core/SRC_CORE/CMakeFiles/SRC_CORE.dir/FWD_MODEL/cirrus_full_module.f90.o\u001b[0m\n",
      "[ 16%] \u001b[32mBuilding Fortran object RemoTAP_Core/SRC_CORE/CMakeFiles/SRC_CORE.dir/FWD_MODEL/cirrus_gfac_module.f90.o\u001b[0m\n",
      "[ 17%] \u001b[32mBuilding Fortran object RemoTAP_Core/SRC_CORE/CMakeFiles/SRC_CORE.dir/TYPES/aerosol_mode_type_module.f90.o\u001b[0m\n",
      "[ 17%] \u001b[32mBuilding Fortran object RemoTAP_Core/SRC_CORE/CMakeFiles/SRC_CORE.dir/TYPES/aerosol_model_mode_type_module.f90.o\u001b[0m\n",
      "[ 17%] \u001b[32mBuilding Fortran object RemoTAP_Core/SRC_CORE/CMakeFiles/SRC_CORE.dir/TYPES/settings_type_module.f90.o\u001b[0m\n",
      "[ 18%] \u001b[32mBuilding Fortran object RemoTAP_Core/SRC_CORE/CMakeFiles/SRC_CORE.dir/TYPES/aerosol_optic_type_module.f90.o\u001b[0m\n",
      "[ 18%] \u001b[32mBuilding Fortran object RemoTAP_Core/SRC_CORE/CMakeFiles/SRC_CORE.dir/TYPES/atmosphere_type_module.f90.o\u001b[0m\n",
      "[ 19%] \u001b[32mBuilding Fortran object RemoTAP_Core/SRC_CORE/CMakeFiles/SRC_CORE.dir/TYPES/isrf_type_module.f90.o\u001b[0m\n",
      "[ 20%] \u001b[32mBuilding Fortran object RemoTAP_Core/SRC_CORE/CMakeFiles/SRC_CORE.dir/TYPES/band_abs_type_module.f90.o\u001b[0m\n",
      "[ 20%] \u001b[32mBuilding Fortran object RemoTAP_Core/SRC_CORE/CMakeFiles/SRC_CORE.dir/TYPES/cross_section_p_type_module.f90.o\u001b[0m\n",
      "[ 21%] \u001b[32mBuilding Fortran object RemoTAP_Core/SRC_CORE/CMakeFiles/SRC_CORE.dir/TYPES/cross_section_db_type_module.f90.o\u001b[0m\n",
      "[ 21%] \u001b[32mBuilding Fortran object RemoTAP_Core/SRC_CORE/CMakeFiles/SRC_CORE.dir/TYPES/band_info_type_module.f90.o\u001b[0m\n",
      "[ 22%] \u001b[32mBuilding Fortran object RemoTAP_Core/SRC_CORE/CMakeFiles/SRC_CORE.dir/TYPES/dg_type_module.f90.o\u001b[0m\n",
      "[ 23%] \u001b[32mBuilding Fortran object RemoTAP_Core/SRC_CORE/CMakeFiles/SRC_CORE.dir/TYPES/win_abs_type_module.f90.o\u001b[0m\n",
      "[ 23%] \u001b[32mBuilding Fortran object RemoTAP_Core/SRC_CORE/CMakeFiles/SRC_CORE.dir/TYPES/diagnostics_type_module.f90.o\u001b[0m\n",
      "[ 24%] \u001b[32mBuilding Fortran object RemoTAP_Core/SRC_CORE/CMakeFiles/SRC_CORE.dir/TYPES/fixed_fp_abs_type_module.f90.o\u001b[0m\n",
      "[ 24%] \u001b[32mBuilding Fortran object RemoTAP_Core/SRC_CORE/CMakeFiles/SRC_CORE.dir/TYPES/fixed_ns_abs_type_module.f90.o\u001b[0m\n",
      "[ 25%] \u001b[32mBuilding Fortran object RemoTAP_Core/SRC_CORE/CMakeFiles/SRC_CORE.dir/INV_LUT_NEW/TYPES/rint_lut_in_type_module.f90.o\u001b[0m\n",
      "[ 25%] \u001b[32mBuilding Fortran object RemoTAP_Core/SRC_CORE/CMakeFiles/SRC_CORE.dir/INV_LUT_NEW/TYPES/lut_ms_land_in_type_module.f90.o\u001b[0m\n",
      "[ 25%] \u001b[32mBuilding Fortran object RemoTAP_Core/SRC_CORE/CMakeFiles/SRC_CORE.dir/INV_LUT_NEW/TYPES/lut_ms_lowcloud_in_type_module.f90.o\u001b[0m\n",
      "[ 25%] \u001b[32mBuilding Fortran object RemoTAP_Core/SRC_CORE/CMakeFiles/SRC_CORE.dir/INV_LUT_NEW/TYPES/lut_ms_ocean_in_type_module.f90.o\u001b[0m\n",
      "[ 25%] \u001b[32mBuilding Fortran object RemoTAP_Core/SRC_CORE/CMakeFiles/SRC_CORE.dir/INV_LUT_NEW/TYPES/lut_ss_in_type_module.f90.o\u001b[0m\n",
      "[ 25%] \u001b[32mBuilding Fortran object RemoTAP_Core/SRC_CORE/CMakeFiles/SRC_CORE.dir/TYPES/lut_info_type_module.f90.o\u001b[0m\n",
      "[ 25%] \u001b[32mBuilding Fortran object RemoTAP_Core/SRC_CORE/CMakeFiles/SRC_CORE.dir/TYPES/refr_compnt_type_module.f90.o\u001b[0m\n",
      "[ 26%] \u001b[32mBuilding Fortran object RemoTAP_Core/SRC_CORE/CMakeFiles/SRC_CORE.dir/TYPES/refr_mode_type_module.f90.o\u001b[0m\n",
      "[ 26%] \u001b[32mBuilding Fortran object RemoTAP_Core/SRC_CORE/CMakeFiles/SRC_CORE.dir/TYPES/state_vec_info_type_module.f90.o\u001b[0m\n",
      "[ 27%] \u001b[32mBuilding Fortran object RemoTAP_Core/SRC_CORE/CMakeFiles/SRC_CORE.dir/TYPES/state_vec_ns_info_type_module.f90.o\u001b[0m\n",
      "[ 28%] \u001b[32mBuilding Fortran object RemoTAP_Core/SRC_CORE/CMakeFiles/SRC_CORE.dir/TYPES/spectrum_dependent_type_module.f90.o\u001b[0m\n",
      "[ 28%] \u001b[32mBuilding Fortran object RemoTAP_Core/SRC_CORE/CMakeFiles/SRC_CORE.dir/TYPES/state_vec_ns_type_module.f90.o\u001b[0m\n",
      "[ 29%] \u001b[32mBuilding Fortran object RemoTAP_Core/SRC_CORE/CMakeFiles/SRC_CORE.dir/TYPES/state_vec_type_module.f90.o\u001b[0m\n",
      "[ 29%] \u001b[32mBuilding Fortran object RemoTAP_Core/SRC_CORE/CMakeFiles/SRC_CORE.dir/TYPES/tg_bc_type_module.f90.o\u001b[0m\n",
      "[ 30%] \u001b[32mBuilding Fortran object RemoTAP_Core/SRC_CORE/CMakeFiles/SRC_CORE.dir/TYPES/fixed_type_module.f90.o\u001b[0m\n",
      "[ 30%] \u001b[32mBuilding Fortran object RemoTAP_Core/SRC_CORE/CMakeFiles/SRC_CORE.dir/TYPES/measurement_type_module.f90.o\u001b[0m\n",
      "[ 30%] \u001b[32mBuilding Fortran object RemoTAP_Core/SRC_CORE/CMakeFiles/SRC_CORE.dir/TYPES/input_type_module.f90.o\u001b[0m\n",
      "[ 30%] \u001b[32mBuilding Fortran object RemoTAP_Core/SRC_CORE/CMakeFiles/SRC_CORE.dir/TYPES/kmat_trace_gas_type_module.f90.o\u001b[0m\n",
      "[ 31%] \u001b[32mBuilding Fortran object RemoTAP_Core/SRC_CORE/CMakeFiles/SRC_CORE.dir/TYPES/land_ms_type_module.f90.o\u001b[0m\n",
      "[ 32%] \u001b[32mBuilding Fortran object RemoTAP_Core/SRC_CORE/CMakeFiles/SRC_CORE.dir/TYPES/meas_all_type_module.f90.o\u001b[0m\n",
      "[ 33%] \u001b[32mBuilding Fortran object RemoTAP_Core/SRC_CORE/CMakeFiles/SRC_CORE.dir/TYPES/n_mode_true_type_module.f90.o\u001b[0m\n",
      "[ 33%] \u001b[32mBuilding Fortran object RemoTAP_Core/SRC_CORE/CMakeFiles/SRC_CORE.dir/TYPES/result_lut_type_module.f90.o\u001b[0m\n",
      "[ 33%] \u001b[32mBuilding Fortran object RemoTAP_Core/SRC_CORE/CMakeFiles/SRC_CORE.dir/TYPES/spectrum_dependent_der_type_module.f90.o\u001b[0m\n",
      "[ 34%] \u001b[32mBuilding Fortran object RemoTAP_Core/SRC_CORE/CMakeFiles/SRC_CORE.dir/TYPES/win_type_module.f90.o\u001b[0m\n",
      "[ 34%] \u001b[32mBuilding Fortran object RemoTAP_Core/SRC_CORE/CMakeFiles/SRC_CORE.dir/TYPES/output_type_module.f90.o\u001b[0m\n",
      "[ 34%] \u001b[32mBuilding Fortran object RemoTAP_Core/SRC_CORE/CMakeFiles/SRC_CORE.dir/TYPES/paths_type_module.f90.o\u001b[0m\n",
      "[ 35%] \u001b[32mBuilding Fortran object RemoTAP_Core/SRC_CORE/CMakeFiles/SRC_CORE.dir/TYPES/refr_base_type_module.f90.o\u001b[0m\n",
      "[ 36%] \u001b[32mBuilding Fortran object RemoTAP_Core/SRC_CORE/CMakeFiles/SRC_CORE.dir/TYPES/rt_types_type_module.f90.o\u001b[0m\n",
      "[ 37%] \u001b[32mBuilding Fortran object RemoTAP_Core/SRC_CORE/CMakeFiles/SRC_CORE.dir/TYPES/spectrum_dependent_der_ns_type_module.f90.o\u001b[0m\n",
      "[ 37%] \u001b[32mBuilding Fortran object RemoTAP_Core/SRC_CORE/CMakeFiles/SRC_CORE.dir/TYPES/sun_sat_type_module.f90.o\u001b[0m\n",
      "[ 38%] \u001b[32mBuilding Fortran object RemoTAP_Core/SRC_CORE/CMakeFiles/SRC_CORE.dir/TYPES/sun_spectrum_module.f90.o\u001b[0m\n",
      "[ 38%] \u001b[32mBuilding Fortran object RemoTAP_Core/SRC_CORE/CMakeFiles/SRC_CORE.dir/TYPES/win_ns_type_module.f90.o\u001b[0m\n",
      "[ 38%] \u001b[32mBuilding Fortran object RemoTAP_Core/SRC_CORE/CMakeFiles/SRC_CORE.dir/global_types_module.f90.o\u001b[0m\n",
      "[ 39%] \u001b[32mBuilding Fortran object RemoTAP_Core/SRC_CORE/CMakeFiles/SRC_CORE.dir/global_methods_module.f90.o\u001b[0m\n",
      "[ 39%] \u001b[32mBuilding Fortran object RemoTAP_Core/SRC_CORE/CMakeFiles/SRC_CORE.dir/DIAGNOS_TOOLS/diagnostics.f90.o\u001b[0m\n",
      "[ 40%] \u001b[32mBuilding Fortran object RemoTAP_Core/SRC_CORE/CMakeFiles/SRC_CORE.dir/DIAGNOS_TOOLS/lidar_module.f90.o\u001b[0m\n",
      "[ 41%] \u001b[32mBuilding Fortran object RemoTAP_Core/SRC_CORE/CMakeFiles/SRC_CORE.dir/FWD_MODEL/OCEAN/rmatr.f90.o\u001b[0m\n",
      "[ 41%] \u001b[32mBuilding Fortran object RemoTAP_Core/SRC_CORE/CMakeFiles/SRC_CORE.dir/FWD_MODEL/OCEAN/ocean_fresnel_module.f90.o\u001b[0m\n",
      "[ 42%] \u001b[32mBuilding Fortran object RemoTAP_Core/SRC_CORE/CMakeFiles/SRC_CORE.dir/FWD_MODEL/LAND/land_bdrf_module.f90.o\u001b[0m\n",
      "[ 42%] \u001b[32mBuilding Fortran object RemoTAP_Core/SRC_CORE/CMakeFiles/SRC_CORE.dir/FWD_MODEL/LAND/land_bdrf_calc_module.f90.o\u001b[0m\n",
      "[ 42%] \u001b[32mBuilding Fortran object RemoTAP_Core/SRC_CORE/CMakeFiles/SRC_CORE.dir/FWD_MODEL/OCEAN/TYPES/act_type_module.f90.o\u001b[0m\n",
      "[ 43%] \u001b[32mBuilding Fortran object RemoTAP_Core/SRC_CORE/CMakeFiles/SRC_CORE.dir/FWD_MODEL/OCEAN/TYPES/coefftensor_type_module.f90.o\u001b[0m\n",
      "[ 43%] \u001b[32mBuilding Fortran object RemoTAP_Core/SRC_CORE/CMakeFiles/SRC_CORE.dir/FWD_MODEL/OCEAN/TYPES/cdnn_type_module.f90.o\u001b[0m\n",
      "[ 43%] \u001b[32mBuilding Fortran object RemoTAP_Core/SRC_CORE/CMakeFiles/SRC_CORE.dir/FWD_MODEL/OCEAN/TYPES/local_grad_type_module.f90.o\u001b[0m\n",
      "[ 44%] \u001b[32mBuilding Fortran object RemoTAP_Core/SRC_CORE/CMakeFiles/SRC_CORE.dir/FWD_MODEL/OCEAN/TYPES/nn_patterns_type_module.f90.o\u001b[0m\n",
      "[ 45%] \u001b[32mBuilding Fortran object RemoTAP_Core/SRC_CORE/CMakeFiles/SRC_CORE.dir/FWD_MODEL/OCEAN/TYPES/weightmatrix_type_module.f90.o\u001b[0m\n",
      "[ 45%] \u001b[32mBuilding Fortran object RemoTAP_Core/SRC_CORE/CMakeFiles/SRC_CORE.dir/FWD_MODEL/OCEAN/TYPES/nn_type_module.f90.o\u001b[0m\n",
      "[ 46%] \u001b[32mBuilding Fortran object RemoTAP_Core/SRC_CORE/CMakeFiles/SRC_CORE.dir/FWD_MODEL/OCEAN/TYPES/pcatrans_type_module.f90.o\u001b[0m\n",
      "[ 46%] \u001b[32mBuilding Fortran object RemoTAP_Core/SRC_CORE/CMakeFiles/SRC_CORE.dir/FWD_MODEL/OCEAN/TYPES/scalecoeff_type_module.f90.o\u001b[0m\n",
      "[ 46%] \u001b[32mBuilding Fortran object RemoTAP_Core/SRC_CORE/CMakeFiles/SRC_CORE.dir/FWD_MODEL/OCEAN/nn_module.f90.o\u001b[0m\n",
      "[ 47%] \u001b[32mBuilding Fortran object RemoTAP_Core/SRC_CORE/CMakeFiles/SRC_CORE.dir/FWD_MODEL/OCEAN/water.f90.o\u001b[0m\n",
      "[ 47%] \u001b[32mBuilding Fortran object RemoTAP_Core/SRC_CORE/CMakeFiles/SRC_CORE.dir/FWD_MODEL/OCEAN/underlight_nn_module.f90.o\u001b[0m\n",
      "[ 48%] \u001b[32mBuilding Fortran object RemoTAP_Core/SRC_CORE/CMakeFiles/SRC_CORE.dir/FWD_MODEL/OCEAN/ocean_bdrf_calc_module.f90.o\u001b[0m\n",
      "[ 48%] \u001b[32mBuilding Fortran object RemoTAP_Core/SRC_CORE/CMakeFiles/SRC_CORE.dir/FWD_MODEL/U0_kasten_and_young.f90.o\u001b[0m\n",
      "[ 49%] \u001b[32mBuilding Fortran object RemoTAP_Core/SRC_CORE/CMakeFiles/SRC_CORE.dir/FWD_MODEL/combine_der.f90.o\u001b[0m\n",
      "[ 49%] \u001b[32mBuilding Fortran object RemoTAP_Core/SRC_CORE/CMakeFiles/SRC_CORE.dir/FWD_MODEL/depol.f90.o\u001b[0m\n",
      "[ 49%] \u001b[32mBuilding Fortran object RemoTAP_Core/SRC_CORE/CMakeFiles/SRC_CORE.dir/FWD_MODEL/optic_mol_prop.f90.o\u001b[0m\n",
      "[ 50%] \u001b[32mBuilding Fortran object RemoTAP_Core/SRC_CORE/CMakeFiles/SRC_CORE.dir/FWD_MODEL/effective_optical_pars_fast.f90.o\u001b[0m\n",
      "[ 50%] \u001b[32mBuilding Fortran object RemoTAP_Core/SRC_CORE/CMakeFiles/SRC_CORE.dir/lintran_header_fwd.f90.o\u001b[0m\n",
      "[ 50%] \u001b[32mBuilding Fortran object RemoTAP_Core/SRC_CORE/CMakeFiles/SRC_CORE.dir/FWD_MODEL/fwd_model_utils.f90.o\u001b[0m\n",
      "[ 51%] \u001b[32mBuilding Fortran object RemoTAP_Core/SRC_CORE/CMakeFiles/SRC_CORE.dir/tools_meas.f90.o\u001b[0m\n",
      "[ 51%] \u001b[32mBuilding Fortran object RemoTAP_Core/SRC_CORE/CMakeFiles/SRC_CORE.dir/sif.f90.o\u001b[0m\n",
      "[ 52%] \u001b[32mBuilding Fortran object RemoTAP_Core/SRC_CORE/CMakeFiles/SRC_CORE.dir/omp_global_vars.f90.o\u001b[0m\n",
      "[ 53%] \u001b[32mBuilding Fortran object RemoTAP_Core/SRC_CORE/CMakeFiles/SRC_CORE.dir/FWD_MODEL/tau_grid.f90.o\u001b[0m\n",
      "[ 53%] \u001b[32mBuilding Fortran object RemoTAP_Core/SRC_CORE/CMakeFiles/SRC_CORE.dir/time_profiling_pixel.f90.o\u001b[0m\n",
      "[ 53%] \u001b[32mBuilding Fortran object RemoTAP_Core/SRC_CORE/CMakeFiles/SRC_CORE.dir/FWD_MODEL/single_scat.f90.o\u001b[0m\n",
      "[ 53%] \u001b[32mBuilding Fortran object RemoTAP_Core/SRC_CORE/CMakeFiles/SRC_CORE.dir/FWD_MODEL/fwd_model_band.f90.o\u001b[0m\n",
      "[ 54%] \u001b[32mBuilding Fortran object RemoTAP_Core/SRC_CORE/CMakeFiles/SRC_CORE.dir/FWD_MODEL/fwd_model_fine.f90.o\u001b[0m\n",
      "[ 55%] \u001b[32mBuilding Fortran object RemoTAP_Core/SRC_CORE/CMakeFiles/SRC_CORE.dir/FWD_MODEL/rayleigh.f90.o\u001b[0m\n",
      "[ 56%] \u001b[32mBuilding Fortran object RemoTAP_Core/SRC_CORE/CMakeFiles/SRC_CORE.dir/FWD_MODEL/fwd_model_win.f90.o\u001b[0m\n",
      "[ 56%] \u001b[32mBuilding Fortran object RemoTAP_Core/SRC_CORE/CMakeFiles/SRC_CORE.dir/TYPES/aerosol_C_F_type_module.f90.o\u001b[0m\n",
      "[ 57%] \u001b[32mBuilding Fortran object RemoTAP_Core/SRC_CORE/CMakeFiles/SRC_CORE.dir/time_profiling.f90.o\u001b[0m\n",
      "[ 58%] \u001b[32mBuilding Fortran object RemoTAP_Core/SRC_CORE/CMakeFiles/SRC_CORE.dir/FWD_MODEL/optic_aerosol.f90.o\u001b[0m\n",
      "[ 58%] \u001b[32mBuilding Fortran object RemoTAP_Core/SRC_CORE/CMakeFiles/SRC_CORE.dir/FWD_MODEL/fwd_model_fwd.f90.o\u001b[0m\n",
      "[ 59%] \u001b[32mBuilding Fortran object RemoTAP_Core/SRC_CORE/CMakeFiles/SRC_CORE.dir/FWD_MODEL/fwd_model_kernel.f90.o\u001b[0m\n",
      "[ 59%] \u001b[32mBuilding Fortran object RemoTAP_Core/SRC_CORE/CMakeFiles/SRC_CORE.dir/FWD_MODEL/ns_fwd_model.f90.o\u001b[0m\n",
      "[ 59%] \u001b[32mBuilding Fortran object RemoTAP_Core/SRC_CORE/CMakeFiles/SRC_CORE.dir/FWD_MODEL/o4_cross_greenblatt.f90.o\u001b[0m\n",
      "[ 60%] \u001b[32mBuilding Fortran object RemoTAP_Core/SRC_CORE/CMakeFiles/SRC_CORE.dir/INV_LUT_NEW/TYPES/lut_ms_land_type_module.f90.o\u001b[0m\n",
      "[ 61%] \u001b[32mBuilding Fortran object RemoTAP_Core/SRC_CORE/CMakeFiles/SRC_CORE.dir/INV_LUT_NEW/TYPES/lut_ms_lowcloud_type_module.f90.o\u001b[0m\n",
      "[ 62%] \u001b[32mBuilding Fortran object RemoTAP_Core/SRC_CORE/CMakeFiles/SRC_CORE.dir/INV_LUT_NEW/TYPES/lut_ms_ocean_type_module.f90.o\u001b[0m\n",
      "[ 63%] \u001b[32mBuilding Fortran object RemoTAP_Core/SRC_CORE/CMakeFiles/SRC_CORE.dir/INV_LUT_NEW/TYPES/lut_ss_type_module.f90.o\u001b[0m\n",
      "[ 63%] \u001b[32mBuilding Fortran object RemoTAP_Core/SRC_CORE/CMakeFiles/SRC_CORE.dir/INV_LUT_NEW/TYPES/mode_lut_type_module.f90.o\u001b[0m\n",
      "[ 64%] \u001b[32mBuilding Fortran object RemoTAP_Core/SRC_CORE/CMakeFiles/SRC_CORE.dir/INV_LUT_NEW/TYPES/modes_type_module.f90.o\u001b[0m\n",
      "[ 64%] \u001b[32mBuilding Fortran object RemoTAP_Core/SRC_CORE/CMakeFiles/SRC_CORE.dir/INV_LUT_NEW/TYPES/ray_ss_type_module.f90.o\u001b[0m\n",
      "[ 64%] \u001b[32mBuilding Fortran object RemoTAP_Core/SRC_CORE/CMakeFiles/SRC_CORE.dir/INV_LUT_NEW/TYPES/specified_lut_ms_land_type_module.f90.o\u001b[0m\n",
      "[ 65%] \u001b[32mBuilding Fortran object RemoTAP_Core/SRC_CORE/CMakeFiles/SRC_CORE.dir/INV_LUT_NEW/TYPES/specified_lut_ms_lowcloud_type_module.f90.o\u001b[0m\n",
      "[ 65%] \u001b[32mBuilding Fortran object RemoTAP_Core/SRC_CORE/CMakeFiles/SRC_CORE.dir/INV_LUT_NEW/TYPES/specified_lut_ms_ocean_type_module.f90.o\u001b[0m\n",
      "[ 66%] \u001b[32mBuilding Fortran object RemoTAP_Core/SRC_CORE/CMakeFiles/SRC_CORE.dir/INV_LUT_NEW/lut_common_module.f90.o\u001b[0m\n",
      "[ 66%] \u001b[32mBuilding Fortran object RemoTAP_Core/SRC_CORE/CMakeFiles/SRC_CORE.dir/INV_LUT_NEW/lut_retrieval_land.f90.o\u001b[0m\n",
      "[ 67%] \u001b[32mBuilding Fortran object RemoTAP_Core/SRC_CORE/CMakeFiles/SRC_CORE.dir/INV_LUT_NEW/lut_retrieval_lowcloud.f90.o\u001b[0m\n",
      "[ 67%] \u001b[32mBuilding Fortran object RemoTAP_Core/SRC_CORE/CMakeFiles/SRC_CORE.dir/INV_LUT_NEW/lut_retrieval_ocean_nn.f90.o\u001b[0m\n",
      "[ 67%] \u001b[32mBuilding Fortran object RemoTAP_Core/SRC_CORE/CMakeFiles/SRC_CORE.dir/INV_MODEL/fit_ptr.f90.o\u001b[0m\n",
      "[ 68%] \u001b[32mBuilding Fortran object RemoTAP_Core/SRC_CORE/CMakeFiles/SRC_CORE.dir/INV_MODEL/retrieve_intf.f90.o\u001b[0m\n",
      "[ 68%] \u001b[32mBuilding Fortran object RemoTAP_Core/SRC_CORE/CMakeFiles/SRC_CORE.dir/SYN_MEAS_INTF/syn_meas_intf.f90.o\u001b[0m\n",
      "[ 68%] \u001b[32mBuilding Fortran object RemoTAP_Core/SRC_CORE/CMakeFiles/SRC_CORE.dir/prepare_geometry.f90.o\u001b[0m\n",
      "[ 69%] \u001b[32mBuilding Fortran object RemoTAP_Core/SRC_CORE/CMakeFiles/SRC_CORE.dir/SYN_MEAS_INTF/syn_meas_tools.f90.o\u001b[0m\n",
      "[ 69%] \u001b[32mBuilding Fortran object RemoTAP_Core/SRC_CORE/CMakeFiles/SRC_CORE.dir/bias_correction.f90.o\u001b[0m\n",
      "[ 70%] \u001b[32mBuilding Fortran object RemoTAP_Core/SRC_CORE/CMakeFiles/SRC_CORE.dir/check_glint.f90.o\u001b[0m\n",
      "[ 70%] \u001b[32mBuilding Fortran object RemoTAP_Core/SRC_CORE/CMakeFiles/SRC_CORE.dir/fit_size.f90.o\u001b[0m\n",
      "[ 71%] \u001b[32mBuilding Fortran object RemoTAP_Core/SRC_CORE/CMakeFiles/SRC_CORE.dir/make_measurement.f90.o\u001b[0m\n",
      "[ 72%] \u001b[32mBuilding Fortran object RemoTAP_Core/SRC_CORE/CMakeFiles/SRC_CORE.dir/iterative_retrieval.f90.o\u001b[0m\n",
      "[ 72%] \u001b[32mBuilding Fortran object RemoTAP_Core/SRC_CORE/CMakeFiles/SRC_CORE.dir/ns_retrieval.f90.o\u001b[0m\n",
      "[ 73%] \u001b[32mBuilding Fortran object RemoTAP_Core/SRC_CORE/CMakeFiles/SRC_CORE.dir/read_solar_spectrum.f90.o\u001b[0m\n",
      "[ 73%] \u001b[32mBuilding Fortran object RemoTAP_Core/SRC_CORE/CMakeFiles/SRC_CORE.dir/read_xsdb_fwd.f90.o\u001b[0m\n",
      "[ 74%] \u001b[32mBuilding Fortran object RemoTAP_Core/SRC_CORE/CMakeFiles/SRC_CORE.dir/retrieve_firstguess.f90.o\u001b[0m\n",
      "[ 74%] \u001b[32mBuilding Fortran object RemoTAP_Core/SRC_CORE/CMakeFiles/SRC_CORE.dir/retrieve_pixel.f90.o\u001b[0m\n",
      "[ 75%] \u001b[32mBuilding Fortran object RemoTAP_Core/SRC_CORE/CMakeFiles/SRC_CORE.dir/sat_solar_model.f90.o\u001b[0m\n",
      "[ 76%] \u001b[32mBuilding Fortran object RemoTAP_Core/SRC_CORE/CMakeFiles/SRC_CORE.dir/solar_model.f90.o\u001b[0m\n",
      "[ 76%] \u001b[32mBuilding Fortran object RemoTAP_Core/SRC_CORE/CMakeFiles/SRC_CORE.dir/solar_position.f90.o\u001b[0m\n",
      "[ 76%] \u001b[32m\u001b[1mLinking Fortran static library libSRC_CORE.a\u001b[0m\n",
      "[ 76%] Built target SRC_CORE\n",
      "[ 76%] \u001b[32mBuilding Fortran object RemoTAP_Core/UNIFORM/CMakeFiles/UNIFORM.dir/Lib_Sim/TYPES/orbit_data_type_module.f90.o\u001b[0m\n",
      "[ 76%] \u001b[32mBuilding Fortran object RemoTAP_Core/UNIFORM/CMakeFiles/UNIFORM.dir/atmospheric_input.f90.o\u001b[0m\n",
      "[ 76%] \u001b[32mBuilding Fortran object RemoTAP_Core/UNIFORM/CMakeFiles/UNIFORM.dir/read_atmosphere_uniform.f90.o\u001b[0m\n",
      "[ 77%] \u001b[32mBuilding Fortran object RemoTAP_Core/UNIFORM/CMakeFiles/UNIFORM.dir/Lib_Sim/read_ini_syn_uniform.f90.o\u001b[0m\n",
      "[ 77%] \u001b[32mBuilding Fortran object RemoTAP_Core/UNIFORM/CMakeFiles/UNIFORM.dir/Lib_Sim/save_l1c_intf_uniform.f90.o\u001b[0m\n",
      "[ 78%] \u001b[32mBuilding Fortran object RemoTAP_Core/UNIFORM/CMakeFiles/UNIFORM.dir/TYPES/aerosol_fitflag_type_module.f90.o\u001b[0m\n",
      "[ 78%] \u001b[32mBuilding Fortran object RemoTAP_Core/UNIFORM/CMakeFiles/UNIFORM.dir/TYPES/compntdim_type_module.f90.o\u001b[0m\n",
      "[ 79%] \u001b[32mBuilding Fortran object RemoTAP_Core/UNIFORM/CMakeFiles/UNIFORM.dir/TYPES/icecld_fitflag_type_module.f90.o\u001b[0m\n",
      "[ 79%] \u001b[32mBuilding Fortran object RemoTAP_Core/UNIFORM/CMakeFiles/UNIFORM.dir/TYPES/list_input_type_module.f90.o\u001b[0m\n",
      "[ 80%] \u001b[32mBuilding Fortran object RemoTAP_Core/UNIFORM/CMakeFiles/UNIFORM.dir/TYPES/output_info_type_module.f90.o\u001b[0m\n",
      "[ 81%] \u001b[32mBuilding Fortran object RemoTAP_Core/UNIFORM/CMakeFiles/UNIFORM.dir/prepare_measurement.f90.o\u001b[0m\n",
      "[ 82%] \u001b[32mBuilding Fortran object RemoTAP_Core/UNIFORM/CMakeFiles/UNIFORM.dir/prepare_output.f90.o\u001b[0m\n",
      "[ 82%] \u001b[32mBuilding Fortran object RemoTAP_Core/UNIFORM/CMakeFiles/UNIFORM.dir/read_ini.f90.o\u001b[0m\n",
      "[ 83%] \u001b[32mBuilding Fortran object RemoTAP_Core/UNIFORM/CMakeFiles/UNIFORM.dir/read_ini_ns.f90.o\u001b[0m\n",
      "[ 83%] \u001b[32mBuilding Fortran object RemoTAP_Core/UNIFORM/CMakeFiles/UNIFORM.dir/read_syn_uniform.f90.o\u001b[0m\n",
      "[ 84%] \u001b[32mBuilding Fortran object RemoTAP_Core/UNIFORM/CMakeFiles/UNIFORM.dir/remotap_core.f90.o\u001b[0m\n",
      "[ 84%] \u001b[32mBuilding Fortran object RemoTAP_Core/UNIFORM/CMakeFiles/UNIFORM.dir/save_output_methods.f90.o\u001b[0m\n",
      "[ 84%] \u001b[32mBuilding Fortran object RemoTAP_Core/UNIFORM/CMakeFiles/UNIFORM.dir/save_output_l2.f90.o\u001b[0m\n",
      "[ 85%] \u001b[32mBuilding Fortran object RemoTAP_Core/UNIFORM/CMakeFiles/UNIFORM.dir/remotap_uniform_io.f90.o\u001b[0m\n",
      "[ 86%] \u001b[32m\u001b[1mLinking Fortran static library libUNIFORM.a\u001b[0m\n",
      "[ 86%] Built target UNIFORM\n",
      "[ 86%] \u001b[32mBuilding Fortran object RemoTAP_Core/UNITTEST/CMakeFiles/UnitTestFrameWork.dir/unittests_framework.f90.o\u001b[0m\n",
      "[ 87%] \u001b[32m\u001b[1mLinking Fortran static library libUnitTestFrameWork.a\u001b[0m\n",
      "[ 87%] Built target UnitTestFrameWork\n",
      "[ 87%] \u001b[32mBuilding Fortran object RemoTAP_Core/UNITTEST/CMakeFiles/UnitTestCore.dir/RemoTAP_Core/LINTRAN/unittests_lintran.f90.o\u001b[0m\n",
      "[ 87%] \u001b[32mBuilding Fortran object RemoTAP_Core/UNITTEST/CMakeFiles/UnitTestCore.dir/RemoTAP_Core/NUM_TOOLS/unittests_num_tools_module.f90.o\u001b[0m\n",
      "[ 88%] \u001b[32mBuilding Fortran object RemoTAP_Core/UNITTEST/CMakeFiles/UnitTestCore.dir/RemoTAP_Core/NUM_TOOLS/unittests_num_tools.f90.o\u001b[0m\n",
      "[ 88%] \u001b[32mBuilding Fortran object RemoTAP_Core/UNITTEST/CMakeFiles/UnitTestCore.dir/RemoTAP_Core/OpticM/unittests_opticm.f90.o\u001b[0m\n",
      "[ 89%] \u001b[32mBuilding Fortran object RemoTAP_Core/UNITTEST/CMakeFiles/UnitTestCore.dir/RemoTAP_Core/SRC_CORE/unittests_global_types_module.f90.o\u001b[0m\n",
      "[ 89%] \u001b[32mBuilding Fortran object RemoTAP_Core/UNITTEST/CMakeFiles/UnitTestCore.dir/RemoTAP_Core/SRC_CORE/unittests_settings_type_module.f90.o\u001b[0m\n",
      "[ 89%] \u001b[32mBuilding Fortran object RemoTAP_Core/UNITTEST/CMakeFiles/UnitTestCore.dir/RemoTAP_Core/SRC_CORE/unittests_src_core_types_module.f90.o\u001b[0m\n",
      "[ 90%] \u001b[32mBuilding Fortran object RemoTAP_Core/UNITTEST/CMakeFiles/UnitTestCore.dir/RemoTAP_Core/SRC_CORE/unittests_tau_grid_module.f90.o\u001b[0m\n",
      "[ 91%] \u001b[32mBuilding Fortran object RemoTAP_Core/UNITTEST/CMakeFiles/UnitTestCore.dir/RemoTAP_Core/SRC_CORE/unittests_src_core.f90.o\u001b[0m\n",
      "[ 91%] \u001b[32mBuilding Fortran object RemoTAP_Core/UNITTEST/CMakeFiles/UnitTestCore.dir/RemoTAP_Core/UNIFORM/unittests_uniform.f90.o\u001b[0m\n",
      "[ 92%] \u001b[32mBuilding Fortran object RemoTAP_Core/UNITTEST/CMakeFiles/UnitTestCore.dir/RemoTAP_Core/UTILS/unittests_logger.f90.o\u001b[0m\n",
      "[ 92%] \u001b[32mBuilding Fortran object RemoTAP_Core/UNITTEST/CMakeFiles/UnitTestCore.dir/RemoTAP_Core/UTILS/unittests_netcdf_tools.f90.o\u001b[0m\n",
      "[ 93%] \u001b[32mBuilding Fortran object RemoTAP_Core/UNITTEST/CMakeFiles/UnitTestCore.dir/RemoTAP_Core/UTILS/unittests_output_dictionary.f90.o\u001b[0m\n",
      "[ 93%] \u001b[32mBuilding Fortran object RemoTAP_Core/UNITTEST/CMakeFiles/UnitTestCore.dir/RemoTAP_Core/UTILS/unittests_types.f90.o\u001b[0m\n",
      "[ 94%] \u001b[32mBuilding Fortran object RemoTAP_Core/UNITTEST/CMakeFiles/UnitTestCore.dir/RemoTAP_Core/UTILS/unittests_utilities.f90.o\u001b[0m\n",
      "[ 94%] \u001b[32mBuilding Fortran object RemoTAP_Core/UNITTEST/CMakeFiles/UnitTestCore.dir/RemoTAP_Core/UTILS/unittests_utils.f90.o\u001b[0m\n",
      "[ 95%] \u001b[32mBuilding Fortran object RemoTAP_Core/UNITTEST/CMakeFiles/UnitTestCore.dir/RemoTAP_Core/unittests_core.f90.o\u001b[0m\n",
      "[ 95%] \u001b[32mBuilding Fortran object RemoTAP_Core/UNITTEST/CMakeFiles/UnitTestCore.dir/unittests.f90.o\u001b[0m\n",
      "[ 96%] \u001b[32m\u001b[1mLinking Fortran executable UnitTestCore\u001b[0m\n",
      "[ 96%] Built target UnitTestCore\n",
      "[ 96%] \u001b[32mBuilding Fortran object RemoTAP_CO2M/RemoTAP_CO2M_FWD/CMakeFiles/run_fwd_co2m.dir/RemoTAP_Lib/save_l1c_intf_orbit_co2m.f90.o\u001b[0m\n",
      "[ 97%] \u001b[32mBuilding Fortran object RemoTAP_CO2M/RemoTAP_CO2M_FWD/CMakeFiles/run_fwd_co2m.dir/RemoTAP_Sim/main_fwd_co2m.f90.o\u001b[0m\n",
      "[ 98%] \u001b[32m\u001b[1mLinking Fortran executable run_fwd_co2m\u001b[0m\n",
      "[ 98%] Built target run_fwd_co2m\n",
      "[ 99%] \u001b[32mBuilding Fortran object RemoTAP_CO2M/RemoTAP_E2ES/CMakeFiles/run_fwd_E2ES.dir/RemoTAP_Lib/save_l1c_intf_E2ES.f90.o\u001b[0m\n",
      "[ 99%] \u001b[32mBuilding Fortran object RemoTAP_CO2M/RemoTAP_E2ES/CMakeFiles/run_fwd_E2ES.dir/main_fwd_E2ES.f90.o\u001b[0m\n",
      "[ 99%] \u001b[32m\u001b[1mLinking Fortran executable run_fwd_E2ES\u001b[0m\n",
      "[ 99%] Built target run_fwd_E2ES\n",
      "[ 99%] \u001b[32mBuilding Fortran object RemoTAP_FWD/CMakeFiles/run_fwd_uniform.dir/RemoTAP_Sim/main_fwd_uniform.f90.o\u001b[0m\n",
      "[100%] \u001b[32m\u001b[1mLinking Fortran executable run_fwd_uniform\u001b[0m\n",
      "[100%] Built target run_fwd_uniform\n",
      "\n",
      "\n"
     ]
    }
   ],
   "source": [
    "remotap_srcdir = sgm2remotap_config['io_files']['srcdir_remotap']\n",
    "remotap_builddir = os.path.join(remotap_srcdir, \"RemoTAP\", \"build_fwd\")\n",
    "\n",
    "if os.path.isdir(remotap_builddir):\n",
    "    print(\"Build directory exists; scrapping it!\")\n",
    "    shutil.rmtree(remotap_builddir)\n",
    "    \n",
    "os.makedirs(remotap_builddir, exist_ok=True)\n",
    "os.chdir(remotap_builddir)\n",
    "\n",
    "cmake_cmd = ['cmake', '-D', 'option_use_fwd=ON']\n",
    "if platform.system() == 'Darwin':\n",
    "    cmake_cmd += ['-D', 'compile_suit=Homebrew-GCC']\n",
    "cmake_cmd.append('..')\n",
    "status = subprocess.run(cmake_cmd, capture_output=True)\n",
    "print(status.stdout.decode())\n",
    "print(status.stderr.decode())\n",
    "\n",
    "# Repeat to set variables correctly\n",
    "status = subprocess.run(cmake_cmd, capture_output=True)\n",
    "print(status.stdout.decode())\n",
    "print(status.stderr.decode())\n",
    "\n",
    "# Build it!\n",
    "if status.returncode == 0:\n",
    "    print(\"Compiling RemoTAP. This will take a while!\")\n",
    "    status = subprocess.run(['make'], capture_output=True)\n",
    "    print(status.stdout.decode())\n",
    "    print(status.stderr.decode())"
   ]
  },
  {
   "cell_type": "markdown",
   "metadata": {},
   "source": [
    "### 5.4 Trim down granule for example forward simulation"
   ]
  },
  {
   "cell_type": "code",
   "execution_count": 14,
   "metadata": {},
   "outputs": [],
   "source": [
    "geom = sgm2remotap_config['io_files']['output_geometry']\n",
    "inp = sgm2remotap_config['io_files']['output_input']\n",
    "aux = sgm2remotap_config['io_files']['output_aux']\n",
    "ini = sgm2remotap_config['io_files']['output_ini']\n",
    "\n",
    "geom_reduced = \"{}_reduced{}\".format(*os.path.splitext(geom))\n",
    "inp_reduced = \"{}_reduced{}\".format(*os.path.splitext(inp))\n",
    "aux_reduced = \"{}_reduced{}\".format(*os.path.splitext(aux))\n",
    "ini_reduced = \"{}_reduced{}\".format(*os.path.splitext(ini))"
   ]
  },
  {
   "cell_type": "code",
   "execution_count": 15,
   "metadata": {},
   "outputs": [],
   "source": [
    "if proc_forward:\n",
    "    Nalt = 1\n",
    "    Nact = -1\n",
    "    Npix = -1\n",
    "\n",
    "    with h5netcdf.File(geom) as nc:\n",
    "        Nact = nc.dimensions[\"Nacross_track\"].size\n",
    "        Npix = Nalt*Nact\n",
    "\n",
    "        with h5netcdf.File(geom_reduced, \"w\") as nc_out:\n",
    "            out_dims = {}\n",
    "            for d in nc.dimensions.keys():\n",
    "                sz = nc.dimensions[d].size\n",
    "                if d == \"Npix\":\n",
    "                    sz = Npix\n",
    "                elif d == \"Nalong_track\":\n",
    "                    sz = Nalt\n",
    "                out_dims[d] = sz\n",
    "            nc_out.dimensions.update(out_dims)\n",
    "\n",
    "            for v in nc.variables.keys():\n",
    "                data = nc.variables[v][:]\n",
    "                data = data[:Npix]\n",
    "                outvar = nc_out.create_variable(\n",
    "                    v,\n",
    "                    dimensions=nc.variables[v].dimensions,\n",
    "                    dtype=nc.variables[v].dtype,\n",
    "                    data=data\n",
    "                )\n",
    "\n",
    "    with h5netcdf.File(inp) as nc:\n",
    "        with h5netcdf.File(inp_reduced, \"w\") as nc_out:\n",
    "            nc_out.dimensions = {\"Npix\": Npix}\n",
    "            for g in nc.groups.keys():\n",
    "                grp = nc.groups[g]\n",
    "                ogrp = nc_out.create_group(g)\n",
    "                out_dims = {}\n",
    "                for d in grp.dimensions.keys():\n",
    "                    out_dims[d] = grp.dimensions[d].size\n",
    "                ogrp.dimensions = out_dims\n",
    "\n",
    "                for v in grp.variables.keys():\n",
    "                    dims = grp.variables[v].dimensions\n",
    "                    data = grp.variables[v][:]\n",
    "                    if dims[0] == \"Npix\":\n",
    "                        data = data[:Npix]\n",
    "                    elif len(dims) >= 2 and dims[1] == \"Npix\":\n",
    "                        data = data[:,:Npix]\n",
    "                    elif len(dims) >= 3 and dims[2] == \"Npix\":\n",
    "                        data = data[:,:,:Npix]\n",
    "\n",
    "                    ogrp.create_variable(\n",
    "                        v,\n",
    "                        dimensions=dims,\n",
    "                        dtype=grp.variables[v].dtype,\n",
    "                        data=data\n",
    "                    )\n",
    "\n",
    "    with h5netcdf.File(aux) as nc:\n",
    "        with h5netcdf.File(aux_reduced, \"w\") as nc_out:\n",
    "            out_dims = {}\n",
    "            for d in nc.dimensions.keys():\n",
    "                out_dims[d] = nc.dimensions[d].size if d != \"Npix\" else Npix\n",
    "            nc_out.dimensions.update(out_dims)\n",
    "            for v in nc.variables.keys():\n",
    "                dims = nc.variables[v].dimensions\n",
    "                data = nc.variables[v][:]\n",
    "                if dims[0] == \"Npix\":\n",
    "                    data = data[:Npix]\n",
    "                elif len(dims) >= 2 and dims[1] == \"Npix\":\n",
    "                    data = data[:,:Npix]\n",
    "                elif len(dims) >= 3 and dims[2] == \"Npix\":\n",
    "                    data = data[:,:,:Npix]\n",
    "\n",
    "                nc_out.create_variable(\n",
    "                    v,\n",
    "                    dimensions=dims,\n",
    "                    dtype=nc.variables[v].dtype,\n",
    "                    data=data\n",
    "                )\n",
    "\n",
    "    with open(ini_reduced, \"w\") as ini_out:\n",
    "        if not sgm2remotap_config['io_files']['dir_remotap_data'].endswith('/'):\n",
    "            sgm2remotap_config['io_files']['dir_remotap_data'] += '/'\n",
    "        if not sgm2remotap_config['io_files']['dir_remotap_result'].endswith('/'):\n",
    "            sgm2remotap_config['io_files']['dir_remotap_result'] += '/'\n",
    "\n",
    "        print(\n",
    "            fill_ini_template(\n",
    "                sgm2remotap_config['io_files']['dir_remotap_data'],\n",
    "                geom_reduced,\n",
    "                inp_reduced,\n",
    "                aux_reduced,\n",
    "                sgm2remotap_config['io_files']['dir_remotap_result']\n",
    "            ),\n",
    "            file=ini_out\n",
    "        )       "
   ]
  },
  {
   "cell_type": "markdown",
   "metadata": {},
   "source": [
    "### 5.5 Perform forward simulation on reduced dataset"
   ]
  },
  {
   "cell_type": "code",
   "execution_count": 16,
   "metadata": {},
   "outputs": [
    {
     "name": "stdout",
     "output_type": "stream",
     "text": [
      "Begin forward simulation. This could take a while!\n",
      "/Users/petersk/remotap-tango/RemoTAP/build_fwd/RemoTAP_CO2M/RemoTAP_CO2M_FWD/run_fwd_co2m /Users/petersk/Tango_E2ES/data/interface_data2/sgm/syn_tango_remotap_reduced.ini 0 /Users/petersk/remotap-tango/RemoTAP/RemoTAP_CO2M/settings.dat\n",
      " Case: openmp\n",
      "mac-205.local\n",
      "10\n",
      " omp_get_max_threads() =         10\n",
      " nargs =          3\n",
      " fname_ini_full = /Users/petersk/Tango_E2ES/data/interface_data2/sgm/syn_tango_remotap_reduced.ini\n",
      " case_noise_model_char = 0\n",
      " case_noise_model =          0\n",
      " values_start_program =       2024        12        13        60        15        34        55        19\n",
      " settings%maxstr =          8\n",
      " settings%maxstr_reduced =          4\n",
      " settings%nstokes =          3\n",
      " settings%maxd =          7\n",
      " settings%ncoefsray =          2\n",
      " settings%set_landmapband_aotprior_1stguess = T\n",
      " settings%set_landmapband_xbdrfwaveprior_1stguess = T\n",
      " settings%set_landspecband_xbdrfwaveprior_1stguess = T\n",
      " settings%set_land_bdrfgeoprior_1stguess = F\n",
      " settings%set_land_bpdfprior_1stguess = F\n",
      " settings%set_oceanmapband_aotprior_1stguess = F\n",
      " settings%set_specband_shiftprior_1stguess = F\n",
      " settings%set_wspeedprior_1stguess = F\n",
      " settings%lutchi2_cloud_filtering = F\n",
      " settings%NN_1stguess = F\n",
      " settings%chi2_fguess_thres_land =   0.300000000000E+02\n",
      " settings%chi2_fguess_thres_ocean =   0.450000000000E+02\n",
      " settings%case_type_fine =          0\n",
      " settings%lbl_step_fine =          5\n",
      " settings%case_type_win =          2\n",
      " settings%lbl_step_win =          3\n",
      " settings%option_fitsize =          0\n",
      " settings%option_land_aot_weight =          4\n",
      " settings%option_ocean_aot_weight =          4\n",
      " settings%trunc_factor =   0.100000000000E-11\n",
      " settings%speedup_fit_cfread_band = T\n",
      " settings%speedup_fit_optic_aerosol_ss_fwd = T\n",
      " settings%speedup_fwd_cfread_band = T\n",
      " settings%speedup_fwd_land_bdrf_fou = T\n",
      " settings%speedup_fwd_optic_aerosol_ker = T\n",
      " settings%speedup_fwd_optic_aerosol_ss = T\n",
      " settings%npoint_pang_fwd =          3\n",
      " settings%npoint_pang_fit =          2\n",
      " settings%nst_win_retr =          1\n",
      " settings%case_alh_gaussian = T\n",
      " settings%case_shift =         -1\n",
      " settings%thres_cs_band_types0_1 =   0.100000000000E-29\n",
      " settings%thres_cs_band_type2 =   0.100000000000E-98\n",
      " settings%conv_rel_val =   0.100000000000E-01\n",
      " settings%conv_abs_val =   0.500000000000E-01\n",
      " settings%maxitr_retr =         15\n",
      " settings%itrlimit =         10\n",
      " settings%chi2min_itrlimit =   0.300000000000E+02\n",
      " settings%nitr_check =          3\n",
      " settings%water_thr =   0.500100000000E+00\n",
      " settings%cloud_thr =   0.100100000000E+00\n",
      " settings%cirrus_thr =   0.100100000000E+00\n",
      " settings%tatot =   0.150000000000E+02\n",
      " settings%clr_cloudfrac =   0.200000000000E+00\n",
      " settings%reff_coarse_threshold =   0.650000000000E+00\n",
      " settings%tau_uplimit =   0.800000000000E+01\n",
      " settings%taua_mol_lowlimit =   0.100000000000E-19\n",
      " settings%tau_cloud_uplimit =   0.600000000000E+02\n",
      " settings%mr_lowlimit =   0.130001000000E+01\n",
      " settings%mr_uplimit =   0.169000000000E+01\n",
      " settings%dp_sub_max_fp =   0.200000000000E+02\n",
      " settings%dp_sub_max_ns =   0.400000000000E+02\n",
      " settings%ncoefs_refr_cirrus =          1\n",
      " settings%simfwd_bandtype2_output_radiance = T\n",
      " settings%case_polarization =          0\n",
      " settings%icecld_lut_gfac = F\n",
      " settings%output_top_down = F\n",
      " settings%output_valid_case =          0\n",
      " settings%with_lidar = F\n",
      " settings%with_engineering = F\n",
      " settings%aux_hybrid = F\n",
      " SUM(band_info(:)%nwave_meas) =        990\n",
      " TRIM(geometry_orbit_instr(i_ins)) = /Users/petersk/Tango_E2ES/data/interface_data2/sgm/remotap_geometry_exp10_reduced.nc\n",
      " ********************************************************************************\n",
      " *\n",
      " M\n",
      " ********************************************************************************\n",
      " *\n",
      " KER\n",
      " fresnel_switch = F\n",
      " TRIM(paths%path_result) = /Users/petersk/Tango_E2ES/data/interface_data2/sgm/SYNTH/\n",
      " TRIM(paths%path_mie_tmatrix) = /Volumes/hammerspace/DATA_CLEAN//MIE_TMATRIX/MIE_TMATRIX_created20230525/\n",
      " TRIM(paths%path_smalldata) = /Volumes/hammerspace/DATA_CLEAN//SMALL_DATA/SMALL_DATA_created20230525/\n",
      " TRIM(paths%path_lut_ul) = /Volumes/hammerspace/DATA_CLEAN//OCEAN_BODY/NN_TABLE_created20230525/\n",
      " TRIM(fname_solar_irrad) = /Volumes/hammerspace/DATA_CLEAN//SOLAR/irrcmasun2000_co2m_created20230525.nc\n",
      " TRIM(file_cirrus_lut) = /Volumes/hammerspace/DATA_CLEAN//CIRRUS/phase_matrix_cirrus_full_created20230525.nc\n",
      " input_with_path = T\n",
      " geom_with_path = T\n",
      " aux_with_path = T\n",
      " /Volumes/hammerspace/DATA_CLEAN//MIE_TMATRIX/MIE_TMATRIX_created20230525/Kernal_sph/\n",
      " n_xgr01, wlength =         41  0.340000000000E+00\n",
      " \n",
      " \n",
      " r0_in =   0.648096300000E-03  0.850350000000E-03  0.111572200000E-02  0.146390900000E-02  0.192075600000E-02  0.252017300000E-02  0.330665200000E-02  0.433857000000E-02  0.569252300000E-02  0.746900800000E-02  0.979988700000E-02  0.128581700000E-01  0.168708700000E-01  0.221358200000E-01  0.290438200000E-01  0.381076200000E-01  0.500000000000E-01  0.656036700000E-01  0.860768400000E-01  0.112939100000E+00  0.148184400000E+00  0.194428900000E+00  0.255105000000E+00  0.334716500000E+00  0.439172600000E+00  0.576226700000E+00  0.756051800000E+00  0.991995500000E+00  0.130157100000E+01  0.170775700000E+01  0.224070200000E+01  0.293996600000E+01  0.385745200000E+01  0.506126000000E+01  0.664074500000E+01  0.871314500000E+01  0.114322900000E+02  0.150000000000E+02  0.196811000000E+02  0.258230500000E+02  0.338817400000E+02\n",
      " x0_in = (2*PI*r/wlength)   0.119767916171E-01  0.157144312528E-01  0.206184943450E-01  0.270529750584E-01  0.354954878761E-01  0.465726881328E-01  0.611067860658E-01  0.801765861123E-01  0.105197579042E+00  0.138026945073E+00  0.181101488266E+00  0.237618425945E+00  0.311772948539E+00  0.409068997019E+00  0.536728538495E+00  0.704227170811E+00  0.923997839291E+00  0.121235298659E+01  0.159069628346E+01  0.208710968743E+01  0.273844130833E+01  0.359303766991E+01  0.471432937585E+01  0.618554645550E+01  0.811589066952E+01  0.106486445148E+02  0.139718045918E+02  0.183320339717E+02  0.240529758337E+02  0.315592755607E+02  0.414080761299E+02  0.543304446318E+02  0.712855462634E+02  0.935318660818E+02  0.122720680626E+03  0.161018543069E+03  0.211268225163E+03  0.277199351787E+03  0.363705877497E+03  0.477208848078E+03  0.626133091028E+03\n",
      " tet0_in(1), tet0_in(n_tet0) =   0.000000000000E+00  0.314159265359E+01\n",
      " tet0_in_dg(1), tet0_in_dg(n_tet0) =   0.312834294276E+01  0.132497108317E-01\n",
      " \n",
      " \n",
      " sp_el =          0\n",
      " n_xgr01, n_xgr0 =        -41        41\n",
      " Rem_min,Rem_max =   0.129142900000E+01  0.169642900000E+01\n",
      " Imm_min,Imm_max =  -0.100000000000E-09 -0.500000000000E+00\n",
      " n_Rem, n_Imm =         22       -16\n",
      " Wavel =   0.340000000000E+00\n",
      " \n",
      " \n",
      " sp_el =          1\n",
      " n_xgr01, n_xgr0 =        -41        41\n",
      " Rem_min,Rem_max =   0.129140000000E+01  0.169640000000E+01\n",
      " Imm_min,Imm_max =  -0.100000000000E-09 -0.500000000000E+00\n",
      " n_Rem, n_Imm =         22       -16\n",
      " Wavel =   0.340000000000E+00\n",
      " \n",
      " /Volumes/hammerspace/DATA_CLEAN//CIRRUS/phase_matrix_cirrus_full_created20230525.nc\n",
      " species_with_name = F\n",
      " nspecies_aer =          6\n",
      " with_aot550 = F\n",
      " nwave_species1\n",
      " nwave_species2\n",
      " nwave_species3\n",
      " nwave_species4\n",
      " nwave_species5\n",
      " nwave_species6\n",
      " make_orbit_state_vector start\n",
      " ncount_aacloud, percent =          0  0.000000000000E+00\n",
      " ncount_abcirrus, percent =          0  0.000000000000E+00\n",
      " make_orbit_state_vector finish\n",
      " TRIM(case_solar) = solar_case2\n",
      " system file does not exist\n",
      " after reading (ini_syn, xs, x0, ...), valueRSS01 (GB) =  -0.953674316406E-06\n",
      " system file does not exist\n",
      " after meas_all and atmoshpere, valueRSS02 (GB) =  -0.953674316406E-06\n",
      " Start to write AUX file\n",
      " /Users/petersk/Tango_E2ES/data/interface_data2/sgm/SYNTH/syn_S7A_SCE_02_CSM_____N_tango_remotap_reduced.nc\n",
      " \n",
      " npix, nbins_across_track,nbins_along_track =              365       365         1\n",
      " values_start_main =       2024        12        13        60        15        35         7       818\n",
      " \n",
      " start forward model run\n",
      " End forward model run\n",
      " \n",
      " \n",
      " Time main\n",
      "   CPU time  =      9889.00217 seconds.\n",
      "   Wall time =      1076.37700 seconds.\n",
      "   Date and time [YYYY/MM/DD - hh:mm:ss]\n",
      "   Start:         2024/12/13 - 15:35:07\n",
      "   End:           2024/12/13 - 15:53:04\n",
      " --------\n",
      " system file does not exist\n",
      " valueRSS05 (GB) =  -0.953674316406E-06\n",
      " \n",
      " Start to write SYNTH file\n",
      " /Users/petersk/Tango_E2ES/data/interface_data2/sgm/SYNTH/syn_S7A_CO2_1B_RAD_____N_tango_remotap_reduced.nc\n",
      " \n",
      " Start to write Truth file\n",
      " /Users/petersk/Tango_E2ES/data/interface_data2/sgm/SYNTH/syn_S7A_TRUTH_____N_tango_remotap_reduced.nc\n",
      " \n",
      " End program\n",
      " \n",
      " Time program\n",
      "   CPU time  =      9899.59254 seconds.\n",
      "   Wall time =      1089.27000 seconds.\n",
      "   Date and time [YYYY/MM/DD - hh:mm:ss]\n",
      "   Start:         2024/12/13 - 15:34:55\n",
      "   End:           2024/12/13 - 15:53:04\n",
      " --------\n",
      "\n",
      "sh: lscpu: command not found\n",
      "sh: lscpu: command not found\n",
      "cat: /proc/meminfo: No such file or directory\n",
      "sh: free: command not found\n",
      "sh: line 0: ulimit: stack size: cannot modify limit: Operation not permitted\n",
      "\n"
     ]
    }
   ],
   "source": [
    "remotap_srcdir = sgm2remotap_config['io_files']['srcdir_remotap']\n",
    "remotap_builddir = os.path.join(remotap_srcdir, 'RemoTAP', 'build_fwd')\n",
    "remotap_bin = os.path.join(remotap_builddir, 'RemoTAP_CO2M', 'RemoTAP_CO2M_FWD', 'run_fwd_co2m')\n",
    "settingsfile = os.path.join(remotap_srcdir, 'RemoTAP', 'RemoTAP_CO2M', 'settings.dat')\n",
    "cmd = [remotap_bin, ini_reduced, '0', settingsfile]\n",
    "\n",
    "if proc_forward:\n",
    "    print(\"Begin forward simulation. This could take a while!\")\n",
    "    print(' '.join(cmd))\n",
    "    status = subprocess.run(cmd, capture_output=True)\n",
    "    print(status.stdout.decode())\n",
    "    print(status.stderr.decode())"
   ]
  },
  {
   "cell_type": "markdown",
   "metadata": {},
   "source": [
    "### 5.6 Plot spectrum"
   ]
  },
  {
   "cell_type": "code",
   "execution_count": 17,
   "metadata": {},
   "outputs": [
    {
     "data": {
      "image/png": "[encoded data removed]",
      "text/plain": [
       "<Figure size 640x480 with 1 Axes>"
      ]
     },
     "metadata": {},
     "output_type": "display_data"
    }
   ],
   "source": [
    "if show_spectrum:\n",
    "    ini_basename = os.path.splitext(os.path.basename(ini_reduced))[0]\n",
    "    if ini_basename.startswith('syn_'):\n",
    "        ini_basename = ini_basename[4:]\n",
    "    fwd_output = os.path.join(\n",
    "        sgm2remotap_config['io_files']['dir_remotap_result'],\n",
    "        f'syn_S7A_CO2_1B_RAD_____N_{ini_basename}.nc'\n",
    "    )\n",
    "\n",
    "    with h5netcdf.File(fwd_output) as nc:\n",
    "        wl = nc['/data/band2/instrument_data/radiance_wavelength'][0,:]\n",
    "        rad = nc['/data/band2/observation_data/radiance'][0,0,:]\n",
    "        plt.plot(wl, rad)\n",
    "        plt.xlabel('Wavelength [nm]')\n",
    "        plt.ylabel('Radiance [#photons s^-1 cm^-2 sr^-1 nm^-1')\n",
    "        plt.title('Simulated top-of-atmosphere radiance, pixel 1')\n",
    "        plt.show()"
   ]
  }
 ],
 "metadata": {
  "kernelspec": {
   "display_name": "python-venv",
   "language": "python",
   "name": "python-venv"
  },
  "language_info": {
   "codemirror_mode": {
    "name": "ipython",
    "version": 3
   },
   "file_extension": ".py",
   "mimetype": "text/x-python",
   "name": "python",
   "nbconvert_exporter": "python",
   "pygments_lexer": "ipython3",
   "version": "3.12.7"
  }
 },
 "nbformat": 4,
 "nbformat_minor": 4
}
