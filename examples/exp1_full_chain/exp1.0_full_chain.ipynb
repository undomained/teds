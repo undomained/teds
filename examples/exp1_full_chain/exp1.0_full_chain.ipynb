{
 "cells": [
  {
   "cell_type": "markdown",
   "metadata": {},
   "source": [
    "# TEDS End-to-End Simulation for TANGO-Carbon"
   ]
  },
  {
   "cell_type": "markdown",
   "metadata": {},
   "source": [
    "#### This notebook includes a full-chain processing pipeline for TANGO Carbon. The chain is setup for consistent processing that is outlined in the following diagram:  "
   ]
  },
  {
   "cell_type": "markdown",
   "metadata": {},
   "source": [
    "![title](./tango_e2es_Carbon_chain.png)"
   ]
  },
  {
   "cell_type": "markdown",
   "metadata": {},
   "source": [
    "After inilialization, eight processing steps are sperated:\n",
    "1. Initialization\n",
    "2.\n",
    "\n",
    "The Processor Assessment Module (PAM) includes default visualization and comparison tools. Feel free to modify the plotting scripts and add your own implementation fitting your specific purpose."
   ]
  },
  {
   "cell_type": "markdown",
   "metadata": {},
   "source": [
    "## 1. Reference\n",
    "+ ATBD\n",
    "+ User manual <a href=\"https://teds.rtfd.io/\"> online document</a>"
   ]
  },
  {
   "cell_type": "markdown",
   "metadata": {},
   "source": [
    "## 2. Initialization"
   ]
  },
  {
   "cell_type": "markdown",
   "metadata": {},
   "source": [
    "#### 2.1 Setup the working environment"
   ]
  },
  {
   "cell_type": "code",
   "execution_count": 1,
   "metadata": {},
   "outputs": [],
   "source": [
    "import sys\n",
    "import os\n",
    "import yaml\n",
    "\n",
    "# define  path to search for module\n",
    "sys.path.append(\"/home/jochen/TANGO_E2ES/EndtoEndProject/end_to_end/\")\n",
    "os.chdir(\"/home/jochen/TANGO_E2ES/EndtoEndProject/end_to_end/examples/exp1.0_full_chain/\")"
   ]
  },
  {
   "cell_type": "markdown",
   "metadata": {},
   "source": [
    "#### 2.2 import TEDS modules"
   ]
  },
  {
   "cell_type": "code",
   "execution_count": 2,
   "metadata": {},
   "outputs": [
    {
     "ename": "SyntaxError",
     "evalue": "non-default argument follows default argument (pam_co2.py, line 283)",
     "output_type": "error",
     "traceback": [
      "Traceback \u001b[0;36m(most recent call last)\u001b[0m:\n",
      "\u001b[0m  File \u001b[1;32m~/pythonenvs/tangoendtoend/lib/python3.10/site-packages/IPython/core/interactiveshell.py:3508\u001b[0m in \u001b[1;35mrun_code\u001b[0m\n    exec(code_obj, self.user_global_ns, self.user_ns)\u001b[0m\n",
      "\u001b[0;36m  Cell \u001b[0;32mIn[2], line 8\u001b[0;36m\n\u001b[0;31m    from teds.pam import pam_co2\u001b[0;36m\n",
      "\u001b[0;36m  File \u001b[0;32m~/TANGO_E2ES/EndtoEndProject/end_to_end/teds/pam/pam_co2.py:283\u001b[0;36m\u001b[0m\n\u001b[0;31m    def pam_im(filen, image_no, title = '', data_max):\u001b[0m\n\u001b[0m                                            ^\u001b[0m\n\u001b[0;31mSyntaxError\u001b[0m\u001b[0;31m:\u001b[0m non-default argument follows default argument\n"
     ]
    }
   ],
   "source": [
    "from teds.gm import geometry_module\n",
    "from teds.sgm import geoscene_generation\n",
    "from teds.sgm import Carbon_radiation_scene_generation\n",
    "from teds.im import run_instrument_model\n",
    "from teds.l1al1b import run_l1al1b\n",
    "from teds.siml1b import simplified_instrument_model_and_l1b_processor\n",
    "from teds.l1l2.l1bl2 import level1b_to_level2_processor_RTorCH4, level1b_to_level2_processor\n",
    "from teds.l2l4 import level2_to_level4_processor          \n",
    "from teds.pam import pam_co2"
   ]
  },
  {
   "cell_type": "markdown",
   "metadata": {},
   "source": [
    "#### 2.3 Select the target scene named after the targeted power plant \n",
    "Currently, four reference scenes can be used: (1) Matimba, (2) Jenschwalde, (3) Belchatow, (4) Lipetsk.\n"
   ]
  },
  {
   "cell_type": "code",
   "execution_count": null,
   "metadata": {},
   "outputs": [],
   "source": [
    "#station_name = 'Matimba'\n",
    "station_name = 'Jaenschwalde'\n",
    "#station_name = 'Belchatow'\n",
    "#station_name = 'Lipetsk'"
   ]
  },
  {
   "cell_type": "markdown",
   "metadata": {},
   "source": [
    "### 2.4 Configure specific run\n",
    "All module interfaces are file-based. So, if input files exist, they cn be called as 'stand-alone'. Note that you might to run low level modules to generate the input. PM modules can be also used as 'stand-alone' for data analysis."
   ]
  },
  {
   "cell_type": "code",
   "execution_count": null,
   "metadata": {},
   "outputs": [],
   "source": [
    "proc_gm     = False ; pam_gm = False\n",
    "proc_sgmgps = False ; pam_sgmgps = False\n",
    "proc_sgmrad = False ; pam_sgmrad = False\n",
    "proc_im     = False ; pam_im = True\n",
    "proc_l1al1b = False ; pam_l1b = False\n",
   ]
  },
  {
   "cell_type": "markdown",
   "metadata": {},
   "source": [
    "## 3. Geometry Model"
   ]
  },
  {
   "cell_type": "markdown",
   "metadata": {},
   "source": [
    "#### 3.1 Run the GM module"
   ]
  },
  {
   "cell_type": "code",
   "execution_count": null,
   "metadata": {},
   "outputs": [],
   "source": [
    "if(proc_gm):\n",
    "    #configureation file\n",
    "    gm_config= yaml.safe_load(open('./settings/gm_config_stations.yaml'))\n",
    "    #select the list for the selected target\n",
    "    gm_config['orbit'] = gm_config[station_name]['orbit']\n",
    "    gm_config['sensors'] = gm_config[station_name]['sensors']\n",
    "    geometry_module(gm_config)"
   ]
  },
  {
   "cell_type": "markdown",
   "metadata": {},
   "source": [
    "#### 3.2 Visualization of the GM output"
   ]
  },
  {
   "cell_type": "markdown",
   "metadata": {},
   "source": [
    "For plt_options use 'geoloc' to show the geolocation of the pixel center points, and 'geometry' to show solar zenith angle, viewing zenith angle, solar azimuth angle, and viewing azimuth angle."
   ]
  },
  {
   "cell_type": "code",
   "execution_count": null,
   "metadata": {},
   "outputs": [],
   "source": [
    "if(pam_gm):\n",
    "    gm_config= yaml.safe_load(open('./settings/gm_config_stations.yaml'))\n",
    "    filen = gm_config['io_files']['output_gm']\n",
    "    plt_option = 'geoloc'\n",
    "    pam_co2.pam_gm_Tango_Carbon(filen, station_name, plt_option)"
   ]
  },
  {
   "cell_type": "markdown",
   "metadata": {},
   "source": [
    "## 4. Scene Generatior Module (SGM): Geo-Physical Scene"
   ]
  },
  {
   "cell_type": "markdown",
   "metadata": {},
   "source": [
    "### 4.1 Run the SGM-GEO module"
   ]
  },
  {
   "cell_type": "code",
   "execution_count": null,
   "metadata": {},
   "outputs": [],
   "source": [
    "if(proc_sgmgeo):\n",
    "    sgmgeo_config= yaml.safe_load(open('./settings/geosgm_config_stations.yaml'))\n",
    "    #adjust target specific configs\n",
    "    sgmgeo_config['io_files']['input_s2'] = sgmgeo_config[station_name]['input_s2']\n",
    "    sgmgeo_config['io_files']['meteo'] = sgmgeo_config[station_name]['meteo']\n",
    "\n",
    "    geoscene_generation(sgmgeo_config)"
   ]
  },
  {
   "cell_type": "markdown",
   "metadata": {},
   "source": [
    "### 4.2 Vizualization of SGM-GPS output"
   ]
  },
  {
   "cell_type": "markdown",
   "metadata": {},
   "source": [
    "plt_options is used to configure the output. \n",
    "* The input 'albedo Bxx' specifies the spectral band to be plotted. Here, xx is the band specification. Only bands can be plotted that are given in the input data (e.g. B08 is not available but the more norrow band B08A can be plotted). \n",
    "* The input 'Xxx' specifies the trace gas. Here, xx can be CO2, NO, NO2, CH4, or H2O"
   ]
  },
  {
   "cell_type": "code",
   "execution_count": null,
   "metadata": {},
   "outputs": [],
   "source": [
    "if(pam_sgmgeo):\n",
    "    sgmgeo_config= yaml.safe_load(open('./settings/geosgm_config_stations.yaml'))\n",
    "    filen = sgmgeo_config['io_files']['output_geo']\n",
    "    plt_option = 'XCO2'\n",
    "    #plt_option = 'albedo B11'\n",
    "    pam_co2.pam_sgm_gps(filen, station_name, plt_option)"
   ]
  },
  {
   "cell_type": "markdown",
   "metadata": {},
   "source": [
    "## 5. Scene Generator Module (SGM): Radiation Scene"
   ]
  },
  {
   "cell_type": "markdown",
   "metadata": {},
   "source": [
    "### 5.1 Run SGM-RAD module to generate the radiometric scene"
   ]
  },
  {
   "cell_type": "code",
   "execution_count": null,
   "metadata": {},
   "outputs": [
    {
     "name": "stdout",
     "output_type": "stream",
     "text": [
      "===================================\n",
      "dict_keys(['col_air', 'dcol_ch4', 'dcol_co2', 'dcol_h2o', 'lat', 'lon', 'XCH4', 'XCO2', 'XH2O', 'zlay', 'zlev', 'xpos', 'ypos', 'albedo', 'co2_src_zlatlon', 'no2_src_zlatlon', 'no_src_zlatlon', 'co2_src_kgps', 'no2_src_kgps', 'no_src_kgps'])\n",
      "[299.68     51.83472  14.46277]\n"
     ]
    },
    {
     "ename": "SystemExit",
     "evalue": "jo",
     "output_type": "error",
     "traceback": [
      "An exception has occurred, use %tb to see the full traceback.\n",
      "\u001b[0;31mSystemExit\u001b[0m\u001b[0;31m:\u001b[0m jo\n"
     ]
    },
    {
     "name": "stderr",
     "output_type": "stream",
     "text": [
      "/home/jochen/pythonenvs/tangoendtoend/lib/python3.10/site-packages/IPython/core/interactiveshell.py:3516: UserWarning: To exit: use 'exit', 'quit', or Ctrl-D.\n",
      "  warn(\"To exit: use 'exit', 'quit', or Ctrl-D.\", stacklevel=1)\n"
     ]
    }
   ],
   "source": [
    "if(proc_sgmrad):\n",
    "    sgmrad_config= yaml.safe_load(open('./settings/radsgm_config.yaml'))\n",
    "    Carbon_radiation_scene_generation(sgmrad_config)"
   ]
  },
  {
   "cell_type": "markdown",
   "metadata": {},
   "source": [
    "### 5.2 PAM Visualization of radiometric scene\n",
    "Two panels are created. First a map of the radiometric scene for the wavelength wavel. On this map up to four pixels can be chosen using the tuple ialt_iact. The corresponding spectra are dipicted in the right panel."
   ]
  },
  {
   "cell_type": "code",
   "execution_count": null,
   "metadata": {},
   "outputs": [],
   "source": [
    "if(pam_sgmrad):\n",
    "    sgmrad_config= yaml.safe_load(open('./settings/radsgm_config.yaml'))\n",
    "    filen_rad = sgmrad_config['io_files']['output_rad']\n",
    "    wavel = 1600.0\n",
    "    ialt_iact = [[50,50], [100,3], [105,79], [0,1]]\n",
    "    pam_co2.pam_sgm_rad(filen_rad, station_name, wavel, ialt_iact)"
   ]
  },
  {
   "cell_type": "markdown",
   "metadata": {},
   "source": [
    "## 6. Instrument Model (IM)"
   ]
  },
  {
   "cell_type": "markdown",
   "metadata": {},
   "source": [
    "The instrument model uses instrument Calibration Key Data to simulate instrument detector images "
   ]
  },
  {
   "cell_type": "markdown",
   "metadata": {},
   "source": [
    "### 6.1 Run the IM"
   ]
  },
  {
   "cell_type": "code",
   "execution_count": null,
   "metadata": {},
   "outputs": [],
   "source": [
    "if(proc_im):\n",
    "    im_config= yaml.safe_load(open('./settings/im_config.yaml'))\n",
    "    run_instrument_model(im_config)"
   ]
  },
  {
   "cell_type": "markdown",
   "metadata": {},
   "source": [
    "### 6.2 PAM Plotting detector images"
   ]
  },
  {
   "cell_type": "markdown",
   "metadata": {},
   "source": [
    "The generated L0 data contain a series of detector images. The index ialt points to the image."
   ]
  },
  {
   "cell_type": "code",
   "execution_count": null,
   "metadata": {},
   "outputs": [],
   "source": [
    "if(pam_im):\n",
    "    im_config= yaml.safe_load(open('./settings/im_config.yaml'))\n",
    "    filen_rad = im_config['io']['l1a']\n",
    "    ialt = 50\n",
    "    title = station_name + f' image no. {ialt}'\n",
    "    data_max = 20000.\n",
    "    pam_co2.pam_im(filen_rad, ialt, data_max, title)"
   ]
  },
  {
   "cell_type": "markdown",
   "metadata": {},
   "source": [
    "## 7. L1A to L1B Processor (PDGS element)"
   ]
  },
  {
   "cell_type": "markdown",
   "metadata": {},
   "source": [
    "The L1A-L1B processor is a module for the Payload Data Ground Segement. It calibrated the simulated detector images."
   ]
  },
  {
   "cell_type": "markdown",
   "metadata": {},
   "source": [
    "### 7.1 Execute L1A-L1B data processing"
   ]
  },
  {
   "cell_type": "code",
   "execution_count": null,
   "metadata": {},
   "outputs": [],
   "source": [
    "if(proc_l1al1b):\n",
    "    l1al1b_config= yaml.safe_load(open('./settings/l1al1b_config.yaml'))\n",
    "    run_l1al1b(l1al1b_config)"
   ]
  },
  {
   "cell_type": "markdown",
   "metadata": {},
   "source": [
    "### 7.2 Simplified L1B generator"
   ]
  },
  {
   "cell_type": "markdown",
   "metadata": {},
   "source": [
    "For some studies, it makes sense to replace the IM and the L1A-L1B processor by a simple L1B generator that simulates a L1B product from the SGM simulations. It applies a spectral convolution and a two-parameter SNR model to the spectra and allocates the GM geolocation to the data product."
   ]
  },
  {
   "cell_type": "code",
   "execution_count": null,
   "metadata": {},
   "outputs": [],
   "source": [
    "if(proc_siml1b):\n",
    "    siml1b_config= yaml.safe_load(open('./settings/siml1b_config.yaml'))\n",
    "    simplified_instrument_model_and_l1b_processor(siml1b_config)"
   ]
  },
  {
   "cell_type": "markdown",
   "metadata": {},
   "source": [
    "### 7.3 PAM Comparision with SGM-RAD output"
   ]
  },
  {
   "cell_type": "markdown",
   "metadata": {},
   "source": [
    "_plt_options = spectrum_ requires the input of ialt and iact index to select the spectrum. It compares the processed spectrum with an ISRF-convolved SGM spectrum. Therefore, proper ISRF configuration is needed. \n",
    "\n",
    "_plt_options = histo_ gives a histogram of \n",
    "$$\n",
    "\\frac{I_{L1b}(\\lambda) -I_{ref}(\\lambda)}{\\sigma(\\lambda)}\n",
    "$$ \n",
    "for all spectra. A correct unbiased processing yields a normal distribution with a standard deviation of 1 and a mean of 0."
   ]
  },
  {
   "cell_type": "code",
   "execution_count": null,
   "metadata": {},
   "outputs": [],
   "source": [
    "if(pam_l1b):\n",
    "    siml1b_config= yaml.safe_load(open('./settings/siml1b_config.yaml'))\n",
    "    filen_l1b = siml1b_config['io_files']['output_l1b']\n",
    "    filen_sgmrad = siml1b_config['io_files']['input_sgm']\n",
    "    isrf_config={}\n",
    "    isrf_config['type'] = 'Gaussian'  #type of ISRF, currently only Gaussian or generalized_normal\n",
    "    isrf_config['fwhm'] = 0.45        #fwhm [nm]\n",
    "    plt_options = 'spectrum'\n",
    "    ialt,iact =(50,97)                #onoly needed in case of plt_options = spectrum\n",
    "    plt_options = 'histo'\n",
    "    spec_nominal = True               #True means plotting only nominal spectral range [1590-1675]\n",
    "    pam_co2.pam_l1b(filen_l1b, filen_sgmrad, isrf_config, plt_options, ialt, iact, spec_nominal)"
   ]
  },
  {
   "cell_type": "markdown",
   "metadata": {},
   "source": [
    "## 8. Level 1B to Level 2 $\\rm CO_2$ and $\\rm CH_4$ Proxy Retrieval"
   ]
  },
  {
   "cell_type": "markdown",
   "metadata": {},
   "source": [
    "### 8.1 L2 processing of the $\\mathrm{CO_2}$ and $\\mathrm{CH_4}$ proxy product"
   ]
  },
  {
   "cell_type": "code",
   "execution_count": null,
   "metadata": {},
   "outputs": [],
   "source": [
    "if(proc_l1bl2):\n",
    "    l1bl2_config= yaml.safe_load(open('./settings/l1bl2_config.yaml'))\n",
    "    level1b_to_level2_processor_RTorCH4(l1bl2_config)\n",
    "#    level1b_to_level2_processor(l1bl2_config)"
   ]
  },
  {
   "cell_type": "markdown",
   "metadata": {},
   "source": [
    "### 8.2 PAM L2 comparision with SGM-GEO reference\n",
    "\n",
    "_plt_options = 'map'_ creates a map of the retrieved and the true XCO2 for the data granule.\n",
    "_plt_options = 'histo'_ creates a histogram of all\n",
    "$$\n",
    "\\mathrm{\\frac{XCO_{2}^{ret} -XCO_2^{ref}}{\\sigma(XCO_2)}}\n",
    "$$ \n",
    "for all spatial samples. A correct unbiased processing yields a normal distribution with a standard deviation of 1 and a mean of 0."
   ]
  },
  {
   "cell_type": "code",
   "execution_count": null,
   "metadata": {},
   "outputs": [],
   "source": [
    "if(pam_l2):\n",
    "    l1bl2_config= yaml.safe_load(open('./settings/l1bl2_config.yaml'))\n",
    "    sgmrad_config= yaml.safe_load(open('./settings/radsgm_config.yaml'))\n",
    "    filen = l1bl2_config['io_files']['output_l2']\n",
    "    filen_ref = sgmrad_config['io_files']['output_geo_ref']\n",
    "    plt_options ='histo'\n",
    "    vscale = [385, 430]\n",
    "    pam_co2.pam_l2(filen, filen_ref, station_name, plt_options, vscale)\n",
    "    "
   ]
  },
  {
   "cell_type": "markdown",
   "metadata": {},
   "source": [
    "## 9. Level-2 to Level-4 Processing"
   ]
  },
  {
   "cell_type": "markdown",
   "metadata": {},
   "source": [
    "The processor is a simplified inversion of L2 product to derive emission fluxes assuming perfect knowlegde of the wind field. This tool is usefull to flowdown the lower level mission performance metrics to L4 performance. "
   ]
  },
  {
   "cell_type": "code",
   "execution_count": null,
   "metadata": {},
   "outputs": [],
   "source": [
    "if(proc_l4):\n",
    "    l2l4_config= yaml.safe_load(open('./settings/l2l4_config.yaml'))\n",
    "    l4_product=level2_to_level4_processor(l2l4_config)"
   ]
  }
 ],
 "metadata": {
  "kernelspec": {
   "display_name": "tangoendtoend",
   "language": "python",
   "name": "python3"
  },
  "language_info": {
   "codemirror_mode": {
    "name": "ipython",
    "version": 3
   },
   "file_extension": ".py",
   "mimetype": "text/x-python",
   "name": "python",
   "nbconvert_exporter": "python",
   "pygments_lexer": "ipython3",
   "version": "3.10.12"
  }
 },
 "nbformat": 4,
 "nbformat_minor": 2
}
