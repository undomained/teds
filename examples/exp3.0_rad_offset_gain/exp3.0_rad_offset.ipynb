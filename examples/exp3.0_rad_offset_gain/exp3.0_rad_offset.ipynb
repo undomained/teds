{
 "cells": [
  {
   "cell_type": "markdown",
   "metadata": {},
   "source": [
    "zero level offset"
   ]
  },
  {
   "cell_type": "markdown",
   "metadata": {},
   "source": [
    "set working enviroment"
   ]
  },
  {
   "cell_type": "code",
   "execution_count": 1,
   "metadata": {},
   "outputs": [],
   "source": [
    "import sys\n",
    "import os\n",
    "import yaml\n",
    "\n",
    "# define  path to search for module\n",
    "sys.path.append(\"/home/jochen/TANGO_E2ES/EndtoEndProject/end_to_end/\")\n",
    "os.chdir(\"/home/jochen/TANGO_E2ES/EndtoEndProject/end_to_end/examples/exp3.0_rad_offset_gain/\")"
   ]
  },
  {
   "cell_type": "markdown",
   "metadata": {},
   "source": [
    "import teds modules"
   ]
  },
  {
   "cell_type": "code",
   "execution_count": 2,
   "metadata": {},
   "outputs": [],
   "source": [
    "from teds.gm import geometry_module\n",
    "from teds.sgm import geoscene_generation\n",
    "from teds.sgm import Carbon_radiation_scene_generation\n",
    "from teds.siml1b import simplified_instrument_model_and_l1b_processor\n",
    "from teds.l1l2.l1bl2 import level1b_to_level2_processor_RTorCH4, level1b_to_level2_processor"
   ]
  },
  {
   "cell_type": "markdown",
   "metadata": {},
   "source": [
    "operational flags"
   ]
  },
  {
   "cell_type": "markdown",
   "metadata": {},
   "source": []
  },
  {
   "cell_type": "code",
   "execution_count": 3,
   "metadata": {},
   "outputs": [],
   "source": [
    "proc_gm     = True\n",
    "proc_sgmgeo = True\n",
    "proc_sgmrad = True \n",
    "proc_siml1b = True  \n",
    "proc_l1bl2  = True"
   ]
  },
  {
   "cell_type": "markdown",
   "metadata": {},
   "source": [
    "GM model"
   ]
  },
  {
   "cell_type": "code",
   "execution_count": 4,
   "metadata": {},
   "outputs": [
    {
     "name": "stdout",
     "output_type": "stream",
     "text": [
      "/home/jochen/TANGO_E2ES/EndtoEndProject/data/interface_data/gm/Tango_Carbon_gm_exp3.0.nc\n",
      "2024-11-30 21:16:08,352 : teds.lib.lib_utils : gm : 435 : INFO : =>gm calculation finished successfully. \n"
     ]
    },
    {
     "name": "stderr",
     "output_type": "stream",
     "text": [
      "[21:16:08] =>gm calculation finished successfully. \n"
     ]
    }
   ],
   "source": [
    "if(proc_gm):\n",
    "    #configureation file\n",
    "    gm_config= yaml.safe_load(open('./settings/gm_config.yaml'))\n",
    "    geometry_module(gm_config)"
   ]
  },
  {
   "cell_type": "markdown",
   "metadata": {},
   "source": [
    "SGM-GEO"
   ]
  },
  {
   "cell_type": "code",
   "execution_count": 5,
   "metadata": {},
   "outputs": [
    {
     "name": "stdout",
     "output_type": "stream",
     "text": [
      "=>sgm geoscene calculation finished successfully\n"
     ]
    },
    {
     "name": "stderr",
     "output_type": "stream",
     "text": [
      "/home/jochen/TANGO_E2ES/EndtoEndProject/end_to_end/teds/lib/libGM.py:187: RuntimeWarning: invalid value encountered in divide\n",
      "  cU1 * cU2 * slam / sin_sigma)\n"
     ]
    }
   ],
   "source": [
    "if(proc_sgmgeo):\n",
    "    sgmgeo_config= yaml.safe_load(open('./settings/sgmgeo_config.yaml'))\n",
    "\n",
    "    geoscene_generation(sgmgeo_config)"
   ]
  },
  {
   "cell_type": "markdown",
   "metadata": {},
   "source": [
    "SGM-RAD"
   ]
  },
  {
   "cell_type": "code",
   "execution_count": 6,
   "metadata": {},
   "outputs": [
    {
     "name": "stdout",
     "output_type": "stream",
     "text": [
      "Radiative tranfer simulation...\n"
     ]
    },
    {
     "name": "stderr",
     "output_type": "stream",
     "text": [
      "100%|██████████| 1/1 [00:00<00:00,  2.15it/s]"
     ]
    },
    {
     "name": "stdout",
     "output_type": "stream",
     "text": [
      "=>Carbon radsgm calculation finished successfully\n"
     ]
    },
    {
     "name": "stderr",
     "output_type": "stream",
     "text": [
      "\n"
     ]
    }
   ],
   "source": [
    "if(proc_sgmrad):\n",
    "    sgmrad_config= yaml.safe_load(open('./settings/sgmrad_config.yaml'))\n",
    "    Carbon_radiation_scene_generation(sgmrad_config)"
   ]
  },
  {
   "cell_type": "markdown",
   "metadata": {},
   "source": [
    "Simplified L1B processor"
   ]
  },
  {
   "cell_type": "code",
   "execution_count": 7,
   "metadata": {},
   "outputs": [
    {
     "name": "stderr",
     "output_type": "stream",
     "text": [
      "100%|██████████| 1/1 [00:00<00:00,  2.04it/s]"
     ]
    },
    {
     "name": "stdout",
     "output_type": "stream",
     "text": [
      "=>siml1b calculation finished successfully\n"
     ]
    },
    {
     "name": "stderr",
     "output_type": "stream",
     "text": [
      "\n"
     ]
    }
   ],
   "source": [
    "if(proc_siml1b):\n",
    "    siml1b_config= yaml.safe_load(open('./settings/siml1b_config.yaml'))\n",
    "    simplified_instrument_model_and_l1b_processor(siml1b_config)"
   ]
  },
  {
   "cell_type": "markdown",
   "metadata": {},
   "source": [
    "L2 processing of the $\\mathrm{CO_2}$ and $\\mathrm{CH_4}$ proxy product"
   ]
  },
  {
   "cell_type": "code",
   "execution_count": 8,
   "metadata": {},
   "outputs": [
    {
     "name": "stdout",
     "output_type": "stream",
     "text": [
      "RTorCH4 level 1B to level 2 processor\n",
      "Trace gas concentration priors:\n",
      "H2O: 1.000000e-03\n",
      "CH4: 1.700000e-06\n",
      "CO2: 3.000000e-04\n",
      "Using 2 ACT chunks\n",
      "Begin retrieval at 2024-11-30 21:16:12.039784\n"
     ]
    },
    {
     "name": "stderr",
     "output_type": "stream",
     "text": [
      "100%|██████████| 1/1 [00:14<00:00, 14.36s/it]\n"
     ]
    },
    {
     "name": "stdout",
     "output_type": "stream",
     "text": [
      "Retrieval completed in 0:00:14.363843\n",
      "Writing level 2 output to /home/jochen/TANGO_E2ES/EndtoEndProject/data/interface_data/level2/Tango_Carbon_l2_exp3.0.nc\n",
      "Writing level 2 diagnostics to /home/jochen/TANGO_E2ES/EndtoEndProject/data/interface_data/level2/Tango_Carbon_l2_diag_exp3.0.nc\n",
      "=> L2 processor finished sucessfully\n"
     ]
    }
   ],
   "source": [
    "if(proc_l1bl2):\n",
    "    l1bl2_config= yaml.safe_load(open('./settings/l1bl2_config.yaml'))\n",
    "    level1b_to_level2_processor_RTorCH4(l1bl2_config)\n",
    "#    level1b_to_level2_processor(l1bl2_config)"
   ]
  },
  {
   "cell_type": "markdown",
   "metadata": {},
   "source": [
    "Analyse gains"
   ]
  },
  {
   "cell_type": "code",
   "execution_count": 27,
   "metadata": {},
   "outputs": [
    {
     "data": {
      "text/plain": [
       "<matplotlib.legend.Legend at 0x78bc981c8fa0>"
      ]
     },
     "execution_count": 27,
     "metadata": {},
     "output_type": "execute_result"
    },
    {
     "data": {
      "image/png": "[encoded data removed]",
      "text/plain": [
       "<Figure size 640x480 with 1 Axes>"
      ]
     },
     "metadata": {},
     "output_type": "display_data"
    }
   ],
   "source": [
    "from netCDF4 import Dataset\n",
    "import matplotlib.pyplot as plt\n",
    "import numpy as np\n",
    "\n",
    "filel2_diag = '/home/jochen/TANGO_E2ES/EndtoEndProject/data/interface_data/level2/Tango_Carbon_l2_diag_exp3.0.nc'\n",
    "diag= Dataset(filel2_diag, mode='r')\n",
    "wave = diag['wavelength'][:]\n",
    "gain_ch4_ns = diag['gain CH4'][:]\n",
    "gain_co2_ns = diag['gain CO2'][:]\n",
    "gain_ch4_proxy = diag['gain CH4 proxy'][:]\n",
    "gain_co2_proxy = diag['gain CO2 proxy'][:]\n",
    "diag.variables.keys()\n",
    "\n",
    "filel2 = '/home/jochen/TANGO_E2ES/EndtoEndProject/data/interface_data/level2/Tango_Carbon_l2_exp3.0.nc'\n",
    "lev2 = Dataset(filel2, mod='r')\n",
    "co2_ns    = lev2['non_scattering_retrieval/XCO2']\n",
    "ch4_ns    = lev2['non_scattering_retrieval/XCH4']\n",
    "co2_proxy = lev2['XCO2 proxy']\n",
    "ch4_proxy = lev2['XCH4 proxy']\n",
    "\n",
    "#check proxy gain with equationa from MRD appendix\n",
    "nalt,nact,nwave = wave.shape\n",
    "gain_co2_test = np.zeros([nalt,nact,nwave])\n",
    "gain_ch4_test = np.zeros([nalt,nact,nwave])\n",
    " \n",
    "for iact in range(nact):\n",
    "    gain_co2_test[0,iact,:] = (gain_co2_ns[0,iact,:]/co2_ns[0,iact] - gain_ch4_ns[0,iact,:]/ch4_ns[0,iact])*co2_proxy[0,iact]\n",
    "    gain_ch4_test[0,iact,:] = (gain_ch4_ns[0,iact,:]/ch4_ns[0,iact] - gain_co2_ns[0,iact,:]/co2_ns[0,iact])*ch4_proxy[0,iact]\n",
    "\n",
    "iact = 2\n",
    "ialt = 0\n",
    "plt.plot(wave[ialt, iact,:], gain_co2_proxy[ialt, iact,:],color='blue', label ='proxy diag')\n",
    "plt.plot(wave[ialt, iact,:], gain_co2_ns[ialt, iact,:], color = 'gray', label = 'non scat')\n",
    "plt.plot(wave[ialt, iact,:], gain_co2_test[ialt, iact,:],color = 'green', label = 'test proxy')\n",
    "plt.xlabel('wavelength [nm]')\n",
    "plt.ylabel('gain')\n",
    "plt.legend()\n"
   ]
  }
 ],
 "metadata": {
  "kernelspec": {
   "display_name": "tangoendtoend",
   "language": "python",
   "name": "python3"
  },
  "language_info": {
   "codemirror_mode": {
    "name": "ipython",
    "version": 3
   },
   "file_extension": ".py",
   "mimetype": "text/x-python",
   "name": "python",
   "nbconvert_exporter": "python",
   "pygments_lexer": "ipython3",
   "version": "3.10.12"
  }
 },
 "nbformat": 4,
 "nbformat_minor": 2
}
