{
 "cells": [
  {
   "cell_type": "markdown",
   "metadata": {},
   "source": [
    "### SNR requirement"
   ]
  },
  {
   "cell_type": "markdown",
   "metadata": {},
   "source": [
    "A general SNR model has too many degrees of freedom to be used unconstrained for requirement analyses. Therefore, SNR analysis is based on the following idea:\n",
    "* We assume the TANGO L1B reference scene $I_\\mathrm{ref}$ simulated for an albedo of 0.15 and a SZA of 70 degree\n",
    "* The SNR spectrum can be approximately described by\n",
    "    $\\mathrm{SNR}(\\lambda) = \\frac{a(\\lambda)\\; I_\\mathrm{ref}}{ a(\\lambda)\\; I_\\mathrm{ref} + b(\\lambda) }$\n",
    "* We assume that b is given by our instrument model acounting for the signal independent contribution of the SNR spectrum. \n",
    "* Varying $a$ changes the SNR, and we aim to derive a requirement of $a$ for a realistic estimate of $b$. \n",
    "* $a$ may vary in the spectral dimension and so we need a physical model to constrain this dependence. We derive SNR spectra by scaling $a(\\lambda)$ with a constant factor $s$, thus\n",
    "    $\\mathrm{SNR}(\\lambda,s) = \\frac{a(\\lambda)\\;s\\; I_\\mathrm{ref}}{ a(\\lambda)\\; s\\;I_\\mathrm{ref} + b(\\lambda) }$\n",
    "* For a non-scattering atmosphere, the scaling factor can be absorbed in a scaled surface albedo. So, we calculate $$\\mathrm{SNR}(\\lambda,s)$ scaling the Lambertian albedo $A_s$ by\n",
    "    $A_\\mathrm{ref} \\to A(s) = s \\;A_\\mathrm{ref}$\n",
    "* Next, we derive the L2 precision for an L1B input $I_\\mathrm{ref}$ and $\\mathrm{SNR}(\\lambda,s)$ as a function of $s$. Note that the radiance spectrum remains unchanged.\n",
    "* We consider the median performance of all ACT position using a referencee ckd set \n",
    "* To formulate the requirement such that it constrains both the scaling factor $s$ and the assumed signal independent term $b$, we derive the mean SNR over the two fit windows 1597.0-1617.0 nm and 1664.4-1668.0 nm.\n",
    "* Having a requirement on the L2 precision of 3.8 ppm for the reference scene, we can derive the scaling factor, and so the required mean SNR for the fit windows. \n",
    "* Finally, the resilence of the approach with respect to dead and bad pixels will be tested. "
   ]
  },
  {
   "cell_type": "markdown",
   "metadata": {},
   "source": [
    "#### 1. Set working enviroment"
   ]
  },
  {
   "cell_type": "code",
   "execution_count": 1,
   "metadata": {},
   "outputs": [],
   "source": [
    "import sys\n",
    "sys.path.append(\"/home/jochen/pythonenvs/tangoendtoend/lib64/python3.11/site-packages\")\n",
    "import os\n",
    "import yaml\n",
    "import numpy as np\n",
    "from netCDF4 import Dataset\n",
    "import matplotlib\n",
    "# define  path to search for module\n",
    "sys.path.append(\"/home/jochen/TANGO_E2ES/EndtoEndProject/end_to_end/\")\n",
    "os.chdir(\"/home/jochen/TANGO_E2ES/EndtoEndProject/end_to_end/examples/exp5_snr/\")"
   ]
  },
  {
   "cell_type": "markdown",
   "metadata": {},
   "source": [
    "#### 2. import teds modules"
   ]
  },
  {
   "cell_type": "code",
   "execution_count": 2,
   "metadata": {},
   "outputs": [],
   "source": [
    "from teds.gm import geometry_module\n",
    "from teds.sgm import geoscene_generation\n",
    "from teds.sgm import Carbon_radiation_scene_generation\n",
    "from teds.im import run_instrument_model\n",
    "from teds.l1al1b import run_l1al1b\n",
    "from teds.l1l2.l1bl2 import level1b_to_level2_processor_RTorCH4, level1b_to_level2_processor\n",
    "from teds.lib.libNumTools import get_isrf\n",
    "from examples.exp5_snr.l1b_pixel_mask import combined_l1b"
   ]
  },
  {
   "cell_type": "markdown",
   "metadata": {},
   "source": [
    "#### 3. Operational flags"
   ]
  },
  {
   "cell_type": "code",
   "execution_count": 3,
   "metadata": {},
   "outputs": [],
   "source": [
    "proc_gm     = False\n",
    "proc_sgmgeo = False\n",
    "proc_sgmrad = False\n",
    "proc_im     = False\n",
    "proc_l1al1b = False\n",
    "proc_l1bl2  = True\n",
    "\n",
    "data_alys   = True \n",
    "\n",
    "proc_req_res= False"
   ]
  },
  {
   "cell_type": "markdown",
   "metadata": {},
   "source": [
    "Set variables applicable to all cells"
   ]
  },
  {
   "cell_type": "code",
   "execution_count": 4,
   "metadata": {},
   "outputs": [],
   "source": [
    "path  = '/home/jochen/TANGO_E2ES/EndtoEndProject/data/interface_data/'\n",
    "nsca  = 40\n",
    "scale = np.arange(nsca)*0.05 + 0.05 #radiance scaling \n",
    "#nsca  = 1\n",
    "#scale = np.arange(nsca)*1.0 #radiance scaling \n"
   ]
  },
  {
   "cell_type": "code",
   "execution_count": 5,
   "metadata": {},
   "outputs": [],
   "source": [
    "if(proc_gm):\n",
    "    #configureation file\n",
    "    #In this case, the gm does not include solar and viewing geometry. It is easier to define them with the notebook\n",
    "    gm_config= yaml.safe_load(open('./settings/gm_config.yaml'))\n",
    "    #we use the nact dimension to simulate scenes with different scaling factors s and the geometry of Lref\n",
    "    nact = 100 \n",
    "    gm_config['scene_spec'] = {}\n",
    "    gm_config['scene_spec']['sza'] = np.zeros(nact) + 70.\n",
    "    gm_config['scene_spec']['saa'] = np.zeros(nact) \n",
    "    gm_config['scene_spec']['vza'] = np.zeros(nact) \n",
    "    gm_config['scene_spec']['vaa'] = np.zeros(nact) \n",
    "\n",
    "    geometry_module(gm_config)\n"
   ]
  },
  {
   "cell_type": "markdown",
   "metadata": {},
   "source": [
    "#### 5. SGM-GEO"
   ]
  },
  {
   "cell_type": "markdown",
   "metadata": {},
   "source": [
    "Here we make use of the fact that for a non-scattering RT simulation a scaling of the radiance spectrum is equivalent with a scaling of the albedo."
   ]
  },
  {
   "cell_type": "code",
   "execution_count": 6,
   "metadata": {},
   "outputs": [],
   "source": [
    "if(proc_sgmgeo):\n",
    "    albedo = np.ones(nact)*0.15\n",
    "    for sc in scale:\n",
    "        sgmgeo_config= yaml.safe_load(open('./settings/sgmgeo_config.yaml'))\n",
    "        sgmgeo_config['scene_spec']={}\n",
    "        sgmgeo_config['scene_spec']['albedo'] = albedo*sc\n",
    "        sgmgeo_config['io_files']['output_geo']=path+'sgm/Tango_Carbon_sgm_atmosphere_exp5.0_scale_'+(\"%.3f\" % (sc)) + '.nc'\n",
    "        geoscene_generation(sgmgeo_config)"
   ]
  },
  {
   "cell_type": "markdown",
   "metadata": {},
   "source": [
    "#### 6. SGM-RAD"
   ]
  },
  {
   "cell_type": "code",
   "execution_count": 7,
   "metadata": {},
   "outputs": [],
   "source": [
    "if(proc_sgmrad):\n",
    "\n",
    "    for sc in scale:\n",
    "        sgmrad_config= yaml.safe_load(open('./settings/sgmrad_config.yaml'))\n",
    "        sgmrad_config['io_files']['input_sgm_geo']=path+'sgm/Tango_Carbon_sgm_atmosphere_exp5.0_scale_'+(\"%.3f\" % (sc)) + '.nc'\n",
    "        sgmrad_config['io_files']['output_rad']=path + 'sgm/Tango_Carbon_sgm_radiance_exp5.0_scale_'+(\"%.3f\" % (sc)) + '.nc'\n",
    "        Carbon_radiation_scene_generation(sgmrad_config)"
   ]
  },
  {
   "cell_type": "markdown",
   "metadata": {},
   "source": [
    "### 7. Instrument model "
   ]
  },
  {
   "cell_type": "markdown",
   "metadata": {},
   "source": [
    "Run the instrument model for each scaled scenes using a seperate call "
   ]
  },
  {
   "cell_type": "code",
   "execution_count": 8,
   "metadata": {},
   "outputs": [],
   "source": [
    "if(proc_im):\n",
    "\n",
    "    for sc in scale:\n",
    "        im_config= yaml.safe_load(open('./settings/im_config.yaml'))\n",
    "        im_config['io']['sgm'] = path + 'sgm/Tango_Carbon_sgm_radiance_exp5.0_scale_'+(\"%.3f\" % (sc)) + '.nc'\n",
    "        im_config['io']['l1a'] = path + 'level1a/Tango_Carbon_l1a_exp5.0_scale_'+(\"%.3f\" % (sc)) + '.nc'\n",
    "        run_instrument_model(im_config)"
   ]
  },
  {
   "cell_type": "markdown",
   "metadata": {},
   "source": [
    "#### 8. L1B processing"
   ]
  },
  {
   "cell_type": "code",
   "execution_count": 9,
   "metadata": {},
   "outputs": [],
   "source": [
    "if(proc_l1al1b):\n",
    "    for sc in scale:\n",
    "        l1al1b_config= yaml.safe_load(open('./settings/l1al1b_config.yaml'))\n",
    "        l1al1b_config['io']['l1a'] = path + 'level1a/Tango_Carbon_l1a_exp5.0_scale_'+(\"%.3f\" % (sc)) + '.nc'\n",
    "        l1al1b_config['io']['l1b'] = path + 'level1b/Tango_Carbon_l1b_exp5.0_scale_'+(\"%.3f\" % (sc)) + '.nc'\n",
    "        run_l1al1b(l1al1b_config)"
   ]
  },
  {
   "cell_type": "markdown",
   "metadata": {},
   "source": [
    "#### 8. L2 processing of the $\\mathrm{CO_2}$ and $\\mathrm{CH_4}$ proxy product"
   ]
  },
  {
   "cell_type": "markdown",
   "metadata": {},
   "source": [
    "* First reference simulation with gain simulations\n",
    "* Loop over different isrf perturbations (acoeff and bcoeff of the generalized normal distribution)"
   ]
  },
  {
   "cell_type": "code",
   "execution_count": 10,
   "metadata": {},
   "outputs": [
    {
     "name": "stdout",
     "output_type": "stream",
     "text": [
      "=> l1b data combined successfully \n",
      "level 1B to 2 proessor ...\n"
     ]
    },
    {
     "name": "stderr",
     "output_type": "stream",
     "text": [
      "100%|██████████| 1/1 [02:02<00:00, 122.59s/it]\n"
     ]
    },
    {
     "name": "stdout",
     "output_type": "stream",
     "text": [
      "/home/jochen/TANGO_E2ES/EndtoEndProject/data/interface_data/level2/Tango_Carbon_l2_exp5.0_scale_0.050.nc\n",
      "=> l1bl2 finished successfully\n",
      "=> l1b data combined successfully \n",
      "level 1B to 2 proessor ...\n"
     ]
    },
    {
     "name": "stderr",
     "output_type": "stream",
     "text": [
      "100%|██████████| 1/1 [01:38<00:00, 98.76s/it]\n"
     ]
    },
    {
     "name": "stdout",
     "output_type": "stream",
     "text": [
      "/home/jochen/TANGO_E2ES/EndtoEndProject/data/interface_data/level2/Tango_Carbon_l2_exp5.0_scale_0.100.nc\n",
      "=> l1bl2 finished successfully\n",
      "=> l1b data combined successfully \n",
      "level 1B to 2 proessor ...\n"
     ]
    },
    {
     "name": "stderr",
     "output_type": "stream",
     "text": [
      "100%|██████████| 1/1 [01:37<00:00, 97.09s/it]\n"
     ]
    },
    {
     "name": "stdout",
     "output_type": "stream",
     "text": [
      "/home/jochen/TANGO_E2ES/EndtoEndProject/data/interface_data/level2/Tango_Carbon_l2_exp5.0_scale_0.150.nc\n",
      "=> l1bl2 finished successfully\n",
      "=> l1b data combined successfully \n",
      "level 1B to 2 proessor ...\n"
     ]
    },
    {
     "name": "stderr",
     "output_type": "stream",
     "text": [
      "100%|██████████| 1/1 [01:50<00:00, 110.45s/it]\n"
     ]
    },
    {
     "name": "stdout",
     "output_type": "stream",
     "text": [
      "/home/jochen/TANGO_E2ES/EndtoEndProject/data/interface_data/level2/Tango_Carbon_l2_exp5.0_scale_0.200.nc\n",
      "=> l1bl2 finished successfully\n",
      "=> l1b data combined successfully \n",
      "level 1B to 2 proessor ...\n"
     ]
    },
    {
     "name": "stderr",
     "output_type": "stream",
     "text": [
      "100%|██████████| 1/1 [01:46<00:00, 106.76s/it]\n"
     ]
    },
    {
     "name": "stdout",
     "output_type": "stream",
     "text": [
      "/home/jochen/TANGO_E2ES/EndtoEndProject/data/interface_data/level2/Tango_Carbon_l2_exp5.0_scale_0.250.nc\n",
      "=> l1bl2 finished successfully\n",
      "=> l1b data combined successfully \n",
      "level 1B to 2 proessor ...\n"
     ]
    },
    {
     "name": "stderr",
     "output_type": "stream",
     "text": [
      "100%|██████████| 1/1 [01:46<00:00, 106.60s/it]\n"
     ]
    },
    {
     "name": "stdout",
     "output_type": "stream",
     "text": [
      "/home/jochen/TANGO_E2ES/EndtoEndProject/data/interface_data/level2/Tango_Carbon_l2_exp5.0_scale_0.300.nc\n",
      "=> l1bl2 finished successfully\n",
      "=> l1b data combined successfully \n",
      "level 1B to 2 proessor ...\n"
     ]
    },
    {
     "name": "stderr",
     "output_type": "stream",
     "text": [
      "100%|██████████| 1/1 [01:56<00:00, 116.58s/it]\n"
     ]
    },
    {
     "name": "stdout",
     "output_type": "stream",
     "text": [
      "/home/jochen/TANGO_E2ES/EndtoEndProject/data/interface_data/level2/Tango_Carbon_l2_exp5.0_scale_0.350.nc\n",
      "=> l1bl2 finished successfully\n",
      "=> l1b data combined successfully \n",
      "level 1B to 2 proessor ...\n"
     ]
    },
    {
     "name": "stderr",
     "output_type": "stream",
     "text": [
      "100%|██████████| 1/1 [01:56<00:00, 116.01s/it]\n"
     ]
    },
    {
     "name": "stdout",
     "output_type": "stream",
     "text": [
      "/home/jochen/TANGO_E2ES/EndtoEndProject/data/interface_data/level2/Tango_Carbon_l2_exp5.0_scale_0.400.nc\n",
      "=> l1bl2 finished successfully\n",
      "=> l1b data combined successfully \n",
      "level 1B to 2 proessor ...\n"
     ]
    },
    {
     "name": "stderr",
     "output_type": "stream",
     "text": [
      "100%|██████████| 1/1 [01:56<00:00, 116.53s/it]\n"
     ]
    },
    {
     "name": "stdout",
     "output_type": "stream",
     "text": [
      "/home/jochen/TANGO_E2ES/EndtoEndProject/data/interface_data/level2/Tango_Carbon_l2_exp5.0_scale_0.450.nc\n",
      "=> l1bl2 finished successfully\n",
      "=> l1b data combined successfully \n",
      "level 1B to 2 proessor ...\n"
     ]
    },
    {
     "name": "stderr",
     "output_type": "stream",
     "text": [
      "100%|██████████| 1/1 [01:56<00:00, 116.36s/it]\n"
     ]
    },
    {
     "name": "stdout",
     "output_type": "stream",
     "text": [
      "/home/jochen/TANGO_E2ES/EndtoEndProject/data/interface_data/level2/Tango_Carbon_l2_exp5.0_scale_0.500.nc\n",
      "=> l1bl2 finished successfully\n",
      "=> l1b data combined successfully \n",
      "level 1B to 2 proessor ...\n"
     ]
    },
    {
     "name": "stderr",
     "output_type": "stream",
     "text": [
      "100%|██████████| 1/1 [01:57<00:00, 117.81s/it]\n"
     ]
    },
    {
     "name": "stdout",
     "output_type": "stream",
     "text": [
      "/home/jochen/TANGO_E2ES/EndtoEndProject/data/interface_data/level2/Tango_Carbon_l2_exp5.0_scale_0.550.nc\n",
      "=> l1bl2 finished successfully\n",
      "=> l1b data combined successfully \n",
      "level 1B to 2 proessor ...\n"
     ]
    },
    {
     "name": "stderr",
     "output_type": "stream",
     "text": [
      "100%|██████████| 1/1 [01:55<00:00, 115.83s/it]\n"
     ]
    },
    {
     "name": "stdout",
     "output_type": "stream",
     "text": [
      "/home/jochen/TANGO_E2ES/EndtoEndProject/data/interface_data/level2/Tango_Carbon_l2_exp5.0_scale_0.600.nc\n",
      "=> l1bl2 finished successfully\n",
      "=> l1b data combined successfully \n",
      "level 1B to 2 proessor ...\n"
     ]
    },
    {
     "name": "stderr",
     "output_type": "stream",
     "text": [
      "100%|██████████| 1/1 [01:56<00:00, 116.86s/it]\n"
     ]
    },
    {
     "name": "stdout",
     "output_type": "stream",
     "text": [
      "/home/jochen/TANGO_E2ES/EndtoEndProject/data/interface_data/level2/Tango_Carbon_l2_exp5.0_scale_0.650.nc\n",
      "=> l1bl2 finished successfully\n",
      "=> l1b data combined successfully \n",
      "level 1B to 2 proessor ...\n"
     ]
    },
    {
     "name": "stderr",
     "output_type": "stream",
     "text": [
      "100%|██████████| 1/1 [01:56<00:00, 116.42s/it]\n"
     ]
    },
    {
     "name": "stdout",
     "output_type": "stream",
     "text": [
      "/home/jochen/TANGO_E2ES/EndtoEndProject/data/interface_data/level2/Tango_Carbon_l2_exp5.0_scale_0.700.nc\n",
      "=> l1bl2 finished successfully\n",
      "=> l1b data combined successfully \n",
      "level 1B to 2 proessor ...\n"
     ]
    },
    {
     "name": "stderr",
     "output_type": "stream",
     "text": [
      "100%|██████████| 1/1 [01:56<00:00, 116.33s/it]\n"
     ]
    },
    {
     "name": "stdout",
     "output_type": "stream",
     "text": [
      "/home/jochen/TANGO_E2ES/EndtoEndProject/data/interface_data/level2/Tango_Carbon_l2_exp5.0_scale_0.750.nc\n",
      "=> l1bl2 finished successfully\n",
      "=> l1b data combined successfully \n",
      "level 1B to 2 proessor ...\n"
     ]
    },
    {
     "name": "stderr",
     "output_type": "stream",
     "text": [
      "100%|██████████| 1/1 [01:57<00:00, 117.19s/it]\n"
     ]
    },
    {
     "name": "stdout",
     "output_type": "stream",
     "text": [
      "/home/jochen/TANGO_E2ES/EndtoEndProject/data/interface_data/level2/Tango_Carbon_l2_exp5.0_scale_0.800.nc\n",
      "=> l1bl2 finished successfully\n",
      "=> l1b data combined successfully \n",
      "level 1B to 2 proessor ...\n"
     ]
    },
    {
     "name": "stderr",
     "output_type": "stream",
     "text": [
      "100%|██████████| 1/1 [02:03<00:00, 123.42s/it]\n"
     ]
    },
    {
     "name": "stdout",
     "output_type": "stream",
     "text": [
      "/home/jochen/TANGO_E2ES/EndtoEndProject/data/interface_data/level2/Tango_Carbon_l2_exp5.0_scale_0.850.nc\n",
      "=> l1bl2 finished successfully\n",
      "=> l1b data combined successfully \n",
      "level 1B to 2 proessor ...\n"
     ]
    },
    {
     "name": "stderr",
     "output_type": "stream",
     "text": [
      "100%|██████████| 1/1 [02:06<00:00, 126.11s/it]\n"
     ]
    },
    {
     "name": "stdout",
     "output_type": "stream",
     "text": [
      "/home/jochen/TANGO_E2ES/EndtoEndProject/data/interface_data/level2/Tango_Carbon_l2_exp5.0_scale_0.900.nc\n",
      "=> l1bl2 finished successfully\n",
      "=> l1b data combined successfully \n",
      "level 1B to 2 proessor ...\n"
     ]
    },
    {
     "name": "stderr",
     "output_type": "stream",
     "text": [
      "100%|██████████| 1/1 [02:08<00:00, 128.96s/it]\n"
     ]
    },
    {
     "name": "stdout",
     "output_type": "stream",
     "text": [
      "/home/jochen/TANGO_E2ES/EndtoEndProject/data/interface_data/level2/Tango_Carbon_l2_exp5.0_scale_0.950.nc\n",
      "=> l1bl2 finished successfully\n",
      "=> l1b data combined successfully \n",
      "level 1B to 2 proessor ...\n"
     ]
    },
    {
     "name": "stderr",
     "output_type": "stream",
     "text": [
      "100%|██████████| 1/1 [02:06<00:00, 126.43s/it]\n"
     ]
    },
    {
     "name": "stdout",
     "output_type": "stream",
     "text": [
      "/home/jochen/TANGO_E2ES/EndtoEndProject/data/interface_data/level2/Tango_Carbon_l2_exp5.0_scale_1.000.nc\n",
      "=> l1bl2 finished successfully\n",
      "=> l1b data combined successfully \n",
      "level 1B to 2 proessor ...\n"
     ]
    },
    {
     "name": "stderr",
     "output_type": "stream",
     "text": [
      "100%|██████████| 1/1 [02:05<00:00, 125.57s/it]\n"
     ]
    },
    {
     "name": "stdout",
     "output_type": "stream",
     "text": [
      "/home/jochen/TANGO_E2ES/EndtoEndProject/data/interface_data/level2/Tango_Carbon_l2_exp5.0_scale_1.050.nc\n",
      "=> l1bl2 finished successfully\n",
      "=> l1b data combined successfully \n",
      "level 1B to 2 proessor ...\n"
     ]
    },
    {
     "name": "stderr",
     "output_type": "stream",
     "text": [
      "100%|██████████| 1/1 [02:03<00:00, 123.63s/it]\n"
     ]
    },
    {
     "name": "stdout",
     "output_type": "stream",
     "text": [
      "/home/jochen/TANGO_E2ES/EndtoEndProject/data/interface_data/level2/Tango_Carbon_l2_exp5.0_scale_1.100.nc\n",
      "=> l1bl2 finished successfully\n",
      "=> l1b data combined successfully \n",
      "level 1B to 2 proessor ...\n"
     ]
    },
    {
     "name": "stderr",
     "output_type": "stream",
     "text": [
      "100%|██████████| 1/1 [02:05<00:00, 125.60s/it]\n"
     ]
    },
    {
     "name": "stdout",
     "output_type": "stream",
     "text": [
      "/home/jochen/TANGO_E2ES/EndtoEndProject/data/interface_data/level2/Tango_Carbon_l2_exp5.0_scale_1.150.nc\n",
      "=> l1bl2 finished successfully\n",
      "=> l1b data combined successfully \n",
      "level 1B to 2 proessor ...\n"
     ]
    },
    {
     "name": "stderr",
     "output_type": "stream",
     "text": [
      "100%|██████████| 1/1 [02:06<00:00, 126.26s/it]\n"
     ]
    },
    {
     "name": "stdout",
     "output_type": "stream",
     "text": [
      "/home/jochen/TANGO_E2ES/EndtoEndProject/data/interface_data/level2/Tango_Carbon_l2_exp5.0_scale_1.200.nc\n",
      "=> l1bl2 finished successfully\n",
      "=> l1b data combined successfully \n",
      "level 1B to 2 proessor ...\n"
     ]
    },
    {
     "name": "stderr",
     "output_type": "stream",
     "text": [
      "100%|██████████| 1/1 [02:05<00:00, 125.90s/it]\n"
     ]
    },
    {
     "name": "stdout",
     "output_type": "stream",
     "text": [
      "/home/jochen/TANGO_E2ES/EndtoEndProject/data/interface_data/level2/Tango_Carbon_l2_exp5.0_scale_1.250.nc\n",
      "=> l1bl2 finished successfully\n",
      "=> l1b data combined successfully \n",
      "level 1B to 2 proessor ...\n"
     ]
    },
    {
     "name": "stderr",
     "output_type": "stream",
     "text": [
      "100%|██████████| 1/1 [02:05<00:00, 125.57s/it]\n"
     ]
    },
    {
     "name": "stdout",
     "output_type": "stream",
     "text": [
      "/home/jochen/TANGO_E2ES/EndtoEndProject/data/interface_data/level2/Tango_Carbon_l2_exp5.0_scale_1.300.nc\n",
      "=> l1bl2 finished successfully\n",
      "=> l1b data combined successfully \n",
      "level 1B to 2 proessor ...\n"
     ]
    },
    {
     "name": "stderr",
     "output_type": "stream",
     "text": [
      "100%|██████████| 1/1 [02:07<00:00, 127.01s/it]\n"
     ]
    },
    {
     "name": "stdout",
     "output_type": "stream",
     "text": [
      "/home/jochen/TANGO_E2ES/EndtoEndProject/data/interface_data/level2/Tango_Carbon_l2_exp5.0_scale_1.350.nc\n",
      "=> l1bl2 finished successfully\n",
      "=> l1b data combined successfully \n",
      "level 1B to 2 proessor ...\n"
     ]
    },
    {
     "name": "stderr",
     "output_type": "stream",
     "text": [
      "100%|██████████| 1/1 [02:06<00:00, 126.60s/it]\n"
     ]
    },
    {
     "name": "stdout",
     "output_type": "stream",
     "text": [
      "/home/jochen/TANGO_E2ES/EndtoEndProject/data/interface_data/level2/Tango_Carbon_l2_exp5.0_scale_1.400.nc\n",
      "=> l1bl2 finished successfully\n",
      "=> l1b data combined successfully \n",
      "level 1B to 2 proessor ...\n"
     ]
    },
    {
     "name": "stderr",
     "output_type": "stream",
     "text": [
      "100%|██████████| 1/1 [02:05<00:00, 125.36s/it]\n"
     ]
    },
    {
     "name": "stdout",
     "output_type": "stream",
     "text": [
      "/home/jochen/TANGO_E2ES/EndtoEndProject/data/interface_data/level2/Tango_Carbon_l2_exp5.0_scale_1.450.nc\n",
      "=> l1bl2 finished successfully\n",
      "=> l1b data combined successfully \n",
      "level 1B to 2 proessor ...\n"
     ]
    },
    {
     "name": "stderr",
     "output_type": "stream",
     "text": [
      "100%|██████████| 1/1 [02:05<00:00, 125.51s/it]\n"
     ]
    },
    {
     "name": "stdout",
     "output_type": "stream",
     "text": [
      "/home/jochen/TANGO_E2ES/EndtoEndProject/data/interface_data/level2/Tango_Carbon_l2_exp5.0_scale_1.500.nc\n",
      "=> l1bl2 finished successfully\n",
      "=> l1b data combined successfully \n",
      "level 1B to 2 proessor ...\n"
     ]
    },
    {
     "name": "stderr",
     "output_type": "stream",
     "text": [
      "100%|██████████| 1/1 [02:04<00:00, 124.72s/it]\n"
     ]
    },
    {
     "name": "stdout",
     "output_type": "stream",
     "text": [
      "/home/jochen/TANGO_E2ES/EndtoEndProject/data/interface_data/level2/Tango_Carbon_l2_exp5.0_scale_1.550.nc\n",
      "=> l1bl2 finished successfully\n",
      "=> l1b data combined successfully \n",
      "level 1B to 2 proessor ...\n"
     ]
    },
    {
     "name": "stderr",
     "output_type": "stream",
     "text": [
      "100%|██████████| 1/1 [02:06<00:00, 126.69s/it]\n"
     ]
    },
    {
     "name": "stdout",
     "output_type": "stream",
     "text": [
      "/home/jochen/TANGO_E2ES/EndtoEndProject/data/interface_data/level2/Tango_Carbon_l2_exp5.0_scale_1.600.nc\n",
      "=> l1bl2 finished successfully\n",
      "=> l1b data combined successfully \n",
      "level 1B to 2 proessor ...\n"
     ]
    },
    {
     "name": "stderr",
     "output_type": "stream",
     "text": [
      "100%|██████████| 1/1 [02:05<00:00, 125.58s/it]\n"
     ]
    },
    {
     "name": "stdout",
     "output_type": "stream",
     "text": [
      "/home/jochen/TANGO_E2ES/EndtoEndProject/data/interface_data/level2/Tango_Carbon_l2_exp5.0_scale_1.650.nc\n",
      "=> l1bl2 finished successfully\n",
      "=> l1b data combined successfully \n",
      "level 1B to 2 proessor ...\n"
     ]
    },
    {
     "name": "stderr",
     "output_type": "stream",
     "text": [
      "100%|██████████| 1/1 [02:02<00:00, 122.49s/it]\n"
     ]
    },
    {
     "name": "stdout",
     "output_type": "stream",
     "text": [
      "/home/jochen/TANGO_E2ES/EndtoEndProject/data/interface_data/level2/Tango_Carbon_l2_exp5.0_scale_1.700.nc\n",
      "=> l1bl2 finished successfully\n",
      "=> l1b data combined successfully \n",
      "level 1B to 2 proessor ...\n"
     ]
    },
    {
     "name": "stderr",
     "output_type": "stream",
     "text": [
      "100%|██████████| 1/1 [02:03<00:00, 123.67s/it]\n"
     ]
    },
    {
     "name": "stdout",
     "output_type": "stream",
     "text": [
      "/home/jochen/TANGO_E2ES/EndtoEndProject/data/interface_data/level2/Tango_Carbon_l2_exp5.0_scale_1.750.nc\n",
      "=> l1bl2 finished successfully\n",
      "=> l1b data combined successfully \n",
      "level 1B to 2 proessor ...\n"
     ]
    },
    {
     "name": "stderr",
     "output_type": "stream",
     "text": [
      "100%|██████████| 1/1 [02:04<00:00, 124.76s/it]\n"
     ]
    },
    {
     "name": "stdout",
     "output_type": "stream",
     "text": [
      "/home/jochen/TANGO_E2ES/EndtoEndProject/data/interface_data/level2/Tango_Carbon_l2_exp5.0_scale_1.800.nc\n",
      "=> l1bl2 finished successfully\n",
      "=> l1b data combined successfully \n",
      "level 1B to 2 proessor ...\n"
     ]
    },
    {
     "name": "stderr",
     "output_type": "stream",
     "text": [
      "100%|██████████| 1/1 [02:03<00:00, 123.31s/it]\n"
     ]
    },
    {
     "name": "stdout",
     "output_type": "stream",
     "text": [
      "/home/jochen/TANGO_E2ES/EndtoEndProject/data/interface_data/level2/Tango_Carbon_l2_exp5.0_scale_1.850.nc\n",
      "=> l1bl2 finished successfully\n",
      "=> l1b data combined successfully \n",
      "level 1B to 2 proessor ...\n"
     ]
    },
    {
     "name": "stderr",
     "output_type": "stream",
     "text": [
      "100%|██████████| 1/1 [02:03<00:00, 123.18s/it]\n"
     ]
    },
    {
     "name": "stdout",
     "output_type": "stream",
     "text": [
      "/home/jochen/TANGO_E2ES/EndtoEndProject/data/interface_data/level2/Tango_Carbon_l2_exp5.0_scale_1.900.nc\n",
      "=> l1bl2 finished successfully\n",
      "=> l1b data combined successfully \n",
      "level 1B to 2 proessor ...\n"
     ]
    },
    {
     "name": "stderr",
     "output_type": "stream",
     "text": [
      "100%|██████████| 1/1 [02:04<00:00, 124.67s/it]\n"
     ]
    },
    {
     "name": "stdout",
     "output_type": "stream",
     "text": [
      "/home/jochen/TANGO_E2ES/EndtoEndProject/data/interface_data/level2/Tango_Carbon_l2_exp5.0_scale_1.950.nc\n",
      "=> l1bl2 finished successfully\n",
      "=> l1b data combined successfully \n",
      "level 1B to 2 proessor ...\n"
     ]
    },
    {
     "name": "stderr",
     "output_type": "stream",
     "text": [
      "100%|██████████| 1/1 [02:02<00:00, 122.44s/it]"
     ]
    },
    {
     "name": "stdout",
     "output_type": "stream",
     "text": [
      "/home/jochen/TANGO_E2ES/EndtoEndProject/data/interface_data/level2/Tango_Carbon_l2_exp5.0_scale_2.000.nc\n",
      "=> l1bl2 finished successfully\n"
     ]
    },
    {
     "name": "stderr",
     "output_type": "stream",
     "text": [
      "\n"
     ]
    }
   ],
   "source": [
    "if(proc_l1bl2):\n",
    "\n",
    "    for sc in scale:\n",
    "        l1b_ref   = path + 'level1b/Tango_Carbon_l1b_exp5.0_scale_1.000.nc'\n",
    "        l1b_scale = path + 'level1b/Tango_Carbon_l1b_exp5.0_scale_'+(\"%.3f\" % (sc)) + '.nc'\n",
    "        l1b_comb  = path + 'level1b/Tango_Carbon_l1b_exp5.0_comb_'+(\"%.3f\" % (sc)) + '.nc'\n",
    "        combined_l1b(l1b_ref, l1b_scale, l1b_comb)\n",
    "        \n",
    "        l1bl2_config= yaml.safe_load(open('./settings/l1bl2_config.yaml'))\n",
    "        l1bl2_config['io_files']['input_l1b'] = l1b_comb\n",
    "        l1bl2_config['io_files']['output_l2'] = path + 'level2/Tango_Carbon_l2_exp5.0_scale_'+(\"%.3f\" % (sc)) + '.nc'\n",
    "        level1b_to_level2_processor(l1bl2_config)\n"
   ]
  },
  {
   "cell_type": "markdown",
   "metadata": {},
   "source": [
    "#### 9. Data analysis: SNR requirement"
   ]
  },
  {
   "cell_type": "markdown",
   "metadata": {},
   "source": [
    "9.1 Read in data and calculate the mean SNR and radiance for the two spectral windows wave1 $\\pm$ 10 nm and wave2 $\\pm$ 1.8 nm."
   ]
  },
  {
   "cell_type": "code",
   "execution_count": 27,
   "metadata": {},
   "outputs": [
    {
     "name": "stdout",
     "output_type": "stream",
     "text": [
      "0 0.05 35.565395505903744 2.69626584411808e+16 47.026666667932474\n",
      "1 0.1 68.30495141105226 2.69626584411808e+16 24.320489503260127\n",
      "2 0.15000000000000002 99.23708317932616 2.69626584411808e+16 16.722282645013173\n",
      "3 0.2 128.23552465805375 2.69626584411808e+16 12.905488243263985\n",
      "4 0.25 155.7372019280768 2.69626584411808e+16 10.611933398962051\n",
      "5 0.3 181.76804647960876 2.69626584411808e+16 9.074585383272193\n",
      "6 0.35000000000000003 206.20385442802046 2.69626584411808e+16 7.968350185013218\n",
      "7 0.4 229.57451971423353 2.69626584411808e+16 7.135311603355541\n",
      "8 0.45 251.77605069008825 2.69626584411808e+16 6.484000594884537\n",
      "9 0.5 273.0347644367843 2.69626584411808e+16 5.959943183582673\n",
      "10 0.55 293.4735174839142 2.69626584411808e+16 5.529207120705195\n",
      "11 0.6000000000000001 313.1652677351087 2.69626584411808e+16 5.168527088668664\n",
      "12 0.6500000000000001 332.42271032803956 2.69626584411808e+16 4.8613409184007015\n",
      "13 0.7000000000000001 351.24518241534247 2.69626584411808e+16 4.59572902887866\n",
      "14 0.7500000000000001 369.4487056606303 2.69626584411808e+16 4.364776848175056\n",
      "15 0.8 387.17319900841113 2.69626584411808e+16 4.161155628852745\n",
      "16 0.8500000000000001 404.3658262599453 2.69626584411808e+16 3.9796604921417824\n",
      "17 0.9000000000000001 421.14203985440116 2.69626584411808e+16 3.8178989029779915\n",
      "18 0.9500000000000001 437.7005214983745 2.69626584411808e+16 3.6728512171667402\n",
      "19 1.0 453.869943877836 2.69626584411808e+16 3.5414859787938795\n",
      "20 1.05 469.5602961169152 2.69626584411808e+16 3.4219418211818176\n",
      "21 1.1 484.5609135242854 2.69626584411808e+16 3.3124130835732473\n",
      "22 1.1500000000000001 499.2399747770464 2.69626584411808e+16 3.211522682625265\n",
      "23 1.2000000000000002 513.5879640451853 2.69626584411808e+16 3.1185035613139425\n",
      "24 1.2500000000000002 527.4370893668017 2.69626584411808e+16 3.0323581723781015\n",
      "25 1.3 541.0372029149844 2.69626584411808e+16 2.9523611027754892\n",
      "26 1.35 554.531785697435 2.69626584411808e+16 2.8777370435153475\n",
      "27 1.4000000000000001 567.7759754359747 2.69626584411808e+16 2.8080034035396517\n",
      "28 1.4500000000000002 580.7926987951355 2.69626584411808e+16 2.7427366884042987\n",
      "29 1.5000000000000002 593.567917278853 2.69626584411808e+16 2.6814126878702256\n",
      "30 1.55 606.1246825499112 2.69626584411808e+16 2.623866719601084\n",
      "31 1.6 618.4763672510384 2.69626584411808e+16 2.5694855821959255\n",
      "32 1.6500000000000001 630.6271806669797 2.69626584411808e+16 2.518135291389387\n",
      "33 1.7000000000000002 642.5280798476587 2.69626584411808e+16 2.4695385377496186\n",
      "34 1.7500000000000002 654.1050559206715 2.69626584411808e+16 2.4234465793864906\n",
      "35 1.8 665.5236474601071 2.69626584411808e+16 2.3796741021049312\n",
      "36 1.85 676.7755701080339 2.69626584411808e+16 2.338046557641632\n",
      "37 1.9000000000000001 687.868240951816 2.69626584411808e+16 2.2983824578506447\n",
      "38 1.9500000000000002 698.7943451429055 2.69626584411808e+16 2.2605571296921236\n",
      "39 2.0 709.5844942809771 2.69626584411808e+16 2.2244269928126292\n",
      "albedo =  0.05129891749801899\n"
     ]
    },
    {
     "data": {
      "image/png": "[encoded data removed]",
      "text/plain": [
       "<Figure size 2800x700 with 2 Axes>"
      ]
     },
     "metadata": {},
     "output_type": "display_data"
    }
   ],
   "source": [
    "if(data_alys):\n",
    "    import netCDF4 as nc\n",
    "    import numpy as np\n",
    "    from copy import deepcopy\n",
    "    import matplotlib.pyplot as plt\n",
    "    import sys\n",
    "    plt.rcParams.update({'font.size': 14,})\n",
    "    path ='/home/jochen/TANGO_E2ES/EndtoEndProject/data/interface_data/'\n",
    "\n",
    "    # Define spectral boundaries of the two windows in requirement MRD-L1B-0140\n",
    "    wave1 = 1607.0\n",
    "    wave2 = 1666.2\n",
    "    wave1_ini = wave1-10.\n",
    "    wave1_fin = wave1+10.\n",
    "    wave2_ini = wave2-1.8\n",
    "    wave2_fin = wave2+1.8\n",
    "\n",
    "    snr_max= np.zeros((nsca))\n",
    "    snr_min= np.zeros((nsca))\n",
    "    rad_max= np.zeros((nsca))\n",
    "    rad_min= np.zeros((nsca))\n",
    "\n",
    "    snr_w1= np.zeros((nsca))\n",
    "    snr_w2= np.zeros((nsca))\n",
    "    rad_w1= np.zeros((nsca))\n",
    "    rad_w2= np.zeros((nsca))\n",
    "    \n",
    "    l2prec_median = np.zeros((nsca))\n",
    "    alb_median = np.zeros((nsca))\n",
    "    co2 = np.zeros((nsca))\n",
    "\n",
    "    for isca, sc in enumerate(scale):\n",
    "        #print(isca, sc)\n",
    "        filenamel1b = path + 'level1b/Tango_Carbon_l1b_exp5.0_comb_'+(\"%.3f\" % (sc)) + '.nc'\n",
    "        filenamel2  = path + 'level2/Tango_Carbon_l2_exp5.0_scale_'+(\"%.3f\" % (sc)) + '.nc'\n",
    "\n",
    "        l1b_data = nc.Dataset(filenamel1b)\n",
    "        l2_data  = nc.Dataset(filenamel2)\n",
    "\n",
    "        wave  = np.array(deepcopy(l1b_data['observation_data']['wavelength'][:]))\n",
    "        rad   = np.array(deepcopy(l1b_data['observation_data']['radiance'][:]))\n",
    "        noise = np.array(deepcopy(l1b_data['observation_data']['radiance_stdev'][:]))\n",
    "        snr = rad/noise\n",
    "\n",
    "        nalt, nact, nwave = rad.shape\n",
    "        # Start with the mean snr in teo predefined spectral windows\n",
    "        snr_1 = np.zeros([nalt,nact])\n",
    "        snr_2 = np.zeros([nalt,nact])\n",
    "        rad_1 = np.zeros([nalt,nact])\n",
    "        rad_2 = np.zeros([nalt,nact])\n",
    "\n",
    "        # Because of smile the detector position of the spectral windows changes with iact index  \n",
    "        for ialt in range(nalt):\n",
    "            for iact in range(nact):\n",
    "                l1_ini = (np.absolute(wave[iact,:]-wave1_ini)).argmin()\n",
    "                l1_fin = (np.absolute(wave[iact,:]-wave1_fin)).argmin()\n",
    "\n",
    "                l2_ini = (np.absolute(wave[iact,:]-wave2_ini)).argmin()\n",
    "                l2_fin = (np.absolute(wave[iact,:]-wave2_fin)).argmin()\n",
    "        \n",
    "                snr_1[ialt,iact]  = np.mean(snr[ialt,iact,l1_ini:l1_fin])\n",
    "                snr_2[ialt,iact]  = np.mean(snr[ialt,iact,l2_ini:l2_fin])\n",
    "\n",
    "                rad_1[ialt,iact]  = np.mean(snr[ialt,iact,l1_ini:l1_fin])\n",
    "                rad_2[ialt,iact]  = np.mean(snr[ialt,iact,l2_ini:l2_fin])\n",
    "\n",
    "        snr_w1[isca] = np.median(snr_1) \n",
    "        snr_w2[isca] = np.median(snr_2)\n",
    "        rad_w1[isca] = np.median(rad_1) \n",
    "        rad_w2[isca] = np.median(rad_2)\n",
    "\n",
    "        # previous approach with fixed wavelength\n",
    "        wave1 = 1605.78\n",
    "        wave1 = 1603\n",
    "        wave2 = 1665.80\n",
    "        lmax = (np.absolute(wave[0,:]-wave1)).argmin()\n",
    "        lmin = (np.absolute(wave[0,:]-wave2)).argmin()\n",
    "\n",
    "        snr_w1[isca] = np.median(snr[0,:,lmax]) \n",
    "        snr_w2[isca] = np.median(snr[0,:,lmin])\n",
    "        rad_w1[isca] = np.median(rad[0,:,lmax]) \n",
    "        rad_w2[isca] = np.median(rad[0,:,lmin])\n",
    "    \n",
    "        prec_xco2_proxy = np.array(deepcopy(l2_data['precision XCO2 proxy'][:]).flatten())\n",
    "        l2alb = np.array(deepcopy(l2_data['albedo'][:]).flatten())\n",
    "        l2prec_median[isca] = np.median(prec_xco2_proxy)\n",
    "        alb_median[isca] = np.median(l2alb)\n",
    "\n",
    "        print(isca, scale[isca],snr_w1[isca], rad_w1[isca], l2prec_median[isca])\n",
    "    # EoL the requirement on the L2 precision is 3.8 ppm. Using linear interpolation, \n",
    "    # we determine the correspsonding mean SNR and mean radiance for the two fit windows\n",
    "     \n",
    "    l2_req   = 3.8\n",
    "\n",
    "    req_snr_w1 = np.interp(l2_req, np.flip(l2prec_median[:]), np.flip(snr_w1[:]))\n",
    "    req_snr_w2 = np.interp(l2_req, np.flip(l2prec_median[:]), np.flip(snr_w2[:]))\n",
    "\n",
    "    req_rad_w1 = np.interp(l2_req, np.flip(l2prec_median[:]), np.flip(rad_w1[:]))\n",
    "    req_rad_w2 = np.interp(l2_req, np.flip(l2prec_median[:]), np.flip(rad_w2[:]))\n",
    "\n",
    "    sw_fig1 = True\n",
    "    sw_fig2 = False\n",
    "\n",
    "    if(sw_fig1):\n",
    "        fig = plt.figure(figsize=(28, 7), dpi=100,)\n",
    "        ax0 = fig.add_subplot(121)\n",
    "        print('albedo = ', alb_median[isca])\n",
    "        ax0.plot(wave[0,:], rad[0,50,:])\n",
    "        ax0.set_ylim([0.0,3.5E16])\n",
    "        ax0.set_xlim([1590,1675])\n",
    "        ax1 = fig.add_subplot(122)\n",
    "        ax1.plot(wave[0,:], snr[0,50,:])\n",
    "        ax1.set_xlim([1590,1675])\n",
    "        ax1.set_ylim([0.0,650])\n",
    "    \n",
    "    if(sw_fig2):\n",
    "        fig = plt.figure(figsize=(15, 7), dpi=100,)\n",
    "        #define text boxes with derived requirement   \n",
    "        textstr_max = '\\n'.join((\n",
    "            r'$\\lambda_1=%.2f$' % (wave1, ) + 'nm',\n",
    "            r'$I_1=%.2E$' % (req_rad_w1, ) + ' ph/(s sr m$^2$ nm)',\n",
    "            r'$SNR_1=%.2f$' % (req_snr_w1, )))\n",
    "        \n",
    "        textstr_min = '\\n'.join((\n",
    "            r'$\\lambda_2=%.2f$' % (wave2, ) + 'nm',\n",
    "            r'$I_2=%.2E$' % (req_rad_w2, ) + ' ph/(s sr m$^2$ nm)',\n",
    "            r'$SNR_2=%.2f$' % (req_snr_w2, )))\n",
    "        \n",
    "        ax1 = fig.add_subplot(111)\n",
    "        ax1.plot(l2prec_median,snr_w1, color = 'green', label = 'SNR$_\\mathrm{w1}$')\n",
    "        ax1.plot(l2prec_median,snr_w2, color = 'blue', label = 'SNR$_\\mathrm{w2}$')\n",
    "        ax1.set_xlabel('XCO$_2^\\mathrm{prox}$ [ppm]')\n",
    "        ax1.set_ylabel('SNR [1]')\n",
    "        plt.legend()\n",
    "        props = dict(boxstyle='round', facecolor='green', alpha=0.2)\n",
    "        ax1.text(0.15, 0.95, textstr_max, transform=ax1.transAxes, fontsize=14,\n",
    "                verticalalignment='top', bbox=props)\n",
    "        props = dict(boxstyle='round', facecolor='blue', alpha=0.2)\n",
    "        ax1.text(0.15, 0.65, textstr_min, transform=ax1.transAxes, fontsize=14,\n",
    "                verticalalignment='top', bbox=props)\n",
    "#     plt.savefig('plots/snr.png',)\n",
    "    "
   ]
  },
  {
   "cell_type": "markdown",
   "metadata": {},
   "source": [
    "### 10. Resilence of SNR requirement with respect to a variable number of dead and bad pixels"
   ]
  },
  {
   "cell_type": "markdown",
   "metadata": {},
   "source": [
    "The aim of this analysis is to show that with an increased number of randomly distributed dead/bad pixels both the mean radiance and SNR over the two fit window changes such that the requirement still holds. For this purpose, we consider a loss of up to 10 % of all spectral pixels. The analysis is based on the simulated L1B spectra. We do not consider L1A pixel masks as this assumes already a handling of dead pixels in a binning scheme. "
   ]
  },
  {
   "cell_type": "code",
   "execution_count": 12,
   "metadata": {},
   "outputs": [],
   "source": [
    "if(proc_req_res):\n",
    "   import netCDF4 as nc\n",
    "   import numpy as np\n",
    "   from copy import deepcopy\n",
    "   import matplotlib.pyplot as plt\n",
    "\n",
    "   from examples.exp5_snr.l1b_pixel_mask import random_pixel_mask, get_l1b, sim_modified_output\n",
    "   filen_l1b  = path + 'level1b/Tango_Carbon_l1b_exp5.0_scale_1.000.nc'\n",
    "\n",
    "   dead_pixel_range = np.array([0,2,4,6,8,10])*0.01\n",
    "   for pm_seed, frac_dead_pixels in enumerate(dead_pixel_range):\n",
    "      filen_l1b_pm = path + 'level1b/Tango_Carbon_l1b_exp5.0_scale_1.000_pm'+ \"{:.4f}\".format(frac_dead_pixels)+'.nc'\n",
    "      random_pixel_mask(filen_l1b, filen_l1b_pm, frac_dead_pixels, pm_seed)\n",
    "      # #check \n",
    "      # l1b = get_l1b(filen_l1b_pm)\n",
    "      # nalt, nact, nwave = l1b['radiance'].shape\n",
    "      # print(l1b['mask'].sum()/(nalt*nact*nwave))\n",
    "\n",
    "      l1bl2_config= yaml.safe_load(open('./settings/l1bl2_config.yaml'))\n",
    "      l1bl2_config['io_files']['input_l1b'] = filen_l1b_pm\n",
    "      l1bl2_config['io_files']['output_l2'] = path + 'level2/Tango_Carbon_l2_exp5.0_scale_'+(\"%.3f\" % (sc)) + '.nc'\n",
    "      level1b_to_level2_processor(l1bl2_config)\n"
   ]
  }
 ],
 "metadata": {
  "kernelspec": {
   "display_name": ".venv",
   "language": "python",
   "name": "python3"
  },
  "language_info": {
   "codemirror_mode": {
    "name": "ipython",
    "version": 3
   },
   "file_extension": ".py",
   "mimetype": "text/x-python",
   "name": "python",
   "nbconvert_exporter": "python",
   "pygments_lexer": "ipython3",
   "version": "3.11.0rc1"
  }
 },
 "nbformat": 4,
 "nbformat_minor": 2
}
