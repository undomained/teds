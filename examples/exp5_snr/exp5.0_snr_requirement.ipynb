{
 "cells": [
  {
   "cell_type": "markdown",
   "metadata": {},
   "source": [
    "### SNR requirement"
   ]
  },
  {
   "cell_type": "markdown",
   "metadata": {},
   "source": [
    "The SNR analysis is based on the following idea:\n",
    "1. We use the instrument to derive a realistic SNR and L2 estimate. It does not make much sense to work with a simplified SNR model like in the siml1b module as it is important to take here already the choice of the detector into acount. With the InGaAs specific QE, the SNR as a specific spectral shape, that need to be accounted here. \n",
    "2. We simulated the reference scene and scale it with a factor to vary SNR \n",
    "3. This allows us to determine the mean SNR over the two fit windows 1597.0-1617.0 nm and 1664.4-1668.0 nm  and the L2 precsiion as a function of the scaling factor.\n",
    "4. Having a requirement on the L2 precision of 3.8 ppm for the reference scene, we can derive the scaling factor, and so the required mean SNR for the fit windows. \n",
    "5. The resilence of the approach with respect to dead and bad pixels will be tested. "
   ]
  },
  {
   "cell_type": "markdown",
   "metadata": {},
   "source": [
    "#### 1. Set working enviroment"
   ]
  },
  {
   "cell_type": "code",
   "execution_count": 1,
   "metadata": {},
   "outputs": [],
   "source": [
    "import sys\n",
    "import os\n",
    "import yaml\n",
    "import numpy as np\n",
    "from netCDF4 import Dataset\n",
    "import matplotlib\n",
    "# define  path to search for module\n",
    "sys.path.append(\"/home/jochen/TANGO_E2ES/EndtoEndProject/end_to_end/\")\n",
    "os.chdir(\"/home/jochen/TANGO_E2ES/EndtoEndProject/end_to_end/examples/exp5_snr/\")"
   ]
  },
  {
   "cell_type": "markdown",
   "metadata": {},
   "source": [
    "#### 2. import teds modules"
   ]
  },
  {
   "cell_type": "code",
   "execution_count": 2,
   "metadata": {},
   "outputs": [],
   "source": [
    "from teds.gm import geometry_module\n",
    "from teds.sgm import geoscene_generation\n",
    "from teds.sgm import Carbon_radiation_scene_generation\n",
    "from teds.im import run_instrument_model\n",
    "from teds.l1al1b import run_l1al1b\n",
    "from teds.l1l2.l1bl2 import level1b_to_level2_processor_RTorCH4, level1b_to_level2_processor\n",
    "from teds.lib.libNumTools import get_isrf"
   ]
  },
  {
   "cell_type": "markdown",
   "metadata": {},
   "source": [
    "#### 3. Operational flags"
   ]
  },
  {
   "cell_type": "code",
   "execution_count": 3,
   "metadata": {},
   "outputs": [],
   "source": [
    "proc_gm     = False\n",
    "proc_sgmgeo = False\n",
    "proc_sgmrad = False\n",
    "proc_im     = True\n",
    "proc_l1al1b = True\n",
    "proc_l1bl2  = True\n",
    "\n",
    "data_alys   = True "
   ]
  },
  {
   "cell_type": "markdown",
   "metadata": {},
   "source": [
    "Set variables applicable to all cells"
   ]
  },
  {
   "cell_type": "code",
   "execution_count": 4,
   "metadata": {},
   "outputs": [
    {
     "name": "stdout",
     "output_type": "stream",
     "text": [
      "[1.]\n"
     ]
    }
   ],
   "source": [
    "path  = '/home/jochen/TANGO_E2ES/EndtoEndProject/data/interface_data/'\n",
    "nsca  = 40\n",
    "scale = np.arange(nsca)*0.05 + 0.05 #radiance scaling \n",
    "nsca  = 1\n",
    "scale = np.arange(nsca) + 1. #radiance scaling \n",
    "\n",
    "\n",
    "print(scale)"
   ]
  },
  {
   "cell_type": "code",
   "execution_count": 5,
   "metadata": {},
   "outputs": [],
   "source": [
    "if(proc_gm):\n",
    "    #configureation file\n",
    "    #In this case, the gm does not include solar and viewing geometry. It is easier to define them with the notebook\n",
    "    gm_config= yaml.safe_load(open('./settings/gm_config.yaml'))\n",
    "    #we use the nact dimension to simulate scenes with different scaling factors s and the geometry of Lref\n",
    "    nact = 100 \n",
    "    gm_config['scene_spec'] = {}\n",
    "    gm_config['scene_spec']['sza'] = np.zeros(nact) + 70.\n",
    "    gm_config['scene_spec']['saa'] = np.zeros(nact) \n",
    "    gm_config['scene_spec']['vza'] = np.zeros(nact) \n",
    "    gm_config['scene_spec']['vaa'] = np.zeros(nact) \n",
    "\n",
    "    geometry_module(gm_config)\n"
   ]
  },
  {
   "cell_type": "markdown",
   "metadata": {},
   "source": [
    "#### 5. SGM-GEO"
   ]
  },
  {
   "cell_type": "markdown",
   "metadata": {},
   "source": [
    "Here we make use of the fact that for a non-scattering RT simulation a scaling of the radiance spectrum is equivalent with a scaling of the albedo."
   ]
  },
  {
   "cell_type": "code",
   "execution_count": 6,
   "metadata": {},
   "outputs": [],
   "source": [
    "if(proc_sgmgeo):\n",
    "    albedo = np.ones(nact)*0.15\n",
    "    for sc in scale:\n",
    "        sgmgeo_config= yaml.safe_load(open('./settings/sgmgeo_config.yaml'))\n",
    "        sgmgeo_config['scene_spec']={}\n",
    "        sgmgeo_config['scene_spec']['albedo'] = albedo*sc\n",
    "        sgmgeo_config['io_files']['output_geo']=path+'sgm/Tango_Carbon_sgm_atmosphere_exp5.0_scale_'+(\"%.3f\" % (sc)) + '.nc'\n",
    "        geoscene_generation(sgmgeo_config)"
   ]
  },
  {
   "cell_type": "markdown",
   "metadata": {},
   "source": [
    "#### 6. SGM-RAD"
   ]
  },
  {
   "cell_type": "code",
   "execution_count": 7,
   "metadata": {},
   "outputs": [],
   "source": [
    "if(proc_sgmrad):\n",
    "\n",
    "    for sc in scale:\n",
    "        sgmrad_config= yaml.safe_load(open('./settings/sgmrad_config.yaml'))\n",
    "        sgmrad_config['io_files']['input_sgm_geo']=path+'sgm/Tango_Carbon_sgm_atmosphere_exp5.0_scale_'+(\"%.3f\" % (sc)) + '.nc'\n",
    "        sgmrad_config['io_files']['output_rad']=path + 'sgm/Tango_Carbon_sgm_radiance_exp5.0_scale_'+(\"%.3f\" % (sc)) + '.nc'\n",
    "        Carbon_radiation_scene_generation(sgmrad_config)"
   ]
  },
  {
   "cell_type": "markdown",
   "metadata": {},
   "source": [
    "### 7. Instrument model "
   ]
  },
  {
   "cell_type": "markdown",
   "metadata": {},
   "source": [
    "Run the instrument model for each scaled scenes using a seperate call "
   ]
  },
  {
   "cell_type": "code",
   "execution_count": 8,
   "metadata": {},
   "outputs": [
    {
     "name": "stderr",
     "output_type": "stream",
     "text": [
      "[20:00:35] Processing from SGM to l1a\n"
     ]
    },
    {
     "name": "stdout",
     "output_type": "stream",
     "text": [
      "##########################\n",
      "# Tango instrument model #\n",
      "##########################\n",
      "Version                 : 0.0.1\n",
      "Commit hash             : 56597a5b\n",
      "Date and timezone       : 2024 December 27 Fri\n",
      "Contacts                : raullaasner@gmail.com\n",
      "                          bitbucket.org/sron_earth/teds/issues (request permission)\n",
      "Host system             : Linux 6.8.0-50-generic\n",
      "\n",
      "##############################\n",
      "# Reading CKD and input data #\n",
      "##############################\n"
     ]
    },
    {
     "name": "stderr",
     "output_type": "stream",
     "text": [
      "[20:00:36] Reading input data\n",
      "[20:00:36] ISRF convolution\n"
     ]
    },
    {
     "name": "stdout",
     "output_type": "stream",
     "text": [
      "\n",
      "#################\n",
      "# Forward model #\n",
      "#################\n"
     ]
    },
    {
     "name": "stderr",
     "output_type": "stream",
     "text": [
      "100%|██████████| 1/1 [00:00<00:00,  4.00 ALT/s]\n",
      "[20:00:37] Radiometric\n",
      "100%|██████████| 1/1 [00:00<00:00, 7410.43it/s]\n",
      "[20:00:37] Detector mapping\n",
      "100%|██████████| 1/1 [00:34<00:00, 34.76s/it]\n",
      "[20:01:12] Stray light\n",
      "100%|██████████| 1/1 [00:00<00:00,  1.08it/s]\n",
      "[20:01:13] PRNU\n",
      "[20:01:13] Nonlinearity\n",
      "[20:01:13] Dark signal\n",
      "[20:01:13] Noise\n",
      "[20:01:13] Dark offset\n",
      "[20:01:13] Coadding and binning\n",
      "[20:01:13] Writing output data\n"
     ]
    },
    {
     "name": "stdout",
     "output_type": "stream",
     "text": [
      "\n",
      "###########\n",
      "# Success #\n",
      "###########\n"
     ]
    }
   ],
   "source": [
    "if(proc_im):\n",
    "\n",
    "    for sc in scale:\n",
    "        im_config= yaml.safe_load(open('./settings/im_config.yaml'))\n",
    "        im_config['io']['sgm'] = path + 'sgm/Tango_Carbon_sgm_radiance_exp5.0_scale_'+(\"%.3f\" % (sc)) + '.nc'\n",
    "        im_config['io']['l1a'] = path + 'level1a/Tango_Carbon_l1a_exp5.0_scale_'+(\"%.3f\" % (sc)) + '.nc'\n",
    "        run_instrument_model(im_config)"
   ]
  },
  {
   "cell_type": "markdown",
   "metadata": {},
   "source": [
    "#### 8. L1B processing"
   ]
  },
  {
   "cell_type": "code",
   "execution_count": 9,
   "metadata": {},
   "outputs": [
    {
     "name": "stderr",
     "output_type": "stream",
     "text": [
      "[20:01:13] [WARNING] unrecognized input parameter: reverse_wavelength\n",
      "[20:01:13] [WARNING] unrecognized input parameter: swath\n",
      "[20:01:13] Processing from L1A to L1B\n"
     ]
    },
    {
     "name": "stdout",
     "output_type": "stream",
     "text": [
      "#######################\n",
      "# Tango L1B processor #\n",
      "#######################\n",
      "Version                 : 0.0.1\n",
      "Commit hash             : 56597a5b\n",
      "Date and timezone       : 2024 December 27 Fri\n",
      "Contacts                : raullaasner@gmail.com\n",
      "                          bitbucket.org/sron_earth/teds/issues (request permission)\n",
      "Host system             : Linux 6.8.0-50-generic\n",
      "\n",
      "##############################\n",
      "# Reading CKD and input data #\n",
      "##############################\n"
     ]
    },
    {
     "name": "stderr",
     "output_type": "stream",
     "text": [
      "[20:01:14] Reading input data\n",
      "[20:01:14] Coadding and binning\n",
      "[20:01:14] Dark offset\n",
      "[20:01:14] Noise\n",
      "[20:01:15] Dark current\n",
      "[20:01:15] Nonlinearity\n"
     ]
    },
    {
     "name": "stdout",
     "output_type": "stream",
     "text": [
      "\n",
      "#############\n",
      "# Retrieval #\n",
      "#############\n"
     ]
    },
    {
     "name": "stderr",
     "output_type": "stream",
     "text": [
      "100%|██████████| 1/1 [00:00<00:00, 41.64it/s]\n",
      "[20:01:15] PRNU\n",
      "100%|██████████| 1/1 [00:00<00:00, 69.31it/s]\n",
      "[20:01:15] Smoothing over bad values\n",
      "100%|██████████| 1/1 [00:00<00:00, 10.71it/s]\n",
      "100%|██████████| 1/1 [00:00<00:00,  8.81it/s]\n",
      "[20:01:15] Stray light\n",
      "100%|██████████| 1/1 [00:02<00:00,  2.91s/it]\n",
      "[20:01:18] Mapping from detector\n",
      "100%|██████████| 1/1 [00:34<00:00, 34.36s/it]\n",
      "[20:01:52] Interpolating from intermediate to main CKD wavelength grids\n",
      "[20:01:52] Radiometric\n",
      "[20:01:52] Writing output data\n"
     ]
    },
    {
     "name": "stdout",
     "output_type": "stream",
     "text": [
      "\n",
      "###########\n",
      "# Success #\n",
      "###########\n"
     ]
    }
   ],
   "source": [
    "if(proc_l1al1b):\n",
    "    for sc in scale:\n",
    "        l1al1b_config= yaml.safe_load(open('./settings/l1al1b_config.yaml'))\n",
    "        l1al1b_config['io']['l1a'] = path + 'level1a/Tango_Carbon_l1a_exp5.0_scale_'+(\"%.3f\" % (sc)) + '.nc'\n",
    "        l1al1b_config['io']['l1b'] = path + 'level1b/Tango_Carbon_l1b_exp5.0_scale_'+(\"%.3f\" % (sc)) + '.nc'\n",
    "        run_l1al1b(l1al1b_config)"
   ]
  },
  {
   "cell_type": "markdown",
   "metadata": {},
   "source": [
    "#### 8. L2 processing of the $\\mathrm{CO_2}$ and $\\mathrm{CH_4}$ proxy product"
   ]
  },
  {
   "cell_type": "markdown",
   "metadata": {},
   "source": [
    "* First reference simulation with gain simulations\n",
    "* Loop over different isrf perturbations (acoeff and bcoeff of the generalized normal distribution)"
   ]
  },
  {
   "cell_type": "code",
   "execution_count": 10,
   "metadata": {},
   "outputs": [
    {
     "name": "stdout",
     "output_type": "stream",
     "text": [
      "level 1B to 2 proessor ...\n"
     ]
    },
    {
     "name": "stderr",
     "output_type": "stream",
     "text": [
      "100%|██████████| 1/1 [01:35<00:00, 95.71s/it]"
     ]
    },
    {
     "name": "stdout",
     "output_type": "stream",
     "text": [
      "/home/jochen/TANGO_E2ES/EndtoEndProject/data/interface_data/level2/Tango_Carbon_l2_exp5.0_scale_1.000.nc\n",
      "=> l1bl2 finished successfully\n"
     ]
    },
    {
     "name": "stderr",
     "output_type": "stream",
     "text": [
      "\n"
     ]
    }
   ],
   "source": [
    "if(proc_l1bl2):\n",
    "\n",
    "    for sc in scale:\n",
    "        l1bl2_config= yaml.safe_load(open('./settings/l1bl2_config.yaml'))\n",
    "        l1bl2_config['io_files']['input_l1b'] = path + 'level1b/Tango_Carbon_l1b_exp5.0_scale_'+(\"%.3f\" % (sc)) + '.nc'\n",
    "        l1bl2_config['io_files']['output_l2'] = path + 'level2/Tango_Carbon_l2_exp5.0_scale_'+(\"%.3f\" % (sc)) + '.nc'\n",
    "        level1b_to_level2_processor(l1bl2_config)\n"
   ]
  },
  {
   "cell_type": "markdown",
   "metadata": {},
   "source": [
    "#### 9. Data analysis: Sensitivity to fwhm (acoeff)"
   ]
  },
  {
   "cell_type": "markdown",
   "metadata": {},
   "source": [
    "9.1 Read in data incld gains for reference case"
   ]
  },
  {
   "cell_type": "code",
   "execution_count": 11,
   "metadata": {},
   "outputs": [
    {
     "name": "stdout",
     "output_type": "stream",
     "text": [
      "0 1.0\n",
      "[138.33611049]\n",
      "[6.52001042]\n"
     ]
    },
    {
     "ename": "SystemExit",
     "evalue": "",
     "output_type": "error",
     "traceback": [
      "An exception has occurred, use %tb to see the full traceback.\n",
      "\u001b[0;31mSystemExit\u001b[0m\n"
     ]
    },
    {
     "name": "stderr",
     "output_type": "stream",
     "text": [
      "/home/jochen/pythonenvs/tangoendtoend/bin/.venv/lib/python3.10/site-packages/IPython/core/interactiveshell.py:3516: UserWarning: To exit: use 'exit', 'quit', or Ctrl-D.\n",
      "  warn(\"To exit: use 'exit', 'quit', or Ctrl-D.\", stacklevel=1)\n"
     ]
    }
   ],
   "source": [
    "if(data_alys):\n",
    "    import netCDF4 as nc\n",
    "    import numpy as np\n",
    "    from copy import deepcopy\n",
    "    import matplotlib.pyplot as plt\n",
    "    import sys\n",
    "    plt.rcParams.update({'font.size': 14,})\n",
    "    path ='/home/jochen/TANGO_E2ES/EndtoEndProject/data/interface_data/'\n",
    "\n",
    "    nact  = 100\n",
    "    nwave = 550\n",
    "\n",
    "    snr_max= np.zeros((nsca))\n",
    "    snr_min= np.zeros((nsca))\n",
    "    rad_max= np.zeros((nsca))\n",
    "    rad_min= np.zeros((nsca))\n",
    "    l2prec_median = np.zeros((nsca))\n",
    "    co2 = np.zeros((nsca))\n",
    "\n",
    "    for isca, sc in enumerate(scale):\n",
    "        print(isca, sc)\n",
    "        filenamel1b = path + 'level1b/Tango_Carbon_l1b_exp5.0_scale_'+(\"%.3f\" % (sc)) + '.nc'\n",
    "        filenamel2  = path + 'level2/Tango_Carbon_l2_exp5.0_scale_'+(\"%.3f\" % (sc)) + '.nc'\n",
    "\n",
    "        l1b_data = nc.Dataset(filenamel1b)\n",
    "        l2_data  = nc.Dataset(filenamel2)\n",
    "\n",
    "        wave  = np.array(deepcopy(l1b_data['observation_data']['wavelength'][:]))\n",
    "        rad   = np.array(deepcopy(l1b_data['observation_data']['radiance'][:]))\n",
    "        noise = np.array(deepcopy(l1b_data['observation_data']['radiance_stdev'][:]))\n",
    "        snr = rad/noise\n",
    "\n",
    "        lmax = 114\n",
    "        lmin = 502\n",
    "        snr_max[isca] = np.median(snr[0,:,lmax]) \n",
    "        snr_min[isca] = np.median(snr[0,:,lmin])\n",
    "        rad_max[isca] = np.median(rad[0,:,lmax]) \n",
    "        rad_min[isca] = np.median(rad[0,:,lmin])\n",
    "    \n",
    "        prec_xco2_proxy = np.array(deepcopy(l2_data['precision XCO2 proxy'][:]).flatten())\n",
    "        l2prec_median[isca] = np.median(prec_xco2_proxy)\n",
    "\n",
    "    print(snr_max)\n",
    "    print(l2prec_median)\n",
    "    sys.exit()\n",
    "\n",
    "    l2_req   = 3.8\n",
    "    wave_max = wave[0,lmax] \n",
    "    wave_min = wave[0,lmin]\n",
    "    req_snr_max = np.interp(l2_req, np.flip(l2prec_median[:]), np.flip(snr_max[:]))\n",
    "    req_snr_min = np.interp(l2_req, np.flip(l2prec_median[:]), np.flip(snr_min[:]))\n",
    "    req_rad_max = rad_max[14]\n",
    "    req_rad_min = rad_min[14]\n",
    "\n",
    "    sw_fig1 = False\n",
    "    sw_fig2 = True\n",
    "\n",
    "    if(sw_fig1):\n",
    "        fig = plt.figure(figsize=(26, 7), dpi=100,)\n",
    "        ax1 = fig.add_subplot(121)\n",
    "        ax1.plot(scale,snr_max[:], color = 'green', label = 'SNR$_\\mathrm{max}$')\n",
    "        ax1.plot(scale,snr_min[:], color = 'blue', label = 'SNR$_\\mathrm{min}$')\n",
    "        ax1.set_xlabel('scaling factor $s$ [1]')\n",
    "        ax1.set_ylabel('SNR [1]')\n",
    "        plt.legend()\n",
    "    \n",
    "    #sys.exit()\n",
    "#     req_scaling = np.interp(l2_req, np.flip(l2prec_median[:]), np.flip(scale))\n",
    "#     print('required scaling factor:', req_scaling)\n",
    "    \n",
    "#     ax2 = fig.add_subplot(122)\n",
    "#     ax2.plot(albs/0.15,l2prec_median[:, isza], color = 'grey')\n",
    "#     ax2.set_xlabel('scaling factor $s$ [1]')\n",
    "#     ax2.set_ylabel('XCO$_2^\\mathrm{prox}$ [ppm]')\n",
    "    \n",
    "#     textstr = '\\n'.join((\n",
    "#         r'required L2 precsion =%.2f' % (l2_req, ) + ' ppm',\n",
    "#         r'degradation factor $s =%.2f$' % (req_scaling, )))\n",
    "#     props = dict(boxstyle='round', facecolor='grey', alpha=0.2)\n",
    "#     ax2.text(0.15, 0.95, textstr, transform=ax2.transAxes, fontsize=14,\n",
    "#             verticalalignment='top', bbox=props)\n",
    "#     plt.savefig('plots/l2_precision.png',)\n",
    "    \n",
    "    if(sw_fig2):\n",
    "\n",
    "        fig = plt.figure(figsize=(11, 7), dpi=100,)\n",
    "    \n",
    "#     textstr_max = '\\n'.join((\n",
    "#         r'$\\lambda_\\mathrm{max}=%.2f$' % (wave_max, ) + 'nm',\n",
    "#         r'$I_\\mathrm{max}=%.2E$' % (req_rad_max, ) + ' ph/(s sr m$^2$ nm)',\n",
    "#         r'$SNR_\\mathrm{max}=%.2f$' % (req_snr_max, )))\n",
    "    \n",
    "#     textstr_min = '\\n'.join((\n",
    "#         r'$\\lambda_\\mathrm{min}=%.2f$' % (wave_min, ) + 'nm',\n",
    "#         r'$I_\\mathrm{min}=%.2E$' % (req_rad_min, ) + ' ph/(s sr m$^2$ nm)',\n",
    "#         r'$SNR_\\mathrm{min}=%.2f$' % (req_snr_min, )))\n",
    "    \n",
    "        ax1 = fig.add_subplot(111)\n",
    "        ax1.plot(l2prec_median,snr_max, color = 'green', label = 'SNR$_\\mathrm{max}$')\n",
    "        ax1.plot(l2prec_median,snr_min, color = 'blue', label = 'SNR$_\\mathrm{min}$')\n",
    "        ax1.set_xlabel('XCO$_2^\\mathrm{prox}$ [ppm]')\n",
    "        ax1.set_ylabel('SNR [1]')\n",
    "        plt.legend()\n",
    "#     props = dict(boxstyle='round', facecolor='green', alpha=0.2)\n",
    "#     ax1.text(0.15, 0.95, textstr_max, transform=ax1.transAxes, fontsize=14,\n",
    "#             verticalalignment='top', bbox=props)\n",
    "#     props = dict(boxstyle='round', facecolor='blue', alpha=0.2)\n",
    "#     ax1.text(0.15, 0.65, textstr_min, transform=ax1.transAxes, fontsize=14,\n",
    "#             verticalalignment='top', bbox=props)\n",
    "#     plt.savefig('plots/snr.png',)\n",
    "    \n",
    "# plt.show()"
   ]
  },
  {
   "cell_type": "markdown",
   "metadata": {},
   "source": [
    "9.2 Plot the induced L2 error (fully iterated) for the fwhm perturbation (a-coefficient) as a function of SZA "
   ]
  },
  {
   "cell_type": "code",
   "execution_count": null,
   "metadata": {},
   "outputs": [],
   "source": []
  },
  {
   "cell_type": "markdown",
   "metadata": {},
   "source": [
    "9.3 Plot the L2 induced error as a function of perturbed fwhm for the itertative solution and for linear error propagation."
   ]
  },
  {
   "cell_type": "code",
   "execution_count": null,
   "metadata": {},
   "outputs": [],
   "source": [
    "if(data_aly2_acoeff):\n",
    "\n",
    "    nacoeff,nsza,nwave = radiance_per_acoeff.shape\n",
    "\n",
    "    delta_XCO2ns    = np.zeros([nacoeff,nsza])\n",
    "    delta_XCH4ns    = np.zeros([nacoeff,nsza])\n",
    "    delta_XCO2      = np.zeros([nacoeff,nsza])\n",
    "\n",
    "    for ia in range(nacoeff):\n",
    "        for isza in range(nsza):\n",
    "            deltarad = radiance_per_acoeff[ia,isza,:]-radiance_ref[isza,:]\n",
    "            delta_XCO2ns[ia,isza] = np.dot(gain_co2_ns[0,isza,:],deltarad)/xco2_true[isza]*100.\n",
    "            delta_XCH4ns[ia,isza] = np.dot(gain_ch4_ns[0,isza,:],deltarad)/xch4_true[isza]*100.\n",
    "            delta_XCO2[ia, isza]  = np.dot(gain_co2_proxy[0,isza,:],deltarad)/xco2_true[isza]*100.\n",
    "\n",
    "    fig = plt.figure(figsize=(22,6), dpi=100,)\n",
    "    plt.rcParams.update({'font.size': 16})\n",
    "    \n",
    "    ax1 = fig.add_subplot(131)\n",
    "\n",
    "    ax1.plot(acoeff, xco2_ns_error[:, 0], label='sza = '+\"{:.2f}\".format(sza[0]), color = 'green')\n",
    "    ax1.plot(acoeff, xco2_ns_error[:, 3], label='sza = '+\"{:.2f}\".format(sza[3]), color = 'blue')\n",
    "    ax1.plot(acoeff, xco2_ns_error[:, 7], label='sza = '+\"{:.2f}\".format(sza[7]), color = 'orange')\n",
    "\n",
    "    ax1.plot(acoeff, delta_XCO2ns[:, 0], label='linear error prop.',linestyle = ':', color = 'green')\n",
    "    ax1.plot(acoeff, delta_XCO2ns[:, 3], linestyle = ':', color = 'blue')\n",
    "    ax1.plot(acoeff, delta_XCO2ns[:, 7], linestyle = ':', color = 'orange')\n",
    "\n",
    "    ax1.set_xlabel('fwhm [nm]')\n",
    "    ax1.set_ylabel('$\\delta$XCO$_2$ [%]')\n",
    "    ax1.legend(fontsize = '11')\n",
    "    ax1.set_ylim([-0.5, 0.5])\n",
    "    ax1.set_title('XCO$_2$ non-scattering')\n",
    "    \n",
    "    ax2 = fig.add_subplot(132)\n",
    "    \n",
    "    ax2.set_xlabel('fwhm [nm]')\n",
    "    ax2.set_ylabel('$\\delta$XCH$_4$ [%]')\n",
    "    ax2.set_ylim([-5., 5.])\n",
    "    ax2.set_title('XCH$_4$ non-scattering')\n",
    "\n",
    "    ax2.plot(acoeff, xch4_ns_error[:, 0], label='sza = '+\"{:.2f}\".format(sza[0]), color = 'green')\n",
    "    ax2.plot(acoeff, xch4_ns_error[:, 3], label='sza = '+\"{:.2f}\".format(sza[3]), color = 'blue')\n",
    "    ax2.plot(acoeff, xch4_ns_error[:, 7], label='sza = '+\"{:.2f}\".format(sza[7]), color = 'orange')\n",
    "\n",
    "    ax2.plot(acoeff, delta_XCH4ns[:, 0], linestyle = ':', color = 'green')\n",
    "    ax2.plot(acoeff, delta_XCH4ns[:, 3], linestyle = ':', color = 'blue')\n",
    "    ax2.plot(acoeff, delta_XCH4ns[:, 7], linestyle = ':', color = 'orange')\n",
    "    ax3 = fig.add_subplot(133)\n",
    "    \n",
    "    ax3.set_xlabel('fwhm [nm]')\n",
    "    ax3.set_ylabel('$\\delta$XCO$_2$ [%]')\n",
    "    ax3.set_ylim([-5., 5.])\n",
    "    ax3.set_title('XCO$_2$ proxy')\n",
    "    \n",
    "    ax3.plot(acoeff, xco2_proxy_error[:, 0], label='sza = '+\"{:.2f}\".format(sza[0]), color = 'green')\n",
    "    ax3.plot(acoeff, xco2_proxy_error[:, 3], label='sza = '+\"{:.2f}\".format(sza[3]), color = 'blue')\n",
    "    ax3.plot(acoeff, xco2_proxy_error[:, 7], label='sza = '+\"{:.2f}\".format(sza[7]), color = 'orange')\n",
    "\n",
    "    ax3.plot(acoeff, delta_XCO2[:, 0], label='sza = '+\"{:.2f}\".format(sza[0]),linestyle = ':', color = 'green')\n",
    "    ax3.plot(acoeff, delta_XCO2[:, 3], label='sza = '+\"{:.2f}\".format(sza[3]),linestyle = ':', color = 'blue')\n",
    "    ax3.plot(acoeff, delta_XCO2[:, 7], label='sza = '+\"{:.2f}\".format(sza[7]),linestyle = ':', color = 'orange')\n",
    "\n",
    "    plt.savefig('plots/exp6_isrf_fwhm.png',)"
   ]
  },
  {
   "cell_type": "markdown",
   "metadata": {},
   "source": [
    "#### 10. Data analysis: Sensitivity to fwhm (bcoeff)"
   ]
  },
  {
   "cell_type": "markdown",
   "metadata": {},
   "source": [
    "10.1 Read in data incld gains for reference case"
   ]
  },
  {
   "cell_type": "code",
   "execution_count": 12,
   "metadata": {},
   "outputs": [],
   "source": [
    "if(data_read_bcoeff):\n",
    "\n",
    "    path = '/home/jochen/TANGO_E2ES/EndtoEndProject/data/interface_data/'\n",
    "    za = [70., 60, 50, 40, 30, 20, 10, 0]\n",
    "    nsza = len(sza)\n",
    "\n",
    "    nbcoeff = 11\n",
    "    bcoeff = np.arange(0, nbcoeff)*0.01 + 0.4\n",
    "                    \n",
    "    xco2_proxy = np.zeros([nbcoeff, nsza])\n",
    "    xch4_proxy = np.zeros([nbcoeff, nsza])\n",
    "    xco2_ns    = np.zeros([nbcoeff, nsza])\n",
    "    xch4_ns    = np.zeros([nbcoeff, nsza])\n",
    "\n",
    "    precision_xco2_proxy = np.zeros([nbcoeff, nsza])\n",
    "    precision_xco2_ns    = np.zeros([nbcoeff, nsza])\n",
    "    precision_xch4_ns    = np.zeros([nbcoeff, nsza])\n",
    "\n",
    "    for ib in range(nbcoeff):    \n",
    "\n",
    "        str_bcoeff = \"%.3f\" % (bcoeff[ib])\n",
    "        filename = 'level2/Tango_Carbon_l2_exp6.0_bcoeff'+str_bcoeff+'.nc'\n",
    "        l2_data = nc.Dataset(path+filename)\n",
    "\n",
    "        xco2_proxy[ib, :] = deepcopy(l2_data['XCO2 proxy'][:])\n",
    "        xch4_proxy[ib, :] = deepcopy(l2_data['XCH4 proxy'][:])\n",
    "\n",
    "        xco2_ns[ib,:]    = deepcopy(l2_data['non_scattering_retrieval']['XCO2'][:]).flatten()\n",
    "        xch4_ns[ib,:]    = deepcopy(l2_data['non_scattering_retrieval']['XCH4'][:]).flatten()\n",
    "        prec_xco2_proxy[ib,:] = deepcopy(l2_data['precision XCO2 proxy'][:]).flatten()\n",
    "        prec_xco2_ns[ib,:]    = deepcopy(l2_data['non_scattering_retrieval']['precision XCO2'][:]).flatten()\n",
    "        prec_xch4_ns[ib,:]    = deepcopy(l2_data['non_scattering_retrieval']['precision XCH4'][:]).flatten()\n",
    "        l2_data.close()\n",
    "\n",
    "    filename = 'sgm/Tango_Carbon_sgm_atmosphere_exp6.0.nc'\n",
    "    sgm_data = nc.Dataset(path+filename)\n",
    "    xco2_true = deepcopy(sgm_data['XCO2'][:]).flatten()\n",
    "    xch4_true = deepcopy(sgm_data['XCH4'][:]).flatten()\n",
    "    sgm_data.close()\n",
    "\n",
    "    xco2_proxy_error = np.zeros([nbcoeff, nsza])\n",
    "    xch4_proxy_error = np.zeros([nbcoeff, nsza])\n",
    "    xco2_ns_error = np.zeros([nbcoeff, nsza])\n",
    "    xch4_ns_error = np.zeros([nbcoeff, nsza])\n",
    "\n",
    "    for ib in range(nbcoeff):\n",
    "            xco2_proxy_error[ib, :] = (xco2_proxy[ib, :]-xco2_true[:])/xco2_true[:]*100.\n",
    "            xch4_proxy_error[ib, :] = (xch4_proxy[ib, :]-xch4_true[:])/xch4_true[:]*100.\n",
    "            xco2_ns_error[ib, :] = (xco2_ns[ib, :]-xco2_true[:])/xco2_true[:]*100.\n",
    "            xch4_ns_error[ib, :] = (xch4_ns[ib, :]-xch4_true[:])/xch4_true[:]*100.\n",
    "\n",
    "    # read gains from diag files\n",
    "\n",
    "    filel2_diag = '/home/jochen/TANGO_E2ES/EndtoEndProject/data/interface_data/level2/Tango_Carbon_l2_exp6.0_diag_acoeff0.450.nc'\n",
    "    diag= Dataset(filel2_diag, mode='r')\n",
    "    gain_ch4_ns    = diag['gain CH4'][:]\n",
    "    gain_co2_ns    = diag['gain CO2'][:]\n",
    "    \n",
    "    # diag.variables.keys()\n",
    "\n",
    "    nn, nsza, nwave = gain_co2_ns.shape\n",
    "    radiance_ref    = np.zeros([nsza, nwave])\n",
    "    radiance_ref[:,:] = diag['measurement'][:]\n",
    "    wave_l1b        = diag['wavelength'][0,0,:]\n",
    "    gain_co2_proxy  = np.zeros([nn,nsza,nwave])\n",
    "    gain_ch4_proxy  = np.zeros([nn,nsza,nwave])\n",
    "\n",
    "    for isza in range(nsza):\n",
    "        gain_co2_proxy[0,isza,:] = (gain_co2_ns[0,isza,:]/xco2_ns[0,isza] - gain_ch4_ns[0,isza,:]/xch4_ns[0,isza])*xco2_proxy[0,isza]\n",
    "        gain_ch4_proxy[0,isza,:] = (gain_ch4_ns[0,isza,:]/xch4_ns[0,isza] - gain_co2_ns[0,isza,:]/xco2_ns[0,isza])*xch4_proxy[0,isza]\n",
    "\n",
    "    # simulated perturation of the measurement due to perturbed isrf, i.e., perturbation of the acoeff and bcoeff of \n",
    "    # the generalized normal distribution \n",
    "    filen_sgmrad = path + 'sgm/Tango_Carbon_sgm_radiance_exp6.0.nc'\n",
    "    sgmrad = Dataset(filen_sgmrad)\n",
    "    wave_lbl = sgmrad['wavelength'][:].data\n",
    "    radiance_per_bcoeff = np.zeros([nbcoeff,nsza,nwave])\n",
    "\n",
    "    isrf_config = {}\n",
    "    isrf_config['type']   = 'generalized_normal' \n",
    "    isrf_config['fwhm'] = 0.45\n",
    "    for ib in range(nbcoeff):\n",
    "        isrf_config['bcoeff'] = 0.4 + ib*0.01\n",
    "        isrf_convolution = get_isrf(wave_l1b, wave_lbl, isrf_config)\n",
    "        for isza in range(nsza):\n",
    "            radiance_per_bcoeff[ib, isza, :] = isrf_convolution(sgmrad['radiance'][0, isza, :].data)"
   ]
  },
  {
   "cell_type": "markdown",
   "metadata": {},
   "source": [
    "10.2 Plot the induced L2 error (fully iterated) for the fwhm perturbation (b-coefficient) as a function of SZA"
   ]
  },
  {
   "cell_type": "code",
   "execution_count": null,
   "metadata": {},
   "outputs": [],
   "source": [
    "if(data_aly1_bcoeff):\n",
    "    fig = plt.figure(figsize=(22,8), dpi=100,)\n",
    "    plt.rcParams.update({'font.size': 16})\n",
    "\n",
    "    ax1 = fig.add_subplot(131)\n",
    "    for ib in range(11):\n",
    "        ax1.plot(sza, xco2_ns_error[ib, :], label='b = '+\"{:.2f}\".format(bcoeff[ib]))\n",
    "    ax1.set_xlabel('SZA [degree]')\n",
    "    ax1.set_ylabel('$\\delta$XCO$_2$ [%]')\n",
    "    ax1.legend(fontsize = '11', ncol = 3)\n",
    "    ax1.set_ylim([-5., 5.])\n",
    "    ax1.set_title('XCO$_2$ non-scattering')\n",
    "\n",
    "    ax2 = fig.add_subplot(132)\n",
    "\n",
    "    ax2.set_xlabel('SZA [degree]')\n",
    "    ax2.set_ylabel('$\\delta$XCH$_4$ [%]')\n",
    "    ax2.set_ylim([-5., 5.])\n",
    "    ax2.set_title('XCH$_4$ non-scattering')\n",
    "    for ib in range(11):\n",
    "        ax2.plot(sza, xch4_ns_error[ib, :], label='b = '+\"{:.2f}\".format(bcoeff[ib]))\n",
    "\n",
    "    ax3 = fig.add_subplot(133)\n",
    "\n",
    "    ax3.set_xlabel('SZA [degree]')\n",
    "    ax3.set_ylabel('$\\delta$XCO$_2$ [%]')\n",
    "    ax3.set_ylim([-5., 5.])\n",
    "    ax3.set_title('XCO$_2$ proxy')\n",
    "    for ib in range(11):\n",
    "        ax3.plot(sza, xco2_proxy_error[ib, :], label='b = '+\"{:.2f}\".format(bcoeff[ib]))\n",
    "    plt.savefig('plots/exp6_isrf_bcoeff_sza.png',)"
   ]
  },
  {
   "cell_type": "markdown",
   "metadata": {},
   "source": [
    "10.3 Plot the L2 induced error as a function of perturbed fwhm for the itertative solution and for linear error propagation."
   ]
  },
  {
   "cell_type": "code",
   "execution_count": null,
   "metadata": {},
   "outputs": [],
   "source": [
    "if(data_aly2_bcoeff):\n",
    "\n",
    "    nbcoeff,nsza,nwave = radiance_per_bcoeff.shape\n",
    "\n",
    "    delta_XCO2ns    = np.zeros([nbcoeff,nsza])\n",
    "    delta_XCH4ns    = np.zeros([nbcoeff,nsza])\n",
    "    delta_XCO2      = np.zeros([nbcoeff,nsza])\n",
    "\n",
    "    for ib in range(nbcoeff):\n",
    "        for isza in range(nsza):\n",
    "            deltarad = radiance_per_bcoeff[ib,isza,:]-radiance_ref[isza,:]\n",
    "            delta_XCO2ns[ib,isza] = np.dot(gain_co2_ns[0,isza,:],deltarad)/xco2_true[isza]*100.\n",
    "            delta_XCH4ns[ib,isza] = np.dot(gain_ch4_ns[0,isza,:],deltarad)/xch4_true[isza]*100.\n",
    "            delta_XCO2[ib, isza]  = np.dot(gain_co2_proxy[0,isza,:],deltarad)/xco2_true[isza]*100.\n",
    "\n",
    "    fig = plt.figure(figsize=(22,6), dpi=100,)\n",
    "    plt.rcParams.update({'font.size': 16})\n",
    "    \n",
    "    ax1 = fig.add_subplot(131)\n",
    "\n",
    "    ax1.plot(bcoeff, xco2_ns_error[:, 0], label='sza = '+\"{:.2f}\".format(sza[0]), color = 'green')\n",
    "    ax1.plot(bcoeff, xco2_ns_error[:, 3], label='sza = '+\"{:.2f}\".format(sza[3]), color = 'blue')\n",
    "    ax1.plot(bcoeff, xco2_ns_error[:, 7], label='sza = '+\"{:.2f}\".format(sza[7]), color = 'orange')\n",
    "\n",
    "    ax1.plot(bcoeff, delta_XCO2ns[:, 0], label='linear error prop.',linestyle = ':', color = 'green')\n",
    "    ax1.plot(bcoeff, delta_XCO2ns[:, 3], linestyle = ':', color = 'blue')\n",
    "    ax1.plot(bcoeff, delta_XCO2ns[:, 7], linestyle = ':', color = 'orange')\n",
    "\n",
    "    ax1.set_xlabel('b [1]')\n",
    "    ax1.set_ylabel('$\\delta$XCO$_2$ [%]')\n",
    "    ax1.legend(fontsize = '11')\n",
    "    ax1.set_ylim([-0.5, 0.5])\n",
    "    ax1.set_title('XCO$_2$ non-scattering')\n",
    "    \n",
    "    ax2 = fig.add_subplot(132)\n",
    "    \n",
    "    ax2.set_xlabel('b [1]')\n",
    "    ax2.set_ylabel('$\\delta$XCH$_4$ [%]')\n",
    "    ax2.set_ylim([-5., 5.])\n",
    "    ax2.set_title('XCH$_4$ non-scattering')\n",
    "\n",
    "    ax2.plot(bcoeff, xch4_ns_error[:, 0], label='sza = '+\"{:.2f}\".format(sza[0]))\n",
    "    ax2.plot(bcoeff, xch4_ns_error[:, 3], label='sza = '+\"{:.2f}\".format(sza[3]))\n",
    "    ax2.plot(bcoeff, xch4_ns_error[:, 7], label='sza = '+\"{:.2f}\".format(sza[7]))\n",
    "\n",
    "    ax2.plot(bcoeff, delta_XCH4ns[:, 0], linestyle = ':', color = 'green')\n",
    "    ax2.plot(bcoeff, delta_XCH4ns[:, 3], linestyle = ':', color = 'blue')\n",
    "    ax2.plot(bcoeff, delta_XCH4ns[:, 7], linestyle = ':', color = 'orange')\n",
    "    ax3 = fig.add_subplot(133)\n",
    "    \n",
    "    ax3.set_xlabel('b [1]')\n",
    "    ax3.set_ylabel('$\\delta$XCO$_2$ [%]')\n",
    "    ax3.set_ylim([-5., 5.])\n",
    "    ax3.set_title('XCO$_2$ proxy')\n",
    "    \n",
    "    ax3.plot(bcoeff, xco2_proxy_error[:, 0], label='sza = '+\"{:.2f}\".format(sza[0]))\n",
    "    ax3.plot(bcoeff, xco2_proxy_error[:, 3], label='sza = '+\"{:.2f}\".format(sza[3]))\n",
    "    ax3.plot(bcoeff, xco2_proxy_error[:, 7], label='sza = '+\"{:.2f}\".format(sza[7]))\n",
    "\n",
    "    ax3.plot(bcoeff, delta_XCO2[:, 0], label='sza = '+\"{:.2f}\".format(sza[0]),linestyle = ':', color = 'green')\n",
    "    ax3.plot(bcoeff, delta_XCO2[:, 3], label='sza = '+\"{:.2f}\".format(sza[3]),linestyle = ':', color = 'blue')\n",
    "    ax3.plot(bcoeff, delta_XCO2[:, 7], label='sza = '+\"{:.2f}\".format(sza[7]),linestyle = ':', color = 'orange')\n",
    "\n",
    "    plt.savefig('plots/exp6_isrf_bcoeff.png',)"
   ]
  },
  {
   "cell_type": "markdown",
   "metadata": {},
   "source": [
    "#### 11. Analysis L2 error as a function of the ISRF standard deviation\n",
    "This is the basis for the TANGO Carbon ISRF requirement"
   ]
  },
  {
   "cell_type": "code",
   "execution_count": 15,
   "metadata": {},
   "outputs": [],
   "source": [
    "# the generalized normal distribution\n",
    "import math\n",
    "def generalized_normal(x, fwhm, b=0.5, deriv=False):\n",
    "    \"\"\"Generalized normal distribution.\n",
    "\n",
    "    :param x: A real value or a numpy array of real values.\n",
    "    :param float fwhm: Full width at half-maximum.\n",
    "    :param float b: Shape parameter. Value 0.5 for Gauss, towards 0 for a more\n",
    "        blocky shape, towards 1 for stronger wings.\n",
    "    :param bool deriv: If True, give the derivative instead of the\n",
    "        distribution itself. Default is False.\n",
    "    :return: Value(s) of generalized normal distribution (or its derivative if\n",
    "        deriv=True) at `x`, normalized to sum 1 for kernels.\n",
    "    :rtype: list(float)\n",
    "    \"\"\"\n",
    "    const = np.log(2)**b/(fwhm*math.gamma(1+b))\n",
    "    y = const*2**(-(2*np.abs(x)/fwhm)**(1/b))\n",
    "    y /= np.sum(y)\n",
    "    if deriv:\n",
    "        y *= -(2/fwhm)**(1/b)*np.log(2)*np.sign(x)*np.abs(x)**(1/b-1)/b\n",
    "    return y\n"
   ]
  },
  {
   "cell_type": "code",
   "execution_count": null,
   "metadata": {},
   "outputs": [],
   "source": [
    "if(req_aly):\n",
    "\n",
    "    path = '/home/jochen/TANGO_E2ES/EndtoEndProject/data/interface_data/'\n",
    "    sza = [70., 60, 50, 40, 30, 20, 10, 0]\n",
    "    nsza = len(sza)\n",
    "\n",
    "    nacoeff = 15\n",
    "    nbcoeff = 11\n",
    "    bcoeff = np.arange(0, nbcoeff)*0.01 + 0.4\n",
    "    acoeff = np.arange(0, nacoeff)*0.004 + 0.422\n",
    "                    \n",
    "    # The proxy product for perturbations of the acoeff and bcoeff of the ISRF\n",
    "    bxco2_proxy = np.zeros([nbcoeff, nsza])\n",
    "    bxch4_proxy = np.zeros([nbcoeff, nsza])\n",
    "    axco2_proxy = np.zeros([nacoeff, nsza])\n",
    "    axch4_proxy = np.zeros([nacoeff, nsza])\n",
    "\n",
    "    # ISRF standard deviation\n",
    "    bstd = np.zeros([nbcoeff, nsza])\n",
    "    astd = np.zeros([nacoeff, nsza])\n",
    "    # generate a wavelength grid for ISRF calculations centered around zero of a width +- 1 nm. \n",
    "    # This is needed to calculate the standard deviation of the ISRF \n",
    "    wave = (np.arange(2000)-1000)/1000\n",
    "    nwave = wave.size\n",
    "\n",
    "    # Get the proxy product from the L2 files\n",
    "    for ib in range(nbcoeff):    \n",
    "        acoeff_ref = 0.45\n",
    "        isrf = generalized_normal(wave, acoeff_ref, bcoeff[ib])\n",
    "        bstd[ib,:] = np.sqrt(np.power(wave, 2).dot(isrf))\n",
    "        str_bcoeff = \"%.3f\" % (bcoeff[ib])\n",
    "        filename = 'level2/Tango_Carbon_l2_exp6.0_bcoeff'+str_bcoeff+'.nc'\n",
    "        dataset = nc.Dataset(path+filename)\n",
    "        bxco2_proxy[ib, :] = deepcopy(dataset['XCO2 proxy'][:])\n",
    "        bxch4_proxy[ib, :] = deepcopy(dataset['XCH4 proxy'][:])\n",
    "        dataset.close()\n",
    "\n",
    "    for ia in range(nacoeff):    \n",
    "        bconst_fix = 0.45\n",
    "        isrf = generalized_normal(wave, acoeff[ia], bconst_fix)\n",
    "        astd[ia,:] = np.sqrt(np.power(wave, 2).dot(isrf))\n",
    "        str_acoeff = \"%.3f\" % (acoeff[ia])\n",
    "        filename = 'level2/Tango_Carbon_l2_exp6.0_acoeff'+str_acoeff+'.nc'\n",
    "        dataset = nc.Dataset(path+filename)\n",
    "        axco2_proxy[ia, :] = deepcopy(dataset['XCO2 proxy'][:])\n",
    "        axch4_proxy[ia, :] = deepcopy(dataset['XCH4 proxy'][:])\n",
    "        dataset.close()\n",
    "\n",
    "    # Get the ground truth from the SGM\n",
    "    filename = 'sgm/Tango_Carbon_sgm_atmosphere_exp6.0.nc'\n",
    "    sgm_data = nc.Dataset(path+filename)\n",
    "    xco2_true = deepcopy(sgm_data['XCO2'][:]).flatten()\n",
    "    xch4_true = deepcopy(sgm_data['XCH4'][:]).flatten()\n",
    "    sgm_data.close()\n",
    "\n",
    "    #proxy error\n",
    "    axco2_proxy_error = np.zeros([nacoeff, nsza])\n",
    "    axch4_proxy_error = np.zeros([nacoeff, nsza])\n",
    "    bxco2_proxy_error = np.zeros([nbcoeff, nsza])\n",
    "    bxch4_proxy_error = np.zeros([nbcoeff, nsza])\n",
    "\n",
    "    for ia in range(nacoeff):\n",
    "            axco2_proxy_error[ia, :] = (axco2_proxy[ia, :]-xco2_true[:])/xco2_true[:]*100.\n",
    "            axch4_proxy_error[ia, :] = (axch4_proxy[ia, :]-xch4_true[:])/xch4_true[:]*100.\n",
    "\n",
    "    for ib in range(nbcoeff):\n",
    "            bxco2_proxy_error[ib, :] = (bxco2_proxy[ib, :]-xco2_true[:])/xco2_true[:]*100.\n",
    "            bxch4_proxy_error[ib, :] = (bxch4_proxy[ib, :]-xch4_true[:])/xch4_true[:]*100.\n",
    "\n",
    "    std_ref = bstd[5,0]\n",
    "    plt.scatter(bstd.flatten()-std_ref,bxco2_proxy_error.flatten(),label='$b_\\mathrm{coeff}$', color = 'blue')\n",
    "    plt.scatter(astd.flatten()-std_ref,axco2_proxy_error.flatten(),label='$a_\\mathrm{coeff}$', color = 'green')\n",
    "\n",
    "    #linear regression through all data points\n",
    "    std = np.concatenate((astd.flatten(), bstd.flatten(),))\n",
    "    xco2_error = np.concatenate((axco2_proxy_error.flatten(),bxco2_proxy_error.flatten()))\n",
    "    std = std - bstd[5,0]\n",
    "    A = np.vstack([std, np.ones(len(std))]).T\n",
    "    A = std[:,np.newaxis]\n",
    "    m, _, _, _ = np.linalg.lstsq(A, xco2_error)\n",
    "    plt.plot(std, m*std, 'r', label='line regression', color='grey')\n",
    "\n",
    "    #assume an CO2 proxy error of 0.25 %. Calculate the correspsonding std dev error that is acceptable\n",
    "    e_max = (0.25)/m \n",
    "    plt.text(-0.004,-2.2,'$\\delta\\sigma(\\pm 0.25\\%) = \\pm $'+\"%.2E\" % (e_max) + ' nm')\n",
    "    plt.legend()\n",
    "    plt.xlabel('$\\delta \\sigma$ [nm]')\n",
    "    plt.ylabel('$\\delta$ XCO$_2$ [%]')\n",
    "    plt.savefig('plots/exp6_isrf_std_dev.png',)"
   ]
  }
 ],
 "metadata": {
  "kernelspec": {
   "display_name": ".venv",
   "language": "python",
   "name": "python3"
  },
  "language_info": {
   "codemirror_mode": {
    "name": "ipython",
    "version": 3
   },
   "file_extension": ".py",
   "mimetype": "text/x-python",
   "name": "python",
   "nbconvert_exporter": "python",
   "pygments_lexer": "ipython3",
   "version": "3.10.12"
  }
 },
 "nbformat": 4,
 "nbformat_minor": 2
}
