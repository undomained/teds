{
 "cells": [
  {
   "cell_type": "markdown",
   "metadata": {},
   "source": [
    "### Test for SNR requirement"
   ]
  },
  {
   "cell_type": "markdown",
   "metadata": {},
   "source": [
    "#### 1. Set working enviroment"
   ]
  },
  {
   "cell_type": "code",
   "execution_count": 2,
   "metadata": {},
   "outputs": [],
   "source": [
    "import sys\n",
    "sys.path.append(\"/home/jochen/pythonenvs/tangoendtoend/lib64/python3.11/site-packages\")\n",
    "import os\n",
    "import yaml\n",
    "import numpy as np\n",
    "from netCDF4 import Dataset\n",
    "from copy import deepcopy\n",
    "import matplotlib.pyplot as plt\n",
    "\n",
    "# define  path to search for module\n",
    "sys.path.append(\"/home/jochen/TANGO_E2ES/EndtoEndProject/end_to_end/\")\n",
    "os.chdir(\"/home/jochen/TANGO_E2ES/EndtoEndProject/end_to_end/examples/exp5_snr/\")"
   ]
  },
  {
   "cell_type": "markdown",
   "metadata": {},
   "source": [
    "#### 2. import teds modules"
   ]
  },
  {
   "cell_type": "code",
   "execution_count": 3,
   "metadata": {},
   "outputs": [],
   "source": [
    "from teds.gm.gm import geometry_module\n",
    "from teds.sgm import geoscene_generation\n",
    "from teds.sgm import Carbon_radiation_scene_generation\n",
    "from teds.im import run_instrument_model\n",
    "from teds.l1al1b import run_l1al1b\n",
    "from teds.l1l2.l1bl2 import level1b_to_level2_processor_RTorCH4, level1b_to_level2_processor\n",
    "from teds.lib.libNumTools import get_isrf\n",
    "from teds.siml1b import simplified_instrument_model_and_l1b_processor\n",
    "from examples.exp5_snr.l1b_pixel_mask import scale_l1b"
   ]
  },
  {
   "cell_type": "markdown",
   "metadata": {},
   "source": [
    "### 3. Set overall path and flags to swich on/off cells"
   ]
  },
  {
   "cell_type": "code",
   "execution_count": 6,
   "metadata": {},
   "outputs": [],
   "source": [
    "path  = '/home/jochen/TANGO_E2ES/EndtoEndProject/data/interface_data/'\n",
    "\n",
    "proc_gm     = True\n",
    "proc_sgmgeo = True\n",
    "proc_sgmrad = True\n",
    "proc_im     = True\n",
    "proc_l1al1b = True\n",
    "proc_siml1b = True\n",
    "proc_l1bl2  = True\n",
    "proc_data_aly_l1b = False\n",
    "proc_data_aly_l2  = False"
   ]
  },
  {
   "cell_type": "markdown",
   "metadata": {},
   "source": [
    "### 4. GM"
   ]
  },
  {
   "cell_type": "code",
   "execution_count": 9,
   "metadata": {},
   "outputs": [
    {
     "name": "stderr",
     "output_type": "stream",
     "text": [
      "[12:07:42] Generating geometry for 100 across track locations\n"
     ]
    },
    {
     "name": "stdout",
     "output_type": "stream",
     "text": [
      "#########################\n",
      "# Tango geometry module #\n",
      "#########################\n",
      "Version                 : 0.0.1\n",
      "Commit hash             : 11b20118\n",
      "Date and timezone       : 2025 January 21 Tue\n",
      "Contacts                : raullaasner@gmail.com\n",
      "                          bitbucket.org/sron_earth/teds/issues (request permission)\n",
      "Host system             : Linux 6.8.0-51-generic\n",
      "\n",
      "\n",
      "###########\n",
      "# Success #\n",
      "###########\n"
     ]
    }
   ],
   "source": [
    "if(proc_gm):\n",
    "    #configureation file\n",
    "    #In this case, the gm does not include solar and viewing geometry. It is easier to define them with the notebook\n",
    "    gm_config= yaml.safe_load(open('./settings/gm_config.yaml'))\n",
    "    #we use the nact dimension to simulate scenes with different scaling factors s and the geometry of Lref\n",
    "    nact = 100 \n",
    "    gm_config['scene_spec'] = {}\n",
    "    gm_config['scene_spec']['sza'] = np.zeros(nact) + 70.\n",
    "    gm_config['scene_spec']['saa'] = np.zeros(nact) \n",
    "    gm_config['scene_spec']['vza'] = np.zeros(nact) \n",
    "    gm_config['scene_spec']['vaa'] = np.zeros(nact) \n",
    "\n",
    "    geometry_module(gm_config)\n"
   ]
  },
  {
   "cell_type": "markdown",
   "metadata": {},
   "source": [
    "#### 5. SGM-GEO"
   ]
  },
  {
   "cell_type": "code",
   "execution_count": 10,
   "metadata": {},
   "outputs": [
    {
     "name": "stdout",
     "output_type": "stream",
     "text": [
      "\n",
      "###########\n",
      "# Success #\n",
      "###########\n"
     ]
    },
    {
     "name": "stderr",
     "output_type": "stream",
     "text": [
      "/home/jochen/TANGO_E2ES/EndtoEndProject/end_to_end/teds/gm/vincenty.py:62: RuntimeWarning: invalid value encountered in divide\n",
      "  cU1 * cU2 * slam / sin_sigma)\n"
     ]
    }
   ],
   "source": [
    "if(proc_sgmgeo):\n",
    "\n",
    "    albedo = np.ones(nact)*0.15\n",
    "    sgmgeo_config= yaml.safe_load(open('./settings/sgmgeo_config.yaml'))\n",
    "    sgmgeo_config['scene_spec']={}\n",
    "    sgmgeo_config['scene_spec']['albedo'] = albedo\n",
    "    sgmgeo_config['io_files']['output_geo']=path+'sgm/Tango_Carbon_sgm_atmosphere_exp5.0.nc'\n",
    "    geoscene_generation(sgmgeo_config)"
   ]
  },
  {
   "cell_type": "markdown",
   "metadata": {},
   "source": [
    "#### 6. SGM-RAD"
   ]
  },
  {
   "cell_type": "code",
   "execution_count": 11,
   "metadata": {},
   "outputs": [
    {
     "name": "stdout",
     "output_type": "stream",
     "text": [
      "Radiative tranfer simulation...\n"
     ]
    },
    {
     "name": "stderr",
     "output_type": "stream",
     "text": [
      "100%|██████████| 1/1 [00:04<00:00,  4.73s/it]"
     ]
    },
    {
     "name": "stdout",
     "output_type": "stream",
     "text": [
      "=>Carbon radsgm calculation finished successfully\n"
     ]
    },
    {
     "name": "stderr",
     "output_type": "stream",
     "text": [
      "\n"
     ]
    }
   ],
   "source": [
    "if(proc_sgmrad):\n",
    "    sgmrad_config= yaml.safe_load(open('./settings/sgmrad_config.yaml'))\n",
    "    sgmrad_config['io_files']['input_sgm_geo']=path+'sgm/Tango_Carbon_sgm_atmosphere_exp5.0.nc'\n",
    "    sgmrad_config['io_files']['output_rad']=path + 'sgm/Tango_Carbon_sgm_radiance_exp5.0.nc'\n",
    "    Carbon_radiation_scene_generation(sgmrad_config)"
   ]
  },
  {
   "cell_type": "markdown",
   "metadata": {},
   "source": [
    "### 7. Instrument model "
   ]
  },
  {
   "cell_type": "markdown",
   "metadata": {},
   "source": [
    "Run the instrument model for each scaled scenes using a seperate call "
   ]
  },
  {
   "cell_type": "code",
   "execution_count": 13,
   "metadata": {},
   "outputs": [
    {
     "name": "stderr",
     "output_type": "stream",
     "text": [
      "[12:08:38] Processing from SGM to l1a\n",
      "[12:08:38] Reading input data\n",
      "[12:08:38] ISRF convolution\n"
     ]
    },
    {
     "name": "stdout",
     "output_type": "stream",
     "text": [
      "##########################\n",
      "# Tango instrument model #\n",
      "##########################\n",
      "Version                 : 0.0.1\n",
      "Commit hash             : 11b20118\n",
      "Date and timezone       : 2025 January 21 Tue\n",
      "Contacts                : raullaasner@gmail.com\n",
      "                          bitbucket.org/sron_earth/teds/issues (request permission)\n",
      "Host system             : Linux 6.8.0-51-generic\n",
      "\n",
      "##############################\n",
      "# Reading CKD and input data #\n",
      "##############################\n",
      "\n",
      "#################\n",
      "# Forward model #\n",
      "#################\n"
     ]
    },
    {
     "name": "stderr",
     "output_type": "stream",
     "text": [
      "100%|██████████| 1/1 [00:00<00:00,  3.61 ALT/s]\n",
      "[12:08:39] Radiometric\n",
      "100%|██████████| 1/1 [00:00<00:00, 5667.98it/s]\n",
      "[12:08:39] Detector mapping\n",
      "100%|██████████| 1/1 [00:00<00:00,  1.57it/s]\n",
      "[12:08:39] PRNU\n",
      "[12:08:39] Nonlinearity\n",
      "[12:08:39] Dark signal\n",
      "[12:08:39] Dark offset\n",
      "[12:08:39] Analog-to-digital conversion\n",
      "[12:08:39] Writing output data\n"
     ]
    },
    {
     "ename": "IndexError",
     "evalue": "time not found in /",
     "output_type": "error",
     "traceback": [
      "\u001b[0;31m---------------------------------------------------------------------------\u001b[0m",
      "\u001b[0;31mIndexError\u001b[0m                                Traceback (most recent call last)",
      "Cell \u001b[0;32mIn[13], line 6\u001b[0m\n\u001b[1;32m      4\u001b[0m im_config[\u001b[38;5;124m'\u001b[39m\u001b[38;5;124mio\u001b[39m\u001b[38;5;124m'\u001b[39m][\u001b[38;5;124m'\u001b[39m\u001b[38;5;124ml1a\u001b[39m\u001b[38;5;124m'\u001b[39m] \u001b[38;5;241m=\u001b[39m path \u001b[38;5;241m+\u001b[39m \u001b[38;5;124m'\u001b[39m\u001b[38;5;124mlevel1a/Tango_Carbon_l1a_exp5.0_bin5.nc\u001b[39m\u001b[38;5;124m'\u001b[39m\n\u001b[1;32m      5\u001b[0m im_config[\u001b[38;5;124m'\u001b[39m\u001b[38;5;124mdetector\u001b[39m\u001b[38;5;124m'\u001b[39m][\u001b[38;5;124m'\u001b[39m\u001b[38;5;124mbinning_table_id\u001b[39m\u001b[38;5;124m'\u001b[39m] \u001b[38;5;241m=\u001b[39m \u001b[38;5;241m5\u001b[39m \n\u001b[0;32m----> 6\u001b[0m \u001b[43mrun_instrument_model\u001b[49m\u001b[43m(\u001b[49m\u001b[43mim_config\u001b[49m\u001b[43m)\u001b[49m\n\u001b[1;32m      8\u001b[0m im_config[\u001b[38;5;124m'\u001b[39m\u001b[38;5;124mio\u001b[39m\u001b[38;5;124m'\u001b[39m][\u001b[38;5;124m'\u001b[39m\u001b[38;5;124msgm\u001b[39m\u001b[38;5;124m'\u001b[39m] \u001b[38;5;241m=\u001b[39m path \u001b[38;5;241m+\u001b[39m \u001b[38;5;124m'\u001b[39m\u001b[38;5;124msgm/Tango_Carbon_sgm_radiance_exp5.0.nc\u001b[39m\u001b[38;5;124m'\u001b[39m\n\u001b[1;32m      9\u001b[0m im_config[\u001b[38;5;124m'\u001b[39m\u001b[38;5;124mio\u001b[39m\u001b[38;5;124m'\u001b[39m][\u001b[38;5;124m'\u001b[39m\u001b[38;5;124ml1a\u001b[39m\u001b[38;5;124m'\u001b[39m] \u001b[38;5;241m=\u001b[39m path \u001b[38;5;241m+\u001b[39m \u001b[38;5;124m'\u001b[39m\u001b[38;5;124mlevel1a/Tango_Carbon_l1a_exp5.0_bin1.nc\u001b[39m\u001b[38;5;124m'\u001b[39m\n",
      "File \u001b[0;32m~/TANGO_E2ES/EndtoEndProject/end_to_end/teds/im/python/instrument_model.py:185\u001b[0m, in \u001b[0;36mrun_instrument_model\u001b[0;34m(config_user)\u001b[0m\n\u001b[1;32m    183\u001b[0m \u001b[38;5;66;03m# Write output data\u001b[39;00m\n\u001b[1;32m    184\u001b[0m log\u001b[38;5;241m.\u001b[39minfo(\u001b[38;5;124m'\u001b[39m\u001b[38;5;124mWriting output data\u001b[39m\u001b[38;5;124m'\u001b[39m)\n\u001b[0;32m--> 185\u001b[0m \u001b[43mwrite_l1\u001b[49m\u001b[43m(\u001b[49m\u001b[43mconfig\u001b[49m\u001b[43m[\u001b[49m\u001b[38;5;124;43m'\u001b[39;49m\u001b[38;5;124;43mio\u001b[39;49m\u001b[38;5;124;43m'\u001b[39;49m\u001b[43m]\u001b[49m\u001b[43m[\u001b[49m\u001b[38;5;124;43m'\u001b[39;49m\u001b[38;5;124;43ml1a\u001b[39;49m\u001b[38;5;124;43m'\u001b[39;49m\u001b[43m]\u001b[49m\u001b[43m,\u001b[49m\u001b[43m \u001b[49m\u001b[43mconfig\u001b[49m\u001b[43m,\u001b[49m\u001b[43m \u001b[49m\u001b[43ml1_product\u001b[49m\u001b[43m)\u001b[49m\n\u001b[1;32m    187\u001b[0m \u001b[38;5;66;03m# If this is shown then the simulation ran successfully\u001b[39;00m\n\u001b[1;32m    188\u001b[0m print_heading(\u001b[38;5;124m'\u001b[39m\u001b[38;5;124mSuccess\u001b[39m\u001b[38;5;124m'\u001b[39m)\n",
      "File \u001b[0;32m~/TANGO_E2ES/EndtoEndProject/end_to_end/teds/l1al1b/python/io.py:436\u001b[0m, in \u001b[0;36mwrite_l1\u001b[0;34m(filename, config, l1_product)\u001b[0m\n\u001b[1;32m    433\u001b[0m var_timestamps \u001b[38;5;241m=\u001b[39m grp_attr\u001b[38;5;241m.\u001b[39mcreateVariable(\n\u001b[1;32m    434\u001b[0m     \u001b[38;5;124m'\u001b[39m\u001b[38;5;124mtime\u001b[39m\u001b[38;5;124m'\u001b[39m, \u001b[38;5;124m'\u001b[39m\u001b[38;5;124mf8\u001b[39m\u001b[38;5;124m'\u001b[39m, (dim_alt,), fill_value\u001b[38;5;241m=\u001b[39mdefault_fill_value)\n\u001b[1;32m    435\u001b[0m var_timestamps\u001b[38;5;241m.\u001b[39mlong_name \u001b[38;5;241m=\u001b[39m \u001b[38;5;124m'\u001b[39m\u001b[38;5;124mdetector image time\u001b[39m\u001b[38;5;124m'\u001b[39m\n\u001b[0;32m--> 436\u001b[0m var_timestamps\u001b[38;5;241m.\u001b[39munits \u001b[38;5;241m=\u001b[39m \u001b[43mnc_geo\u001b[49m\u001b[43m[\u001b[49m\u001b[38;5;124;43m'\u001b[39;49m\u001b[38;5;124;43mtime\u001b[39;49m\u001b[38;5;124;43m'\u001b[39;49m\u001b[43m]\u001b[49m\u001b[38;5;241m.\u001b[39munits\n\u001b[1;32m    437\u001b[0m var_timestamps\u001b[38;5;241m.\u001b[39mvalid_min \u001b[38;5;241m=\u001b[39m \u001b[38;5;241m0.0\u001b[39m\n\u001b[1;32m    438\u001b[0m var_timestamps\u001b[38;5;241m.\u001b[39mvalid_max \u001b[38;5;241m=\u001b[39m \u001b[38;5;241m172800.0\u001b[39m  \u001b[38;5;66;03m# 2 x day\u001b[39;00m\n",
      "File \u001b[0;32msrc/netCDF4/_netCDF4.pyx:2570\u001b[0m, in \u001b[0;36mnetCDF4._netCDF4.Dataset.__getitem__\u001b[0;34m()\u001b[0m\n",
      "\u001b[0;31mIndexError\u001b[0m: time not found in /"
     ]
    }
   ],
   "source": [
    "if(proc_im):\n",
    "    im_config= yaml.safe_load(open('./settings/im_config.yaml'))\n",
    "    im_config['io']['sgm'] = path + 'sgm/Tango_Carbon_sgm_radiance_exp5.0.nc'\n",
    "    im_config['io']['l1a'] = path + 'level1a/Tango_Carbon_l1a_exp5.0_bin5.nc'\n",
    "    im_config['detector']['binning_table_id'] = 5 \n",
    "    run_instrument_model(im_config)\n",
    "\n",
    "    im_config['io']['sgm'] = path + 'sgm/Tango_Carbon_sgm_radiance_exp5.0.nc'\n",
    "    im_config['io']['l1a'] = path + 'level1a/Tango_Carbon_l1a_exp5.0_bin1.nc'\n",
    "    im_config['detector']['binning_table_id'] = 1  \n",
    "    run_instrument_model(im_config)"
   ]
  },
  {
   "cell_type": "markdown",
   "metadata": {},
   "source": [
    "#### 8. L1B processing"
   ]
  },
  {
   "cell_type": "code",
   "execution_count": null,
   "metadata": {},
   "outputs": [],
   "source": [
    "if(proc_l1al1b):\n",
    "    l1al1b_config= yaml.safe_load(open('./settings/l1al1b_config.yaml'))\n",
    "    l1al1b_config['io']['l1a'] = path + 'level1a/Tango_Carbon_l1a_exp5.0_bin5.nc'\n",
    "    l1al1b_config['io']['l1b'] = path + 'level1b/Tango_Carbon_l1b_exp5.0_bin5.nc'\n",
    "    run_l1al1b(l1al1b_config)\n",
    "\n",
    "    l1al1b_config= yaml.safe_load(open('./settings/l1al1b_config.yaml'))\n",
    "    l1al1b_config['io']['l1a'] = path + 'level1a/Tango_Carbon_l1a_exp5.0_bin1.nc'\n",
    "    l1al1b_config['io']['l1b'] = path + 'level1b/Tango_Carbon_l1b_exp5.0_bin1.nc'\n",
    "    run_l1al1b(l1al1b_config)\n",
    "    # scale = 0.26\n",
    "    # file_l1b = path + 'level1b/Tango_Carbon_l1b_exp5.0_bin5.nc'\n",
    "    # file_l1b_scaled = path + 'level1b/Tango_Carbon_l1b_exp5.0_bin5_scaled.nc'\n",
    "    # scale_l1b(file_l1b, scale, file_l1b_scaled)"
   ]
  },
  {
   "cell_type": "markdown",
   "metadata": {},
   "source": [
    "### 9. Simplified L1B processor"
   ]
  },
  {
   "cell_type": "code",
   "execution_count": 9,
   "metadata": {},
   "outputs": [],
   "source": [
    "if(proc_siml1b):\n",
    "    siml1b_config= yaml.safe_load(open('./settings/siml1b_config.yaml'))\n",
    "    siml1b_config['io_files']['output_l1b'] = path + 'level1b/Tango_Carbon_l1b_exp5.0_sim.nc'\n",
    "    simplified_instrument_model_and_l1b_processor(siml1b_config)\n",
    "\n",
    "    # scale = 1.5\n",
    "    # file_l1b = path + 'level1b/Tango_Carbon_l1b_exp5.0_sim.nc'\n",
    "    # file_l1b_scaled = path + 'level1b/Tango_Carbon_l1b_exp5.0_sim_scaled.nc'\n",
    "    # scale_l1b(file_l1b, scale, file_l1b_scaled)"
   ]
  },
  {
   "cell_type": "markdown",
   "metadata": {},
   "source": [
    "### 10. Data analysis level 1B"
   ]
  },
  {
   "cell_type": "code",
   "execution_count": 10,
   "metadata": {},
   "outputs": [],
   "source": [
    "if(proc_data_aly_l1b):\n",
    "    \n",
    "    plt.rcParams.update({'font.size': 14,})\n",
    "    path ='/home/jochen/TANGO_E2ES/EndtoEndProject/data/interface_data/'\n",
    "\n",
    "    nact  = 100\n",
    "    nwave = 550\n",
    "\n",
    "    filenamel1b = path + 'level1b/Tango_Carbon_l1b_exp5.0_bin5.nc'\n",
    "    l1b_data = Dataset(filenamel1b)\n",
    "    wave_b5  = np.array(deepcopy(l1b_data['observation_data']['wavelength'][:]))\n",
    "    rad_b5   = np.array(deepcopy(l1b_data['observation_data']['radiance'][:]))\n",
    "    noise_b5 = np.array(deepcopy(l1b_data['observation_data']['radiance_stdev'][:]))\n",
    "    snr_b5   = rad_b5/noise_b5\n",
    "\n",
    "    filenamel1b = path + 'level1b/Tango_Carbon_l1b_exp5.0_bin1.nc'\n",
    "    l1b_data = Dataset(filenamel1b)\n",
    "    wave_b1  = np.array(deepcopy(l1b_data['observation_data']['wavelength'][:]))\n",
    "    rad_b1   = np.array(deepcopy(l1b_data['observation_data']['radiance'][:]))\n",
    "    noise_b1 = np.array(deepcopy(l1b_data['observation_data']['radiance_stdev'][:]))\n",
    "    snr_b1   = rad_b5/noise_b1\n",
    "\n",
    "    filenamel1b = path + 'level1b/Tango_Carbon_l1b_exp5.0_sim.nc'\n",
    "    l1b_data = Dataset(filenamel1b)\n",
    "    wave_sim  = np.array(deepcopy(l1b_data['observation_data']['wavelength'][:]))\n",
    "    rad_sim   = np.array(deepcopy(l1b_data['observation_data']['radiance'][:]))\n",
    "    noise_sim = np.array(deepcopy(l1b_data['observation_data']['radiance_stdev'][:]))\n",
    "    snr_sim   = rad_sim/noise_sim\n",
    "\n",
    "    # SGMRAD data \n",
    "    filename_lbl = path + 'sgm/Tango_Carbon_sgm_radiance_exp5.0.nc'\n",
    "    sgm_data = Dataset(filename_lbl)\n",
    "    wave_lbl = sgm_data['wavelength']\n",
    "    rad_lbl  = sgm_data['radiance']\n",
    "\n",
    "\n",
    "    fig = plt.figure(figsize=(28, 7), dpi=100,)\n",
    "    ax0 = fig.add_subplot(121)\n",
    "    ax0.plot(wave_lbl[:], rad_lbl[0,50,:], color = 'grey', alpha = 0.6, label = 'lbl')\n",
    "    ax0.plot(wave_sim[50,:], rad_sim[0,50,:], color = 'red', label = 'simplified l1b')\n",
    "    ax0.plot(wave_b5[50,:], rad_b5[0,50,:], color = 'blue', label = 'binning = 5')\n",
    "    ax0.plot(wave_b1[50,:], rad_b1[0,50,:], color = 'green', label = 'binning = 1')\n",
    "\n",
    "    ax0.set_ylim([0.0,3.5E16])\n",
    "    ax0.set_xlim([1590,1675])\n",
    "    plt.legend()\n",
    "\n",
    "    ax1 = fig.add_subplot(122)\n",
    "    ax1.plot(wave_sim[50,:], snr_sim[0,50,:], color = 'red', label = 'simplified l1b')\n",
    "    ax1.plot(wave_b5[50,:], snr_b5[0,50,:], color = 'blue', label = 'binning 5')\n",
    "    ax1.plot(wave_b1[50,:], snr_b1[0,50,:], color = 'green', label = 'binning 1')\n",
    "\n",
    "    ax1.set_xlim([1590,1685])\n",
    "#    ax1.set_ylim([0.0,600])\n",
    "\n",
    "    plt.legend()"
   ]
  },
  {
   "cell_type": "markdown",
   "metadata": {},
   "source": [
    "### 11. Level 2"
   ]
  },
  {
   "cell_type": "code",
   "execution_count": null,
   "metadata": {},
   "outputs": [],
   "source": [
    "if(proc_l1bl2):\n",
    "    l1bl2_config= yaml.safe_load(open('./settings/l1bl2_config.yaml'))\n",
    "\n",
    "    # l1bl2_config['io_files']['input_l1b'] = path + 'level1b/Tango_Carbon_l1b_exp5.0_bin5.nc'\n",
    "    # l1bl2_config['io_files']['output_l2'] = path + 'level2/Tango_Carbon_l2_exp5.0_bin5.nc'\n",
    "    # level1b_to_level2_processor(l1bl2_config)\n",
    "\n",
    "    l1bl2_config['io_files']['input_l1b'] = path + 'level1b/Tango_Carbon_l1b_exp5.0_bin1.nc'\n",
    "    l1bl2_config['io_files']['output_l2'] = path + 'level2/Tango_Carbon_l2_exp5.0_bin1.nc'\n",
    "    level1b_to_level2_processor(l1bl2_config)\n",
    "\n",
    "    l1bl2_config['io_files']['input_l1b'] = path + 'level1b/Tango_Carbon_l1b_exp5.0_sim.nc'\n",
    "    l1bl2_config['io_files']['output_l2'] = path + 'level2/Tango_Carbon_l2_exp5.0_sim.nc'\n",
    "    level1b_to_level2_processor(l1bl2_config)\n"
   ]
  },
  {
   "cell_type": "markdown",
   "metadata": {},
   "source": [
    "### 12. Data Analysis Level 2 "
   ]
  },
  {
   "cell_type": "code",
   "execution_count": null,
   "metadata": {},
   "outputs": [],
   "source": [
    "if(proc_data_aly_l2):\n",
    "    filen  = path + 'level2/Tango_Carbon_l2_exp5.0_bin5.nc'\n",
    "    l2_data  = Dataset(filen)\n",
    "    prec_xco2_proxy_bin5 = np.array(deepcopy(l2_data['precision XCO2 proxy'][:]).flatten())\n",
    "    xco2_proxy_bin5 = np.array(deepcopy(l2_data['XCO2 proxy'][:]).flatten())    \n",
    "    xco2_ns_bin5 = np.array(deepcopy(l2_data['non_scattering_retrieval']['XCO2'][:]).flatten())\n",
    "    l2prec_median_bin5 = np.median(prec_xco2_proxy_bin5)\n",
    "    chi2_bin5 = np.array(deepcopy(l2_data['diagnostics']['chi2'][:]).flatten())\n",
    "    print(np.median(chi2_bin5))\n",
    "    print('binning 5:',l2prec_median_bin5)\n",
    "\n",
    "    filen  = path + 'level2/Tango_Carbon_l2_exp5.0_bin1.nc'\n",
    "    l2_data  = Dataset(filen)\n",
    "    prec_xco2_proxy_bin1 = np.array(deepcopy(l2_data['precision XCO2 proxy'][:]).flatten())\n",
    "    xco2_proxy_bin1 = np.array(deepcopy(l2_data['XCO2 proxy'][:]).flatten())    \n",
    "    xco2_ns_bin1 = np.array(deepcopy(l2_data['non_scattering_retrieval']['XCO2'][:]).flatten())\n",
    "    l2prec_median_bin1 = np.median(prec_xco2_proxy_bin1)\n",
    "    chi2_bin1 = np.array(deepcopy(l2_data['diagnostics']['chi2'][:]).flatten())\n",
    "    print(np.median(chi2_bin1))\n",
    "    print('binning 1:',l2prec_median_bin1)\n",
    "\n",
    "    filen  = path + 'level2/Tango_Carbon_l2_exp5.0_sim.nc'\n",
    "    l2_data  = Dataset(filen)\n",
    "    prec_xco2_proxy_sim = np.array(deepcopy(l2_data['precision XCO2 proxy'][:]).flatten())\n",
    "    xco2_proxy_sim = np.array(deepcopy(l2_data['XCO2 proxy'][:]).flatten())\n",
    "    xco2_ns_sim = np.array(deepcopy(l2_data['non_scattering_retrieval']['XCO2'][:]).flatten())\n",
    "    l2prec_median_sim = np.median(prec_xco2_proxy_sim)\n",
    "    chi2_sim = np.array(deepcopy(l2_data['diagnostics']['chi2'][:]).flatten())\n",
    "    print(np.median(chi2_sim))\n",
    "    print('siml1b:',l2prec_median_sim)\n",
    " \n",
    "    fig = plt.figure(figsize=(28, 7), dpi=100,)\n",
    "    ax0 = fig.add_subplot(121)\n",
    "    \n",
    "    ax0.plot(prec_xco2_proxy_bin5, color = 'blue', label = 'binning 5')\n",
    "    ax0.plot(prec_xco2_proxy_bin1, color = 'green', label = 'binning 1')\n",
    "    ax0.plot(prec_xco2_proxy_sim, color = 'red', label = 'simplified L1B')\n",
    "    plt.legend()\n",
    " \n",
    "    ax0.set_xlabel('$n_{act}$')\n",
    "    ax0.set_ylabel('$XCO_2$ precision [ppm]')\n",
    "\n",
    "    ax1 = fig.add_subplot(122)\n",
    "            \n",
    "    ax1.plot(xco2_ns_bin5, color = 'blue', label = 'binning 5')\n",
    "    ax1.plot(xco2_ns_bin1, color = 'green', label = 'binning 1')\n",
    "    ax1.plot(xco2_ns_sim, color = 'red', label = 'simplified L1B')\n",
    "\n",
    "    plt.legend()\n",
    " \n",
    "    ax0.set_xlabel('$n_{act}$')\n",
    "    ax0.set_ylabel('$XCO_2$ [ppm]')\n",
    "    "
   ]
  }
 ],
 "metadata": {
  "kernelspec": {
   "display_name": ".venv",
   "language": "python",
   "name": "python3"
  },
  "language_info": {
   "codemirror_mode": {
    "name": "ipython",
    "version": 3
   },
   "file_extension": ".py",
   "mimetype": "text/x-python",
   "name": "python",
   "nbconvert_exporter": "python",
   "pygments_lexer": "ipython3",
   "version": "3.11.0rc1"
  }
 },
 "nbformat": 4,
 "nbformat_minor": 2
}
