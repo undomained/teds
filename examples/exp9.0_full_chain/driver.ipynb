{
 "cells": [
  {
   "cell_type": "markdown",
   "metadata": {},
   "source": [
    "### Setup the working environment be sure to select the kernel environment teds"
   ]
  },
  {
   "cell_type": "code",
   "execution_count": 1,
   "metadata": {},
   "outputs": [],
   "source": [
    "import sys\n",
    "import os\n",
    "sys.path.append(\"/nfs/Tango/users/tobiasb/teds/\")\n",
    "sys.path.append(\"/nfs/Tango/users/tobiasb/jupyter/TEDS_l4/\")\n",
    "os.chdir(\"/nfs/Tango/users/tobiasb/teds/\")"
   ]
  },
  {
   "cell_type": "markdown",
   "metadata": {},
   "source": [
    "### Import the teds modules"
   ]
  },
  {
   "cell_type": "code",
   "execution_count": 2,
   "metadata": {},
   "outputs": [],
   "source": [
    "\n",
    "from teds.gm.gm import geometry_module\n",
    "from teds.sgm import Carbon_radiation_scene_generation\n",
    "from teds.sgm import geoscene_generation\n",
    "from teds.sgm import download_sentinel2_albedo\n",
    "from teds.siml1b import simplified_instrument_model_and_l1b_processor\n",
    "from teds.l1l2 import level1b_to_level2_processor\n",
    "from teds.l1l2 import simplified_level1b_to_level2_processor\n",
    "from subprocess import run\n",
    "import yaml\n",
    "\n",
    "from l4 import level2_to_level4_processor"
   ]
  },
  {
   "cell_type": "markdown",
   "metadata": {},
   "source": [
    "### read in the standard configuration"
   ]
  },
  {
   "cell_type": "code",
   "execution_count": 3,
   "metadata": {},
   "outputs": [],
   "source": [
    "\n",
    "gm_conf = yaml.safe_load(open('yaml_files/gm.yaml'))\n",
    "sgm_conf = yaml.safe_load(open('yaml_files/sgm.yaml'))\n",
    "siml1b_conf = yaml.safe_load(open('yaml_files/siml1b.yaml'))\n",
    "im_conf = yaml.safe_load(open('yaml_files/siml1b.yaml'))\n",
    "l1_conf = yaml.safe_load(open('yaml_files/siml1b.yaml'))\n",
    "l2_conf = yaml.safe_load(open('yaml_files/l2.yaml'))\n",
    "siml2_conf = yaml.safe_load(open('yaml_files/siml2.yaml'))\n",
    "l4_conf = yaml.safe_load(open(\"/nfs/Tango/users/tobiasb/jupyter/TEDS_l4/l4.yaml\"))\n",
    "teds_build = '/nfs/Tango/users/tobiasb/teds/teds/'\n",
    "tango_im = teds_build + 'im/build/tango_im.x'\n",
    "tango_l1b = teds_build + 'l1al1b/build/tango_l1b.x'\n",
    "\n",
    "#print(siml2_conf)\n",
    "siml2_conf[\"noise_model\"][\"intensity_xco2_proxy\"]=0.05\n"
   ]
  },
  {
   "cell_type": "markdown",
   "metadata": {},
   "source": [
    "### running the code"
   ]
  },
  {
   "cell_type": "code",
   "execution_count": 4,
   "metadata": {},
   "outputs": [
    {
     "name": "stdout",
     "output_type": "stream",
     "text": [
      "data/siml2.nc\n",
      "=> l1bl2 finished successfully\n",
      "Processing with method: microhh_fit\n",
      "Fitted scaling factor (alpha, XCO2 proxy): 730.673 ± 2.129\n",
      "Grouped NetCDF file 'data/l4.nc' created successfully.\n",
      "=> Level 2 to Level 4 processing finished successfully\n"
     ]
    }
   ],
   "source": [
    "#geometry_module(gm_conf)\n",
    "\n",
    "#download_sentinel2_albedo(sgm_conf)\n",
    "\n",
    "#geoscene_generation(sgm_conf)\n",
    "#Carbon_radiation_scene_generation(sgm_conf)\n",
    "\n",
    "#run([tango_im, 'yaml_files/im.yaml'])\n",
    "#run([tango_l1b, 'yaml_files/l1b.yaml'])\n",
    "\n",
    "#simplified_instrument_model_and_l1b_processor(siml1b_conf)\n",
    "\n",
    "#level1b_to_level2_processor(l2_conf)\n",
    "l2_product=simplified_level1b_to_level2_processor(siml2_conf)\n",
    "\n",
    "l4_product=level2_to_level4_processor(l4_conf)"
   ]
  }
 ],
 "metadata": {
  "kernelspec": {
   "display_name": "teds",
   "language": "python",
   "name": "python3"
  },
  "language_info": {
   "codemirror_mode": {
    "name": "ipython",
    "version": 3
   },
   "file_extension": ".py",
   "mimetype": "text/x-python",
   "name": "python",
   "nbconvert_exporter": "python",
   "pygments_lexer": "ipython3",
   "version": "3.9.19"
  }
 },
 "nbformat": 4,
 "nbformat_minor": 2
}
